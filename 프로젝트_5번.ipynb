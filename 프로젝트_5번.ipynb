{
 "cells": [
  {
   "cell_type": "code",
   "execution_count": 1,
   "id": "dc4d655e-094e-4dc8-aa52-8a02461e4015",
   "metadata": {},
   "outputs": [],
   "source": [
    "import pandas as pd\n",
    "import numpy as np\n",
    "from datetime import datetime\n",
    "from sklearn.model_selection import train_test_split\n",
    "from sklearn.linear_model import LogisticRegression\n",
    "from sklearn.metrics import confusion_matrix, classification_report, roc_auc_score\n",
    "from pandas.tseries.offsets import DateOffset"
   ]
  },
  {
   "cell_type": "code",
   "execution_count": 2,
   "id": "90326e26-1b47-44f5-807e-e286a23b8503",
   "metadata": {},
   "outputs": [],
   "source": [
    "df_sales = pd.read_csv('Sales_Data05.csv')\n",
    "df_member = pd.read_csv('Member_Data.csv',encoding='cp949')\n",
    "df_product = pd.read_csv('Product_Data.csv')"
   ]
  },
  {
   "cell_type": "code",
   "execution_count": 4,
   "id": "2ade199f-cebf-4a22-afa6-80c677ae9f78",
   "metadata": {},
   "outputs": [
    {
     "name": "stdout",
     "output_type": "stream",
     "text": [
      "        주문일시      배송완료일  배송기간  배송지연여부\n",
      "0 2021-01-02        NaT   NaN       0\n",
      "1 2021-01-02 2021-01-02   0.0       0\n",
      "2 2021-01-02 2021-01-03   1.0       0\n",
      "3 2021-01-02 2021-01-03   1.0       0\n",
      "4 2021-01-02        NaT   NaN       0\n"
     ]
    }
   ],
   "source": [
    "# 1. 데이터 전처리 및 고객별 피처 엔지니어링\n",
    "# =============================================================================\n",
    "\n",
    "# (1) 날짜 형식 변환: 주문일시가 문자열이라면 datetime으로 변환\n",
    "df_sales['주문일시'] = pd.to_datetime(df_sales['주문일시'], errors='coerce')\n",
    "df_sales['주문일시'] = pd.to_datetime(df_sales['주문일시'], errors='coerce')\n",
    "df_sales['배송완료일'] = pd.to_datetime(df_sales['배송완료일'], errors='coerce')\n",
    "df_sales['배송기간'] = (df_sales['배송완료일'] - df_sales['주문일시']).dt.days \n",
    "\n",
    "#배송 지연 여부 생성: 배송기간이 2일 초과이면 1, 아니면 0\n",
    "threshold_days = 2  # 이 값을 변경하면 기준 조정 가능\n",
    "df_sales['배송지연여부'] = (df_sales['배송기간'] > threshold_days).astype(int)\n",
    "\n",
    "print(df_sales[['주문일시', '배송완료일', '배송기간', '배송지연여부']].head())\n",
    "\n",
    "# (2) 구독여부 전처리: 문자열인 경우 소문자화 및 매핑 (예: 'true', 'yes' -> True)\n",
    "df_member['구독여부'] = df_member['구독여부'].astype(str).str.strip().str.lower()\n",
    "mapping_dict = {'true': True, 'false': False, 'yes': True, 'no': False}\n",
    "df_member['구독여부'] = df_member['구독여부'].map(mapping_dict)\n",
    "\n",
    "# -- 고객별 구매 내역, 배송지연 빈도 계산 --\n",
    "# (a) 고객별 총 주문 건수, 총 구매 금액, 배송지연 주문 수 계산\n",
    "customer_orders = df_sales.groupby('회원번호').agg(\n",
    "    total_orders = ('회원번호', 'count'),\n",
    "    total_purchase_amount = ('구매금액', 'sum'),\n",
    "    shipping_delay_count = ('배송지연여부', 'sum')   # 배송지연여부가 1이면 배송 지연으로 간주\n",
    ").reset_index()\n",
    "\n",
    "customer_orders['shipping_delay_freq'] = customer_orders['shipping_delay_count'] / customer_orders['total_orders']\n",
    "\n",
    "# (b) 고객별 평균 구매 주기 계산\n",
    "def compute_avg_cycle(dates):\n",
    "    dates = dates.sort_values()\n",
    "    if len(dates) < 2:\n",
    "        return np.nan\n",
    "    # 주문일시 간 차이를 일(day) 단위로 계산\n",
    "    diffs = dates.diff().dropna().dt.days\n",
    "    return diffs.mean()\n",
    "\n",
    "purchase_cycle = df_sales.groupby('회원번호')['주문일시'].apply(compute_avg_cycle).reset_index(name='avg_purchase_cycle')\n",
    "\n",
    "# (c) 고객별 마지막 주문일 계산\n",
    "last_order = df_sales.groupby('회원번호')['주문일시'].max().reset_index(name='last_order_date')\n",
    "\n",
    "# (d) 고객별 피처 병합\n",
    "customer_features = customer_orders.merge(purchase_cycle, on='회원번호', how='left')\n",
    "customer_features = customer_features.merge(last_order, on='회원번호', how='left')\n",
    "\n",
    "# (e) 회원 정보(구독 여부) 병합\n",
    "customer_features = customer_features.merge(df_member[['회원번호', '구독여부']], on='회원번호', how='left')\n",
    "\n",
    "# (f) 결측치 처리: 평균 구매 주기가 NaN인 경우 전체 중앙값으로 대체\n",
    "customer_features['avg_purchase_cycle'] = customer_features['avg_purchase_cycle'].fillna(customer_features['avg_purchase_cycle'].median())"
   ]
  },
  {
   "cell_type": "code",
   "execution_count": 5,
   "id": "c1ce5a7c-dbd6-4e7f-b981-c9011889fa2e",
   "metadata": {},
   "outputs": [],
   "source": [
    "# 2. 라벨 생성: 유령/이탈 고객 여부 (목표 변수)\n",
    "# =============================================================================\n",
    "\n",
    "# 유령(이탈) 고객 정의: 탈퇴하지 않은 고객 중, 최근 3개월 이내에 주문 기록이 없는 고객\n",
    "# 기준 날짜: df_sales의 최대 주문일\n",
    "reference_date = df_sales['주문일시'].max()\n",
    "threshold_date = reference_date - DateOffset(months=3)\n",
    "\n",
    "# 고객별 마지막 주문일이 threshold_date보다 이전이면 유령/이탈 고객으로 라벨 1, 아니면 0\n",
    "customer_features['is_ghost'] = (customer_features['last_order_date'] < threshold_date).astype(int)"
   ]
  },
  {
   "cell_type": "code",
   "execution_count": 8,
   "id": "0b6335a4-0162-46b2-b760-9afee28634c2",
   "metadata": {},
   "outputs": [
    {
     "name": "stdout",
     "output_type": "stream",
     "text": [
      "고객 피처 예시:\n",
      "       회원번호  total_orders  total_purchase_amount  shipping_delay_count  \\\n",
      "0  18764160            36                 811902                     5   \n",
      "1  18792000             1                   9955                     0   \n",
      "2  18942336            81                1418288                     7   \n",
      "3  18949760             2                  35130                     0   \n",
      "4  19391488             1                   3159                     0   \n",
      "\n",
      "   shipping_delay_freq  avg_purchase_cycle last_order_date  구독여부  is_ghost  \n",
      "0             0.138889            7.885714      2021-10-06     0         0  \n",
      "1             0.000000            4.555556      2021-04-05     0         1  \n",
      "2             0.086420            3.550000      2021-10-20     0         0  \n",
      "3             0.000000            0.000000      2021-09-30     0         0  \n",
      "4             0.000000            4.555556      2021-05-19     0         1  \n"
     ]
    }
   ],
   "source": [
    "# 3. 모델 입력 변수 구성\n",
    "# =============================================================================\n",
    "\n",
    "# 구독 여부는 Boolean이므로 int형(0,1)으로 변환\n",
    "# NaN 값을 0으로 채우고, int형으로 변환 (구독하지 않은 경우를 0으로 간주)\n",
    "customer_features['구독여부'] = customer_features['구독여부'].fillna(0).astype(int)\n",
    "\n",
    "\n",
    "# 선택할 피처: 구매 내역, 구매 주기, 배송지연 빈도, 구독 여부\n",
    "X = customer_features[['total_orders', 'total_purchase_amount', 'avg_purchase_cycle', 'shipping_delay_freq', '구독여부']]\n",
    "y = customer_features['is_ghost']\n",
    "\n",
    "print(\"고객 피처 예시:\")\n",
    "print(customer_features.head())"
   ]
  },
  {
   "cell_type": "code",
   "execution_count": 9,
   "id": "ef980ed5-38bd-4777-b9c8-9769a1bd5175",
   "metadata": {},
   "outputs": [],
   "source": [
    "# 4. 모델 학습: 로지스틱 회귀를 통한 확률 예측 (또는 분류)\n",
    "# =============================================================================\n",
    "\n",
    "# 학습/테스트 데이터 분할\n",
    "X_train, X_test, y_train, y_test = train_test_split(X, y, test_size=0.3, random_state=42)\n",
    "\n",
    "# 로지스틱 회귀 모델 (클래스 불균형 문제에 대응하여 class_weight='balanced' 적용)\n",
    "log_reg = LogisticRegression(max_iter=1000, class_weight='balanced', random_state=42)\n",
    "log_reg.fit(X_train, y_train)\n",
    "\n",
    "# 예측 확률 및 클래스\n",
    "y_pred_proba = log_reg.predict_proba(X_test)[:, 1]  # ghost 고객일 확률\n",
    "y_pred = log_reg.predict(X_test)\n"
   ]
  },
  {
   "cell_type": "code",
   "execution_count": 10,
   "id": "1de5019e-5060-43c4-b73c-b030b33b4b67",
   "metadata": {},
   "outputs": [
    {
     "name": "stdout",
     "output_type": "stream",
     "text": [
      "\n",
      "----- Ghost/Churn Prediction Model Evaluation -----\n",
      "혼동 행렬:\n",
      "[[1932  747]\n",
      " [ 125  958]]\n",
      "\n",
      "분류 리포트:\n",
      "              precision    recall  f1-score   support\n",
      "\n",
      "           0       0.94      0.72      0.82      2679\n",
      "           1       0.56      0.88      0.69      1083\n",
      "\n",
      "    accuracy                           0.77      3762\n",
      "   macro avg       0.75      0.80      0.75      3762\n",
      "weighted avg       0.83      0.77      0.78      3762\n",
      "\n",
      "ROC AUC Score: 0.8641478797679845\n",
      "\n",
      "예시 고객의 ghost/churn 될 확률: 3.90%\n"
     ]
    },
    {
     "name": "stderr",
     "output_type": "stream",
     "text": [
      "C:\\Users\\sylvi\\anaconda3\\Lib\\site-packages\\sklearn\\base.py:493: UserWarning: X does not have valid feature names, but LogisticRegression was fitted with feature names\n",
      "  warnings.warn(\n"
     ]
    }
   ],
   "source": [
    "# 5. 모델 평가\n",
    "# =============================================================================\n",
    "\n",
    "print(\"\\n----- Ghost/Churn Prediction Model Evaluation -----\")\n",
    "print(\"혼동 행렬:\")\n",
    "print(confusion_matrix(y_test, y_pred))\n",
    "print(\"\\n분류 리포트:\")\n",
    "print(classification_report(y_test, y_pred))\n",
    "print(\"ROC AUC Score:\", roc_auc_score(y_test, y_pred_proba))\n",
    "\n",
    "# 예시: 특정 고객에 대해 예측 확률 확인\n",
    "example_customer = X_test.iloc[0]\n",
    "example_probability = log_reg.predict_proba([example_customer])[0, 1]\n",
    "print(\"\\n예시 고객의 ghost/churn 될 확률: {:.2f}%\".format(example_probability * 100))"
   ]
  }
 ],
 "metadata": {
  "kernelspec": {
   "display_name": "Python 3 (ipykernel)",
   "language": "python",
   "name": "python3"
  },
  "language_info": {
   "codemirror_mode": {
    "name": "ipython",
    "version": 3
   },
   "file_extension": ".py",
   "mimetype": "text/x-python",
   "name": "python",
   "nbconvert_exporter": "python",
   "pygments_lexer": "ipython3",
   "version": "3.12.4"
  }
 },
 "nbformat": 4,
 "nbformat_minor": 5
}
