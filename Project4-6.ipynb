{
 "cells": [
  {
   "cell_type": "code",
   "execution_count": 3,
   "id": "2054a812-2a68-4c46-bb5e-4698cfe0b23f",
   "metadata": {},
   "outputs": [],
   "source": [
    "import pandas as pd\n",
    "import matplotlib as mpl\n",
    "import matplotlib.pyplot as plt\n",
    "import seaborn as sns\n",
    "import scipy.stats as stats\n",
    "import plotly.express as px\n",
    "mpl.rc('font', family='Malgun Gothic')"
   ]
  },
  {
   "cell_type": "code",
   "execution_count": 4,
   "id": "04d455f9-a380-41b4-929f-8aa0e033c1eb",
   "metadata": {},
   "outputs": [],
   "source": [
    "df_member = pd.read_csv('Member_Data.csv', encoding='EUC-KR')\n",
    "df_product = pd.read_csv('Product_Data.csv')\n",
    "df_sales = pd.read_csv('Sales_Data05.csv')"
   ]
  },
  {
   "cell_type": "code",
   "execution_count": 157,
   "id": "74a2c092-899f-462b-be3c-20289754285a",
   "metadata": {},
   "outputs": [
    {
     "data": {
      "text/html": [
       "<div>\n",
       "<style scoped>\n",
       "    .dataframe tbody tr th:only-of-type {\n",
       "        vertical-align: middle;\n",
       "    }\n",
       "\n",
       "    .dataframe tbody tr th {\n",
       "        vertical-align: top;\n",
       "    }\n",
       "\n",
       "    .dataframe thead th {\n",
       "        text-align: right;\n",
       "    }\n",
       "</style>\n",
       "<table border=\"1\" class=\"dataframe\">\n",
       "  <thead>\n",
       "    <tr style=\"text-align: right;\">\n",
       "      <th></th>\n",
       "      <th>Unnamed: 0</th>\n",
       "      <th>회원번호</th>\n",
       "      <th>회원상태</th>\n",
       "      <th>성별</th>\n",
       "      <th>나이</th>\n",
       "      <th>등록카드</th>\n",
       "      <th>결혼</th>\n",
       "      <th>구독여부</th>\n",
       "      <th>주소지</th>\n",
       "      <th>세부주소지</th>\n",
       "    </tr>\n",
       "  </thead>\n",
       "  <tbody>\n",
       "    <tr>\n",
       "      <th>0</th>\n",
       "      <td>0</td>\n",
       "      <td>18764160</td>\n",
       "      <td>정상회원</td>\n",
       "      <td>여</td>\n",
       "      <td>68</td>\n",
       "      <td>농협중앙회</td>\n",
       "      <td>기혼</td>\n",
       "      <td>False</td>\n",
       "      <td>서울특별시</td>\n",
       "      <td>성동구</td>\n",
       "    </tr>\n",
       "    <tr>\n",
       "      <th>1</th>\n",
       "      <td>1</td>\n",
       "      <td>18792000</td>\n",
       "      <td>정상회원</td>\n",
       "      <td>남</td>\n",
       "      <td>83</td>\n",
       "      <td>연결앱결제</td>\n",
       "      <td>NaN</td>\n",
       "      <td>False</td>\n",
       "      <td>강원도</td>\n",
       "      <td>강릉시</td>\n",
       "    </tr>\n",
       "    <tr>\n",
       "      <th>2</th>\n",
       "      <td>2</td>\n",
       "      <td>18942336</td>\n",
       "      <td>정상회원</td>\n",
       "      <td>여</td>\n",
       "      <td>39</td>\n",
       "      <td>신한은행</td>\n",
       "      <td>기혼</td>\n",
       "      <td>False</td>\n",
       "      <td>인천광역시</td>\n",
       "      <td>중구</td>\n",
       "    </tr>\n",
       "    <tr>\n",
       "      <th>3</th>\n",
       "      <td>3</td>\n",
       "      <td>18949760</td>\n",
       "      <td>정상회원</td>\n",
       "      <td>여</td>\n",
       "      <td>73</td>\n",
       "      <td>기업은행</td>\n",
       "      <td>NaN</td>\n",
       "      <td>NaN</td>\n",
       "      <td>강원도</td>\n",
       "      <td>홍천군</td>\n",
       "    </tr>\n",
       "    <tr>\n",
       "      <th>4</th>\n",
       "      <td>4</td>\n",
       "      <td>19391488</td>\n",
       "      <td>정상회원</td>\n",
       "      <td>여</td>\n",
       "      <td>52</td>\n",
       "      <td>연결앱결제</td>\n",
       "      <td>기혼</td>\n",
       "      <td>False</td>\n",
       "      <td>대전광역시</td>\n",
       "      <td>중구</td>\n",
       "    </tr>\n",
       "  </tbody>\n",
       "</table>\n",
       "</div>"
      ],
      "text/plain": [
       "   Unnamed: 0      회원번호  회원상태 성별  나이   등록카드   결혼   구독여부    주소지 세부주소지\n",
       "0           0  18764160  정상회원  여  68  농협중앙회   기혼  False  서울특별시   성동구\n",
       "1           1  18792000  정상회원  남  83  연결앱결제  NaN  False    강원도   강릉시\n",
       "2           2  18942336  정상회원  여  39   신한은행   기혼  False  인천광역시    중구\n",
       "3           3  18949760  정상회원  여  73   기업은행  NaN    NaN    강원도   홍천군\n",
       "4           4  19391488  정상회원  여  52  연결앱결제   기혼  False  대전광역시    중구"
      ]
     },
     "execution_count": 157,
     "metadata": {},
     "output_type": "execute_result"
    }
   ],
   "source": [
    "df_member.head(5)"
   ]
  },
  {
   "cell_type": "code",
   "execution_count": 7,
   "id": "78dc7b91-bd11-462f-920e-f1e150dcfb86",
   "metadata": {},
   "outputs": [
    {
     "data": {
      "text/html": [
       "<div>\n",
       "<style scoped>\n",
       "    .dataframe tbody tr th:only-of-type {\n",
       "        vertical-align: middle;\n",
       "    }\n",
       "\n",
       "    .dataframe tbody tr th {\n",
       "        vertical-align: top;\n",
       "    }\n",
       "\n",
       "    .dataframe thead th {\n",
       "        text-align: right;\n",
       "    }\n",
       "</style>\n",
       "<table border=\"1\" class=\"dataframe\">\n",
       "  <thead>\n",
       "    <tr style=\"text-align: right;\">\n",
       "      <th></th>\n",
       "      <th>제품번호</th>\n",
       "      <th>물품명</th>\n",
       "      <th>물품대분류</th>\n",
       "      <th>물품중분류</th>\n",
       "      <th>상품중량</th>\n",
       "    </tr>\n",
       "  </thead>\n",
       "  <tbody>\n",
       "    <tr>\n",
       "      <th>0</th>\n",
       "      <td>100021V2_0</td>\n",
       "      <td>2단무늬컵</td>\n",
       "      <td>식기/편백</td>\n",
       "      <td>자기</td>\n",
       "      <td>1p</td>\n",
       "    </tr>\n",
       "    <tr>\n",
       "      <th>1</th>\n",
       "      <td>100022V2_1</td>\n",
       "      <td>7곡딸기롤과자</td>\n",
       "      <td>과자</td>\n",
       "      <td>스낵</td>\n",
       "      <td>100g/10개입</td>\n",
       "    </tr>\n",
       "    <tr>\n",
       "      <th>2</th>\n",
       "      <td>100023V2_2</td>\n",
       "      <td>7곡참식</td>\n",
       "      <td>식사대용</td>\n",
       "      <td>선식/생식</td>\n",
       "      <td>700g</td>\n",
       "    </tr>\n",
       "    <tr>\n",
       "      <th>3</th>\n",
       "      <td>100024V2_3</td>\n",
       "      <td>가리비</td>\n",
       "      <td>생물수산</td>\n",
       "      <td>패류/갑각류</td>\n",
       "      <td>1.5kg</td>\n",
       "    </tr>\n",
       "    <tr>\n",
       "      <th>4</th>\n",
       "      <td>100025V2_3</td>\n",
       "      <td>가리비</td>\n",
       "      <td>생물수산</td>\n",
       "      <td>패류/갑각류</td>\n",
       "      <td>1kg</td>\n",
       "    </tr>\n",
       "  </tbody>\n",
       "</table>\n",
       "</div>"
      ],
      "text/plain": [
       "         제품번호      물품명  물품대분류   물품중분류       상품중량\n",
       "0  100021V2_0    2단무늬컵  식기/편백      자기         1p\n",
       "1  100022V2_1  7곡딸기롤과자     과자      스낵  100g/10개입\n",
       "2  100023V2_2     7곡참식   식사대용   선식/생식       700g\n",
       "3  100024V2_3      가리비   생물수산  패류/갑각류      1.5kg\n",
       "4  100025V2_3      가리비   생물수산  패류/갑각류        1kg"
      ]
     },
     "execution_count": 7,
     "metadata": {},
     "output_type": "execute_result"
    }
   ],
   "source": [
    "df_product.head(5)"
   ]
  },
  {
   "cell_type": "code",
   "execution_count": 55,
   "id": "e94c15dc-d6f6-42ad-951e-a43bb0d66e9c",
   "metadata": {},
   "outputs": [
    {
     "data": {
      "text/html": [
       "<div>\n",
       "<style scoped>\n",
       "    .dataframe tbody tr th:only-of-type {\n",
       "        vertical-align: middle;\n",
       "    }\n",
       "\n",
       "    .dataframe tbody tr th {\n",
       "        vertical-align: top;\n",
       "    }\n",
       "\n",
       "    .dataframe thead th {\n",
       "        text-align: right;\n",
       "    }\n",
       "</style>\n",
       "<table border=\"1\" class=\"dataframe\">\n",
       "  <thead>\n",
       "    <tr style=\"text-align: right;\">\n",
       "      <th></th>\n",
       "      <th>회원번호</th>\n",
       "      <th>회원상태</th>\n",
       "      <th>구매수량</th>\n",
       "      <th>구매금액</th>\n",
       "      <th>주문일시</th>\n",
       "      <th>배송시작일</th>\n",
       "      <th>배송완료일</th>\n",
       "      <th>사용 적립금</th>\n",
       "      <th>사용 포인트 네이버</th>\n",
       "      <th>주문취소여부</th>\n",
       "      <th>주문시간</th>\n",
       "      <th>제품번호</th>\n",
       "      <th>배송시작일_dt</th>\n",
       "      <th>배송완료일_dt</th>\n",
       "      <th>배송소모일</th>\n",
       "    </tr>\n",
       "  </thead>\n",
       "  <tbody>\n",
       "    <tr>\n",
       "      <th>0</th>\n",
       "      <td>1032097472</td>\n",
       "      <td>정상회원</td>\n",
       "      <td>1.0</td>\n",
       "      <td>7083</td>\n",
       "      <td>2021-01-02</td>\n",
       "      <td>NaN</td>\n",
       "      <td>NaN</td>\n",
       "      <td>0</td>\n",
       "      <td>0</td>\n",
       "      <td>주문취소</td>\n",
       "      <td>오후 12:60</td>\n",
       "      <td>100021783V2_1337</td>\n",
       "      <td>NaT</td>\n",
       "      <td>NaT</td>\n",
       "      <td>NaN</td>\n",
       "    </tr>\n",
       "    <tr>\n",
       "      <th>1</th>\n",
       "      <td>1032097472</td>\n",
       "      <td>정상회원</td>\n",
       "      <td>1.0</td>\n",
       "      <td>29865</td>\n",
       "      <td>2021-01-02</td>\n",
       "      <td>2021-01-02</td>\n",
       "      <td>2021-01-02</td>\n",
       "      <td>0</td>\n",
       "      <td>0</td>\n",
       "      <td>NaN</td>\n",
       "      <td>오후 12:60</td>\n",
       "      <td>100022137V2_1606</td>\n",
       "      <td>2021-01-02</td>\n",
       "      <td>2021-01-02</td>\n",
       "      <td>0.0</td>\n",
       "    </tr>\n",
       "    <tr>\n",
       "      <th>2</th>\n",
       "      <td>1032097472</td>\n",
       "      <td>정상회원</td>\n",
       "      <td>1.0</td>\n",
       "      <td>23164</td>\n",
       "      <td>2021-01-02</td>\n",
       "      <td>2021-01-02</td>\n",
       "      <td>2021-01-03</td>\n",
       "      <td>0</td>\n",
       "      <td>0</td>\n",
       "      <td>NaN</td>\n",
       "      <td>오후 12:60</td>\n",
       "      <td>100021452V2_1113</td>\n",
       "      <td>2021-01-02</td>\n",
       "      <td>2021-01-03</td>\n",
       "      <td>1.0</td>\n",
       "    </tr>\n",
       "    <tr>\n",
       "      <th>3</th>\n",
       "      <td>369152832</td>\n",
       "      <td>정상회원</td>\n",
       "      <td>1.0</td>\n",
       "      <td>16655</td>\n",
       "      <td>2021-01-02</td>\n",
       "      <td>2021-01-02</td>\n",
       "      <td>2021-01-03</td>\n",
       "      <td>0</td>\n",
       "      <td>0</td>\n",
       "      <td>NaN</td>\n",
       "      <td>오후 12:60</td>\n",
       "      <td>10002931V2_708</td>\n",
       "      <td>2021-01-02</td>\n",
       "      <td>2021-01-03</td>\n",
       "      <td>1.0</td>\n",
       "    </tr>\n",
       "    <tr>\n",
       "      <th>4</th>\n",
       "      <td>1032097472</td>\n",
       "      <td>정상회원</td>\n",
       "      <td>1.0</td>\n",
       "      <td>8423</td>\n",
       "      <td>2021-01-02</td>\n",
       "      <td>NaN</td>\n",
       "      <td>NaN</td>\n",
       "      <td>0</td>\n",
       "      <td>0</td>\n",
       "      <td>주문취소</td>\n",
       "      <td>오후 12:60</td>\n",
       "      <td>100022085V2_1559</td>\n",
       "      <td>NaT</td>\n",
       "      <td>NaT</td>\n",
       "      <td>NaN</td>\n",
       "    </tr>\n",
       "  </tbody>\n",
       "</table>\n",
       "</div>"
      ],
      "text/plain": [
       "         회원번호  회원상태  구매수량   구매금액       주문일시       배송시작일       배송완료일  사용 적립금  \\\n",
       "0  1032097472  정상회원   1.0   7083 2021-01-02         NaN         NaN       0   \n",
       "1  1032097472  정상회원   1.0  29865 2021-01-02  2021-01-02  2021-01-02       0   \n",
       "2  1032097472  정상회원   1.0  23164 2021-01-02  2021-01-02  2021-01-03       0   \n",
       "3   369152832  정상회원   1.0  16655 2021-01-02  2021-01-02  2021-01-03       0   \n",
       "4  1032097472  정상회원   1.0   8423 2021-01-02         NaN         NaN       0   \n",
       "\n",
       "   사용 포인트 네이버 주문취소여부      주문시간              제품번호   배송시작일_dt   배송완료일_dt  배송소모일  \n",
       "0           0   주문취소  오후 12:60  100021783V2_1337        NaT        NaT    NaN  \n",
       "1           0    NaN  오후 12:60  100022137V2_1606 2021-01-02 2021-01-02    0.0  \n",
       "2           0    NaN  오후 12:60  100021452V2_1113 2021-01-02 2021-01-03    1.0  \n",
       "3           0    NaN  오후 12:60    10002931V2_708 2021-01-02 2021-01-03    1.0  \n",
       "4           0   주문취소  오후 12:60  100022085V2_1559        NaT        NaT    NaN  "
      ]
     },
     "execution_count": 55,
     "metadata": {},
     "output_type": "execute_result"
    }
   ],
   "source": [
    "df_sales.head(5)"
   ]
  },
  {
   "cell_type": "markdown",
   "id": "abd8840d-fd4f-4b2d-9e21-23db925eb141",
   "metadata": {},
   "source": [
    "- 배송지연율"
   ]
  },
  {
   "cell_type": "code",
   "execution_count": 5,
   "id": "1cf61dc2-1cac-40d2-bff4-f190d244f8ca",
   "metadata": {},
   "outputs": [
    {
     "name": "stdout",
     "output_type": "stream",
     "text": [
      "배송지연율은 15.226769321511712% 이다.\n"
     ]
    }
   ],
   "source": [
    "# '배송시작일'과 '배송완료일' datetime 전환\n",
    "df_sales['배송시작일_dt'] = pd.to_datetime(df_sales['배송시작일'])\n",
    "df_sales['배송완료일_dt'] = pd.to_datetime(df_sales['배송완료일'])\n",
    "\n",
    "# '배송소모일' 구하기\n",
    "df_sales['배송소모일'] = (df_sales['배송완료일_dt'] - df_sales['배송시작일_dt']).dt.days\n",
    "\n",
    "# 배송 지연 수\n",
    "delivery_late_cond = df_sales['배송소모일'] >= 2\n",
    "delivery_late_num = len(df_sales.loc[delivery_late_cond].index)\n",
    "\n",
    "# 전체 배송 수\n",
    "delivery_cond = pd.notna(df_sales['배송시작일'])\n",
    "total_delivery_num = len(df_sales.loc[delivery_cond].index)\n",
    "\n",
    "# 배송지연율\n",
    "delivery_late_rate = delivery_late_num / total_delivery_num * 100\n",
    "print(f\"배송지연율은 {delivery_late_rate}% 이다.\")"
   ]
  },
  {
   "cell_type": "markdown",
   "id": "bb0c5e69-06d4-49c1-aa29-0312d3d57e2e",
   "metadata": {},
   "source": [
    "- 배송 지연을 겪은 고객 생성\n",
    "    - df_delivery_late : 데이터 프레임 명\n",
    "    - df_delivery_late['배송소모일'] : 배송까지 걸린 날짜를 담은 column명\n",
    "    - df_delivery_late['배송지연'] : 배송지연 여부를 1(True), 0(False)로 나타낸 column명 ('배송소모일'이 2일 이상 일 시 '배송지연'으로 판단)\n",
    "    - df_delivery_late['회원번호'] : 배송지연 경험을 겪은 회원들"
   ]
  },
  {
   "cell_type": "code",
   "execution_count": 7,
   "id": "4b2897b5-0183-4741-b5fb-24743e1f62fe",
   "metadata": {},
   "outputs": [
    {
     "name": "stderr",
     "output_type": "stream",
     "text": [
      "C:\\Users\\김태림\\AppData\\Local\\Temp\\ipykernel_13624\\1126338575.py:11: SettingWithCopyWarning: \n",
      "A value is trying to be set on a copy of a slice from a DataFrame.\n",
      "Try using .loc[row_indexer,col_indexer] = value instead\n",
      "\n",
      "See the caveats in the documentation: https://pandas.pydata.org/pandas-docs/stable/user_guide/indexing.html#returning-a-view-versus-a-copy\n",
      "  df_delivery_late['배송소모일'] = df_delivery_late['배송소모일'].fillna(0)\n",
      "C:\\Users\\김태림\\AppData\\Local\\Temp\\ipykernel_13624\\1126338575.py:14: SettingWithCopyWarning: \n",
      "A value is trying to be set on a copy of a slice from a DataFrame.\n",
      "Try using .loc[row_indexer,col_indexer] = value instead\n",
      "\n",
      "See the caveats in the documentation: https://pandas.pydata.org/pandas-docs/stable/user_guide/indexing.html#returning-a-view-versus-a-copy\n",
      "  df_delivery_late['배송지연'] = df_delivery_late['배송소모일'].apply(get_delay)\n"
     ]
    },
    {
     "data": {
      "text/html": [
       "<div>\n",
       "<style scoped>\n",
       "    .dataframe tbody tr th:only-of-type {\n",
       "        vertical-align: middle;\n",
       "    }\n",
       "\n",
       "    .dataframe tbody tr th {\n",
       "        vertical-align: top;\n",
       "    }\n",
       "\n",
       "    .dataframe thead th {\n",
       "        text-align: right;\n",
       "    }\n",
       "</style>\n",
       "<table border=\"1\" class=\"dataframe\">\n",
       "  <thead>\n",
       "    <tr style=\"text-align: right;\">\n",
       "      <th></th>\n",
       "      <th>회원번호</th>\n",
       "      <th>주문일시</th>\n",
       "      <th>주문취소여부</th>\n",
       "      <th>배송소모일</th>\n",
       "      <th>배송지연</th>\n",
       "    </tr>\n",
       "  </thead>\n",
       "  <tbody>\n",
       "    <tr>\n",
       "      <th>10</th>\n",
       "      <td>438814080</td>\n",
       "      <td>2021-01-03</td>\n",
       "      <td>NaN</td>\n",
       "      <td>2.0</td>\n",
       "      <td>1</td>\n",
       "    </tr>\n",
       "    <tr>\n",
       "      <th>15</th>\n",
       "      <td>438814080</td>\n",
       "      <td>2021-01-03</td>\n",
       "      <td>NaN</td>\n",
       "      <td>2.0</td>\n",
       "      <td>1</td>\n",
       "    </tr>\n",
       "    <tr>\n",
       "      <th>16</th>\n",
       "      <td>438814080</td>\n",
       "      <td>2021-01-03</td>\n",
       "      <td>NaN</td>\n",
       "      <td>2.0</td>\n",
       "      <td>1</td>\n",
       "    </tr>\n",
       "    <tr>\n",
       "      <th>19</th>\n",
       "      <td>869925760</td>\n",
       "      <td>2021-01-04</td>\n",
       "      <td>NaN</td>\n",
       "      <td>2.0</td>\n",
       "      <td>1</td>\n",
       "    </tr>\n",
       "    <tr>\n",
       "      <th>26</th>\n",
       "      <td>673796672</td>\n",
       "      <td>2021-01-06</td>\n",
       "      <td>NaN</td>\n",
       "      <td>2.0</td>\n",
       "      <td>1</td>\n",
       "    </tr>\n",
       "  </tbody>\n",
       "</table>\n",
       "</div>"
      ],
      "text/plain": [
       "         회원번호        주문일시 주문취소여부  배송소모일  배송지연\n",
       "10  438814080  2021-01-03    NaN    2.0     1\n",
       "15  438814080  2021-01-03    NaN    2.0     1\n",
       "16  438814080  2021-01-03    NaN    2.0     1\n",
       "19  869925760  2021-01-04    NaN    2.0     1\n",
       "26  673796672  2021-01-06    NaN    2.0     1"
      ]
     },
     "execution_count": 7,
     "metadata": {},
     "output_type": "execute_result"
    }
   ],
   "source": [
    "def get_delay(x) :\n",
    "    if x >= 2 :\n",
    "        return 1\n",
    "    else :\n",
    "        return 0\n",
    "        \n",
    "# 데이터프레임 생성\n",
    "df_delivery_late = df_sales[['회원번호', '주문일시', '주문취소여부', '배송소모일']]\n",
    "\n",
    "# '배송소모일' 결측값 0으로 처리\n",
    "df_delivery_late['배송소모일'] = df_delivery_late['배송소모일'].fillna(0)\n",
    "\n",
    "# '배송지연' column 구하기\n",
    "df_delivery_late['배송지연'] = df_delivery_late['배송소모일'].apply(get_delay)\n",
    "\n",
    "# 배송지연을 겪은 고객만 남기기\n",
    "customer_cond = df_delivery_late['배송지연'] == 1\n",
    "df_delivery_late = df_delivery_late.loc[customer_cond]\n",
    "\n",
    "df_delivery_late.head(5)"
   ]
  },
  {
   "cell_type": "markdown",
   "id": "dc79acca-e6c0-4006-8a43-c6fa654ee36d",
   "metadata": {},
   "source": [
    "- 배송지연을 경험한 고객의 재구매율 계산\n",
    "    - 재구매 : 주문취소를 제외한 주문일시 날짜가 2개 이상인 경우\n",
    "    - (배송지연을 경험한 고객의 재구매율) = (배송지연을 경함한 고객 중 재구매한 고객 수) / (배송지연을 경험한 고객 수) * 100\n",
    "    - 재구매O : 1(True)\n",
    "    - 재구매X : 0(False)"
   ]
  },
  {
   "cell_type": "code",
   "execution_count": 11,
   "id": "73aad860-5458-4e38-ae1f-6af0f847bcd3",
   "metadata": {},
   "outputs": [
    {
     "name": "stdout",
     "output_type": "stream",
     "text": [
      "배송지연을 경험한 고객의 재구매율은 7.021953908125315% 이다.\n"
     ]
    }
   ],
   "source": [
    "# '주문일시' datetime 전환\n",
    "df_delivery_late['주문일시'] = pd.to_datetime(df_delivery_late['주문일시'])\n",
    "\n",
    "# 주문취소가 아닌 데이터만 df_order_delivery_late에 저장\n",
    "order_cond = df_delivery_late['주문취소여부'] != '주문취소'\n",
    "df_order_delivery_late = df_delivery_late.loc[order_cond]\n",
    "\n",
    "# 가장 작은 '주문일시'와 가장 큰 '주문일시'를 확인하기\n",
    "df_orderdate_delivery_late = df_order_delivery_late.pivot_table(index = '회원번호', values = '주문일시', aggfunc = ['min', 'max']).reset_index()\n",
    "\n",
    "# 재구매율 구하기\n",
    "df_orderdate_delivery_late['재구매기간'] = (df_orderdate_delivery_late['max']['주문일시'] - df_orderdate_delivery_late['min']['주문일시']).dt.days\n",
    "repurchase_cond = df_orderdate_delivery_late['재구매기간'] >= 1\n",
    "repurchase_customer_num = len(df_orderdate_delivery_late['재구매기간'].loc[repurchase_cond].index)\n",
    "total_customer_num = len(df_delivery_late.index)\n",
    "delivery_late_customer_repurchase_rate = repurchase_customer_num / total_customer_num * 100\n",
    "\n",
    "print(f\"배송지연을 경험한 고객의 재구매율은 {delivery_late_customer_repurchase_rate}% 이다.\")\n",
    "\n",
    "# min주문일시와 max주문일시가 같으면 재구매X, 다르면 재구매O\n",
    "# '재구매' : '재구매기간'이 1 이상이면 1, 아니면 0\n",
    "df_orderdate_delivery_late['재구매'] = (df_orderdate_delivery_late['재구매기간'] >= 1).astype(int)"
   ]
  },
  {
   "cell_type": "code",
   "execution_count": 93,
   "id": "f4b93ed5-c2a3-4eaf-8dc4-d64583cf4329",
   "metadata": {},
   "outputs": [
    {
     "data": {
      "text/html": [
       "<div>\n",
       "<style scoped>\n",
       "    .dataframe tbody tr th:only-of-type {\n",
       "        vertical-align: middle;\n",
       "    }\n",
       "\n",
       "    .dataframe tbody tr th {\n",
       "        vertical-align: top;\n",
       "    }\n",
       "\n",
       "    .dataframe thead tr th {\n",
       "        text-align: left;\n",
       "    }\n",
       "</style>\n",
       "<table border=\"1\" class=\"dataframe\">\n",
       "  <thead>\n",
       "    <tr>\n",
       "      <th></th>\n",
       "      <th>회원번호</th>\n",
       "      <th>min</th>\n",
       "      <th>max</th>\n",
       "      <th>재구매기간</th>\n",
       "      <th>재구매</th>\n",
       "    </tr>\n",
       "    <tr>\n",
       "      <th></th>\n",
       "      <th></th>\n",
       "      <th>주문일시</th>\n",
       "      <th>주문일시</th>\n",
       "      <th></th>\n",
       "      <th></th>\n",
       "    </tr>\n",
       "  </thead>\n",
       "  <tbody>\n",
       "    <tr>\n",
       "      <th>0</th>\n",
       "      <td>18764160</td>\n",
       "      <td>2021-01-23</td>\n",
       "      <td>2021-10-06</td>\n",
       "      <td>256</td>\n",
       "      <td>1</td>\n",
       "    </tr>\n",
       "    <tr>\n",
       "      <th>1</th>\n",
       "      <td>18942336</td>\n",
       "      <td>2021-01-09</td>\n",
       "      <td>2021-10-20</td>\n",
       "      <td>284</td>\n",
       "      <td>1</td>\n",
       "    </tr>\n",
       "    <tr>\n",
       "      <th>2</th>\n",
       "      <td>19627200</td>\n",
       "      <td>2021-01-09</td>\n",
       "      <td>2021-10-18</td>\n",
       "      <td>282</td>\n",
       "      <td>1</td>\n",
       "    </tr>\n",
       "    <tr>\n",
       "      <th>3</th>\n",
       "      <td>19727424</td>\n",
       "      <td>2021-07-18</td>\n",
       "      <td>2021-10-09</td>\n",
       "      <td>83</td>\n",
       "      <td>1</td>\n",
       "    </tr>\n",
       "    <tr>\n",
       "      <th>4</th>\n",
       "      <td>19996544</td>\n",
       "      <td>2021-01-20</td>\n",
       "      <td>2021-10-31</td>\n",
       "      <td>284</td>\n",
       "      <td>1</td>\n",
       "    </tr>\n",
       "    <tr>\n",
       "      <th>...</th>\n",
       "      <td>...</td>\n",
       "      <td>...</td>\n",
       "      <td>...</td>\n",
       "      <td>...</td>\n",
       "      <td>...</td>\n",
       "    </tr>\n",
       "    <tr>\n",
       "      <th>9379</th>\n",
       "      <td>1644705536</td>\n",
       "      <td>2021-10-30</td>\n",
       "      <td>2021-10-30</td>\n",
       "      <td>0</td>\n",
       "      <td>0</td>\n",
       "    </tr>\n",
       "    <tr>\n",
       "      <th>9380</th>\n",
       "      <td>1644957952</td>\n",
       "      <td>2021-10-30</td>\n",
       "      <td>2021-10-30</td>\n",
       "      <td>0</td>\n",
       "      <td>0</td>\n",
       "    </tr>\n",
       "    <tr>\n",
       "      <th>9381</th>\n",
       "      <td>1670400000</td>\n",
       "      <td>2021-01-02</td>\n",
       "      <td>2021-10-31</td>\n",
       "      <td>302</td>\n",
       "      <td>1</td>\n",
       "    </tr>\n",
       "    <tr>\n",
       "      <th>9382</th>\n",
       "      <td>1670606016</td>\n",
       "      <td>2021-04-02</td>\n",
       "      <td>2021-10-12</td>\n",
       "      <td>193</td>\n",
       "      <td>1</td>\n",
       "    </tr>\n",
       "    <tr>\n",
       "      <th>9383</th>\n",
       "      <td>1670620864</td>\n",
       "      <td>2021-04-06</td>\n",
       "      <td>2021-06-02</td>\n",
       "      <td>57</td>\n",
       "      <td>1</td>\n",
       "    </tr>\n",
       "  </tbody>\n",
       "</table>\n",
       "<p>9384 rows × 5 columns</p>\n",
       "</div>"
      ],
      "text/plain": [
       "            회원번호        min        max 재구매기간 재구매\n",
       "                       주문일시       주문일시          \n",
       "0       18764160 2021-01-23 2021-10-06   256   1\n",
       "1       18942336 2021-01-09 2021-10-20   284   1\n",
       "2       19627200 2021-01-09 2021-10-18   282   1\n",
       "3       19727424 2021-07-18 2021-10-09    83   1\n",
       "4       19996544 2021-01-20 2021-10-31   284   1\n",
       "...          ...        ...        ...   ...  ..\n",
       "9379  1644705536 2021-10-30 2021-10-30     0   0\n",
       "9380  1644957952 2021-10-30 2021-10-30     0   0\n",
       "9381  1670400000 2021-01-02 2021-10-31   302   1\n",
       "9382  1670606016 2021-04-02 2021-10-12   193   1\n",
       "9383  1670620864 2021-04-06 2021-06-02    57   1\n",
       "\n",
       "[9384 rows x 5 columns]"
      ]
     },
     "execution_count": 93,
     "metadata": {},
     "output_type": "execute_result"
    }
   ],
   "source": [
    "df_orderdate_delivery_late"
   ]
  },
  {
   "cell_type": "code",
   "execution_count": 115,
   "id": "e965e63c-8643-4179-92e7-2eebe4fb9b9c",
   "metadata": {},
   "outputs": [
    {
     "data": {
      "text/html": [
       "<div>\n",
       "<style scoped>\n",
       "    .dataframe tbody tr th:only-of-type {\n",
       "        vertical-align: middle;\n",
       "    }\n",
       "\n",
       "    .dataframe tbody tr th {\n",
       "        vertical-align: top;\n",
       "    }\n",
       "\n",
       "    .dataframe thead th {\n",
       "        text-align: right;\n",
       "    }\n",
       "</style>\n",
       "<table border=\"1\" class=\"dataframe\">\n",
       "  <thead>\n",
       "    <tr style=\"text-align: right;\">\n",
       "      <th></th>\n",
       "      <th>회원번호</th>\n",
       "      <th>배송지연유무</th>\n",
       "    </tr>\n",
       "  </thead>\n",
       "  <tbody>\n",
       "    <tr>\n",
       "      <th>0</th>\n",
       "      <td>18764160</td>\n",
       "      <td>8</td>\n",
       "    </tr>\n",
       "    <tr>\n",
       "      <th>1</th>\n",
       "      <td>18792000</td>\n",
       "      <td>0</td>\n",
       "    </tr>\n",
       "    <tr>\n",
       "      <th>2</th>\n",
       "      <td>18942336</td>\n",
       "      <td>9</td>\n",
       "    </tr>\n",
       "    <tr>\n",
       "      <th>3</th>\n",
       "      <td>18949760</td>\n",
       "      <td>0</td>\n",
       "    </tr>\n",
       "    <tr>\n",
       "      <th>4</th>\n",
       "      <td>19391488</td>\n",
       "      <td>0</td>\n",
       "    </tr>\n",
       "    <tr>\n",
       "      <th>...</th>\n",
       "      <td>...</td>\n",
       "      <td>...</td>\n",
       "    </tr>\n",
       "    <tr>\n",
       "      <th>12535</th>\n",
       "      <td>1644957952</td>\n",
       "      <td>1</td>\n",
       "    </tr>\n",
       "    <tr>\n",
       "      <th>12536</th>\n",
       "      <td>1645334720</td>\n",
       "      <td>0</td>\n",
       "    </tr>\n",
       "    <tr>\n",
       "      <th>12537</th>\n",
       "      <td>1670400000</td>\n",
       "      <td>210</td>\n",
       "    </tr>\n",
       "    <tr>\n",
       "      <th>12538</th>\n",
       "      <td>1670606016</td>\n",
       "      <td>4</td>\n",
       "    </tr>\n",
       "    <tr>\n",
       "      <th>12539</th>\n",
       "      <td>1670620864</td>\n",
       "      <td>3</td>\n",
       "    </tr>\n",
       "  </tbody>\n",
       "</table>\n",
       "<p>12540 rows × 2 columns</p>\n",
       "</div>"
      ],
      "text/plain": [
       "             회원번호  배송지연유무\n",
       "0        18764160       8\n",
       "1        18792000       0\n",
       "2        18942336       9\n",
       "3        18949760       0\n",
       "4        19391488       0\n",
       "...           ...     ...\n",
       "12535  1644957952       1\n",
       "12536  1645334720       0\n",
       "12537  1670400000     210\n",
       "12538  1670606016       4\n",
       "12539  1670620864       3\n",
       "\n",
       "[12540 rows x 2 columns]"
      ]
     },
     "execution_count": 115,
     "metadata": {},
     "output_type": "execute_result"
    }
   ],
   "source": [
    "#df_orderdate_delivery_late_temp = df_orderdate_delivery_late[['회원번호', '재구매']]\n",
    "#df_orderdate_delivery_late_temp = df_orderdate_delivery_late_temp.reset_index()  # 다중 인덱스를 열로 변환\n",
    "#df1 = df_orderdate_delivery_late_temp.merge(df_delivery_late_frequency, on='회원번호', how='inner')\n",
    "df1 = df_delivery_late.pivot_table(index = '회원번호', values = '배송지연유무', aggfunc = 'sum').reset_index()\n",
    "df1 # 배송지연유무 -> 배송지연빈도\n",
    "\n",
    "# 배송지연빈도에 따른 재구매율 그래프 시각화"
   ]
  },
  {
   "cell_type": "markdown",
   "id": "1086c3df-60bc-4dbc-91f0-9d6ada737c93",
   "metadata": {},
   "source": [
    "- 배송지연을 경험한 고객의 고객이탈률\n",
    "    - (배송지연을 경험한 고객의 고객이탈률) = (배송지연을 경험한 고객 중 고객이탈 수) / (배송지연을 경험한 고객 수) * 100"
   ]
  },
  {
   "cell_type": "code",
   "execution_count": 13,
   "id": "01a1801f-69f8-4945-b406-e08fdfca73ee",
   "metadata": {},
   "outputs": [
    {
     "name": "stdout",
     "output_type": "stream",
     "text": [
      "배송지연을 경험한 고객의 이탈률은 1.1082693947144073% 이다.\n"
     ]
    }
   ],
   "source": [
    "df_temp_delivery_late = df_delivery_late.pivot_table(index = '회원번호', values = '배송지연', aggfunc = 'sum').reset_index()\n",
    "df_temp_member = df_member[['회원번호', '회원상태', '구독여부']]\n",
    "df_DeliveLate_customer = df_temp_delivery_late.merge(df_temp_member, on='회원번호', how='inner')\n",
    "\n",
    "# '정상회원'이 아닐 경우 '고객 이탈'로 가정\n",
    "cond_leave = df_DeliveLate_customer['회원상태'] != \"정상회원\"\n",
    "\n",
    "leave_num = len(df_DeliveLate_customer.loc[cond_leave].index) # 이탈 고객 수\n",
    "member_num = len(df_DeliveLate_customer['회원상태']) # 전체 고객 수\n",
    "\n",
    "# 고객 이탈률 계산\n",
    "customer_leave_rate = leave_num / member_num * 100\n",
    "print(f\"배송지연을 경험한 고객의 이탈률은 {customer_leave_rate}% 이다.\")"
   ]
  },
  {
   "cell_type": "markdown",
   "id": "321a945f-4918-4fa8-80f3-ff31b9263c2d",
   "metadata": {},
   "source": [
    "- 배송지연을 경험한 고객의 구독유무 계산"
   ]
  },
  {
   "cell_type": "code",
   "execution_count": 124,
   "id": "294f19ee-7de5-4b8b-8e4e-4ecb50478754",
   "metadata": {},
   "outputs": [
    {
     "data": {
      "text/plain": [
       "구독여부\n",
       "False    6289\n",
       "True     1325\n",
       "Name: count, dtype: int64"
      ]
     },
     "execution_count": 124,
     "metadata": {},
     "output_type": "execute_result"
    }
   ],
   "source": [
    "df_DeliveLate_customer['구독여부'].value_counts()"
   ]
  },
  {
   "cell_type": "markdown",
   "id": "3f6691ae-da4f-4901-a62e-6d24ef0abcc4",
   "metadata": {},
   "source": [
    "- 가설검정"
   ]
  },
  {
   "cell_type": "code",
   "execution_count": null,
   "id": "3816bc8f-1dba-47c4-8a59-8f9f45019dbc",
   "metadata": {},
   "outputs": [],
   "source": []
  },
  {
   "cell_type": "markdown",
   "id": "50a62919-462e-4f55-9835-36e3338230e0",
   "metadata": {},
   "source": [
    "- 구매빈도, 배송지연빈도, 구독유무들을 input으로 받아 특정 고객의 이탈이나 유령고객이 될 확률을 계산하는 모델 생성.\n",
    "    - 구매빈도 : 물품 구매를 n개 하였는지\n",
    "    - 배송지연빈도 : 배송 지연이 n번 되었는지\n",
    "    - 구독 유무 : True / False"
   ]
  },
  {
   "cell_type": "markdown",
   "id": "fdb95a7e-7478-4ebe-9426-0ebe68634fe7",
   "metadata": {},
   "source": [
    "- 회원별 구매빈도 추출"
   ]
  },
  {
   "cell_type": "code",
   "execution_count": 27,
   "id": "91cdf6d0-7afc-45fc-9e36-58272b252d03",
   "metadata": {},
   "outputs": [
    {
     "data": {
      "text/html": [
       "<div>\n",
       "<style scoped>\n",
       "    .dataframe tbody tr th:only-of-type {\n",
       "        vertical-align: middle;\n",
       "    }\n",
       "\n",
       "    .dataframe tbody tr th {\n",
       "        vertical-align: top;\n",
       "    }\n",
       "\n",
       "    .dataframe thead th {\n",
       "        text-align: right;\n",
       "    }\n",
       "</style>\n",
       "<table border=\"1\" class=\"dataframe\">\n",
       "  <thead>\n",
       "    <tr style=\"text-align: right;\">\n",
       "      <th></th>\n",
       "      <th>회원번호</th>\n",
       "      <th>구매빈도</th>\n",
       "    </tr>\n",
       "  </thead>\n",
       "  <tbody>\n",
       "    <tr>\n",
       "      <th>0</th>\n",
       "      <td>18764160</td>\n",
       "      <td>44.0</td>\n",
       "    </tr>\n",
       "    <tr>\n",
       "      <th>1</th>\n",
       "      <td>18792000</td>\n",
       "      <td>1.0</td>\n",
       "    </tr>\n",
       "    <tr>\n",
       "      <th>2</th>\n",
       "      <td>18942336</td>\n",
       "      <td>86.0</td>\n",
       "    </tr>\n",
       "  </tbody>\n",
       "</table>\n",
       "</div>"
      ],
      "text/plain": [
       "       회원번호  구매빈도\n",
       "0  18764160  44.0\n",
       "1  18792000   1.0\n",
       "2  18942336  86.0"
      ]
     },
     "execution_count": 27,
     "metadata": {},
     "output_type": "execute_result"
    }
   ],
   "source": [
    "df_sales_frequency = df_sales.pivot_table(index = '회원번호', values = '구매수량', aggfunc = 'sum').reset_index()\n",
    "df_sales_frequency = df_sales_frequency.rename(columns={'구매수량': '구매빈도'})\n",
    "df_sales_frequency.head(3)"
   ]
  },
  {
   "cell_type": "markdown",
   "id": "64ca919c-83a2-4842-8ceb-53d52e9929f6",
   "metadata": {},
   "source": [
    "- 회원별 배송지연 빈도 추출"
   ]
  },
  {
   "cell_type": "code",
   "execution_count": 15,
   "id": "2f23f796-16aa-454a-91ad-f390fb17868e",
   "metadata": {},
   "outputs": [
    {
     "name": "stderr",
     "output_type": "stream",
     "text": [
      "C:\\Users\\김태림\\AppData\\Local\\Temp\\ipykernel_13624\\3372552690.py:24: SettingWithCopyWarning: \n",
      "A value is trying to be set on a copy of a slice from a DataFrame.\n",
      "Try using .loc[row_indexer,col_indexer] = value instead\n",
      "\n",
      "See the caveats in the documentation: https://pandas.pydata.org/pandas-docs/stable/user_guide/indexing.html#returning-a-view-versus-a-copy\n",
      "  df_delivery_late['배송소모일'] = df_delivery_late['배송소모일'].fillna(0)\n",
      "C:\\Users\\김태림\\AppData\\Local\\Temp\\ipykernel_13624\\3372552690.py:27: SettingWithCopyWarning: \n",
      "A value is trying to be set on a copy of a slice from a DataFrame.\n",
      "Try using .loc[row_indexer,col_indexer] = value instead\n",
      "\n",
      "See the caveats in the documentation: https://pandas.pydata.org/pandas-docs/stable/user_guide/indexing.html#returning-a-view-versus-a-copy\n",
      "  df_delivery_late['배송지연'] = df_delivery_late['배송소모일'].apply(get_delay)\n"
     ]
    },
    {
     "data": {
      "text/html": [
       "<div>\n",
       "<style scoped>\n",
       "    .dataframe tbody tr th:only-of-type {\n",
       "        vertical-align: middle;\n",
       "    }\n",
       "\n",
       "    .dataframe tbody tr th {\n",
       "        vertical-align: top;\n",
       "    }\n",
       "\n",
       "    .dataframe thead th {\n",
       "        text-align: right;\n",
       "    }\n",
       "</style>\n",
       "<table border=\"1\" class=\"dataframe\">\n",
       "  <thead>\n",
       "    <tr style=\"text-align: right;\">\n",
       "      <th></th>\n",
       "      <th>회원번호</th>\n",
       "      <th>배송지연빈도</th>\n",
       "    </tr>\n",
       "  </thead>\n",
       "  <tbody>\n",
       "    <tr>\n",
       "      <th>0</th>\n",
       "      <td>18764160</td>\n",
       "      <td>8</td>\n",
       "    </tr>\n",
       "    <tr>\n",
       "      <th>1</th>\n",
       "      <td>18792000</td>\n",
       "      <td>0</td>\n",
       "    </tr>\n",
       "    <tr>\n",
       "      <th>2</th>\n",
       "      <td>18942336</td>\n",
       "      <td>9</td>\n",
       "    </tr>\n",
       "  </tbody>\n",
       "</table>\n",
       "</div>"
      ],
      "text/plain": [
       "       회원번호  배송지연빈도\n",
       "0  18764160       8\n",
       "1  18792000       0\n",
       "2  18942336       9"
      ]
     },
     "execution_count": 15,
     "metadata": {},
     "output_type": "execute_result"
    }
   ],
   "source": [
    "def get_delay(x) :\n",
    "    if x >= 2 :\n",
    "        return 1 #'True'\n",
    "    else :\n",
    "        return 0 #'False'\n",
    "\n",
    "def get_delay_frequency(x) :\n",
    "    if x >= 1 :\n",
    "        return 1 #'True'\n",
    "    else :\n",
    "        return 0 #'False'\n",
    "\n",
    "# '배송시작일'과 '배송완료일' datetime 전환\n",
    "df_sales['배송시작일_dt'] = pd.to_datetime(df_sales['배송시작일'])\n",
    "df_sales['배송완료일_dt'] = pd.to_datetime(df_sales['배송완료일'])\n",
    "\n",
    "# '배송소모일' 구하기\n",
    "df_sales['배송소모일'] = (df_sales['배송완료일_dt'] - df_sales['배송시작일_dt']).dt.days\n",
    "\n",
    "# 데이터프레임 생성\n",
    "df_delivery_late = df_sales[['회원번호', '주문일시', '배송소모일']]\n",
    "\n",
    "# '배송소모일' 결측값 0으로 처리\n",
    "df_delivery_late['배송소모일'] = df_delivery_late['배송소모일'].fillna(0)\n",
    "\n",
    "# '배송지연' column 구하기\n",
    "df_delivery_late['배송지연'] = df_delivery_late['배송소모일'].apply(get_delay)\n",
    "\n",
    "# 회원별 주문 당 배송 지연 유무 확인\n",
    "df_delivery_late = df_delivery_late.pivot_table(index = ['회원번호', '주문일시'], values = '배송지연', aggfunc = 'sum').reset_index()\n",
    "df_delivery_late = df_delivery_late.rename(columns={'배송지연': '배송지연유무'})\n",
    "\n",
    "# 회원별 배송지연 빈도 확인\n",
    "df_delivery_late['배송지연유무'] = df_delivery_late['배송지연유무'].apply(get_delay_frequency)\n",
    "df_delivery_late_frequency = df_delivery_late.pivot_table(index = '회원번호', values = '배송지연유무', aggfunc = 'sum').reset_index()\n",
    "df_delivery_late_frequency = df_delivery_late_frequency.rename(columns={'배송지연유무': '배송지연빈도'})\n",
    "\n",
    "df_delivery_late_frequency.head(3)"
   ]
  },
  {
   "cell_type": "markdown",
   "id": "ca892041-3746-438a-a283-76e2b4b81df1",
   "metadata": {},
   "source": [
    "- 회원별 구독 유무 추출"
   ]
  },
  {
   "cell_type": "code",
   "execution_count": 17,
   "id": "d558b1ba-1883-4869-b502-b069cb6e1cda",
   "metadata": {},
   "outputs": [
    {
     "name": "stderr",
     "output_type": "stream",
     "text": [
      "C:\\Users\\김태림\\AppData\\Local\\Temp\\ipykernel_13624\\2727611584.py:8: SettingWithCopyWarning: \n",
      "A value is trying to be set on a copy of a slice from a DataFrame.\n",
      "Try using .loc[row_indexer,col_indexer] = value instead\n",
      "\n",
      "See the caveats in the documentation: https://pandas.pydata.org/pandas-docs/stable/user_guide/indexing.html#returning-a-view-versus-a-copy\n",
      "  df_subscription['구독여부'] = df_subscription['구독여부'].fillna('False')\n",
      "C:\\Users\\김태림\\AppData\\Local\\Temp\\ipykernel_13624\\2727611584.py:9: SettingWithCopyWarning: \n",
      "A value is trying to be set on a copy of a slice from a DataFrame.\n",
      "Try using .loc[row_indexer,col_indexer] = value instead\n",
      "\n",
      "See the caveats in the documentation: https://pandas.pydata.org/pandas-docs/stable/user_guide/indexing.html#returning-a-view-versus-a-copy\n",
      "  df_subscription['구독여부'] = df_subscription['구독여부'].apply(get_subscription)\n"
     ]
    },
    {
     "data": {
      "text/html": [
       "<div>\n",
       "<style scoped>\n",
       "    .dataframe tbody tr th:only-of-type {\n",
       "        vertical-align: middle;\n",
       "    }\n",
       "\n",
       "    .dataframe tbody tr th {\n",
       "        vertical-align: top;\n",
       "    }\n",
       "\n",
       "    .dataframe thead th {\n",
       "        text-align: right;\n",
       "    }\n",
       "</style>\n",
       "<table border=\"1\" class=\"dataframe\">\n",
       "  <thead>\n",
       "    <tr style=\"text-align: right;\">\n",
       "      <th></th>\n",
       "      <th>회원번호</th>\n",
       "      <th>구독유무</th>\n",
       "    </tr>\n",
       "  </thead>\n",
       "  <tbody>\n",
       "    <tr>\n",
       "      <th>0</th>\n",
       "      <td>18764160</td>\n",
       "      <td>0</td>\n",
       "    </tr>\n",
       "    <tr>\n",
       "      <th>1</th>\n",
       "      <td>18792000</td>\n",
       "      <td>0</td>\n",
       "    </tr>\n",
       "    <tr>\n",
       "      <th>2</th>\n",
       "      <td>18942336</td>\n",
       "      <td>0</td>\n",
       "    </tr>\n",
       "  </tbody>\n",
       "</table>\n",
       "</div>"
      ],
      "text/plain": [
       "       회원번호  구독유무\n",
       "0  18764160     0\n",
       "1  18792000     0\n",
       "2  18942336     0"
      ]
     },
     "execution_count": 17,
     "metadata": {},
     "output_type": "execute_result"
    }
   ],
   "source": [
    "def get_subscription(x) :\n",
    "    if x == True :\n",
    "        return 1\n",
    "    else :\n",
    "        return 0\n",
    "        \n",
    "df_subscription = df_member[['회원번호', '구독여부']]\n",
    "df_subscription['구독여부'] = df_subscription['구독여부'].fillna('False')\n",
    "df_subscription['구독여부'] = df_subscription['구독여부'].apply(get_subscription)\n",
    "df_subscription = df_subscription.rename(columns={'구독여부': '구독유무'})\n",
    "df_subscription.head(3)"
   ]
  },
  {
   "cell_type": "markdown",
   "id": "279a637a-0457-43cd-8514-13d3345549e5",
   "metadata": {},
   "source": [
    "- 회원별 고객이탈 유무 구하기\n",
    "    - True = 고객이탈O, False = 고객이탈X"
   ]
  },
  {
   "cell_type": "code",
   "execution_count": 57,
   "id": "e83ac433-106a-4dd7-b689-77d60ae63ed0",
   "metadata": {},
   "outputs": [
    {
     "name": "stderr",
     "output_type": "stream",
     "text": [
      "C:\\Users\\김태림\\AppData\\Local\\Temp\\ipykernel_13624\\1412818455.py:8: SettingWithCopyWarning: \n",
      "A value is trying to be set on a copy of a slice from a DataFrame.\n",
      "Try using .loc[row_indexer,col_indexer] = value instead\n",
      "\n",
      "See the caveats in the documentation: https://pandas.pydata.org/pandas-docs/stable/user_guide/indexing.html#returning-a-view-versus-a-copy\n",
      "  df_customer_leave['고객이탈'] = df_customer_leave['회원상태'].apply(get_leave)\n"
     ]
    },
    {
     "data": {
      "text/html": [
       "<div>\n",
       "<style scoped>\n",
       "    .dataframe tbody tr th:only-of-type {\n",
       "        vertical-align: middle;\n",
       "    }\n",
       "\n",
       "    .dataframe tbody tr th {\n",
       "        vertical-align: top;\n",
       "    }\n",
       "\n",
       "    .dataframe thead th {\n",
       "        text-align: right;\n",
       "    }\n",
       "</style>\n",
       "<table border=\"1\" class=\"dataframe\">\n",
       "  <thead>\n",
       "    <tr style=\"text-align: right;\">\n",
       "      <th></th>\n",
       "      <th>회원번호</th>\n",
       "      <th>고객이탈</th>\n",
       "    </tr>\n",
       "  </thead>\n",
       "  <tbody>\n",
       "    <tr>\n",
       "      <th>0</th>\n",
       "      <td>18764160</td>\n",
       "      <td>0</td>\n",
       "    </tr>\n",
       "    <tr>\n",
       "      <th>1</th>\n",
       "      <td>18792000</td>\n",
       "      <td>0</td>\n",
       "    </tr>\n",
       "    <tr>\n",
       "      <th>2</th>\n",
       "      <td>18942336</td>\n",
       "      <td>0</td>\n",
       "    </tr>\n",
       "  </tbody>\n",
       "</table>\n",
       "</div>"
      ],
      "text/plain": [
       "       회원번호  고객이탈\n",
       "0  18764160     0\n",
       "1  18792000     0\n",
       "2  18942336     0"
      ]
     },
     "execution_count": 57,
     "metadata": {},
     "output_type": "execute_result"
    }
   ],
   "source": [
    "def get_leave(x) :\n",
    "    if x != '정상회원' :\n",
    "        return 1 #'True'\n",
    "    else :\n",
    "        return 0 #'False'\n",
    "\n",
    "df_customer_leave = df_member[['회원번호', '회원상태']]\n",
    "df_customer_leave['고객이탈'] = df_customer_leave['회원상태'].apply(get_leave)\n",
    "df_customer_leave = df_customer_leave[['회원번호', '고객이탈']]\n",
    "df_customer_leave.head(3)"
   ]
  },
  {
   "cell_type": "markdown",
   "id": "d6f172fc-1301-4ff6-b585-160ed0dbbac9",
   "metadata": {},
   "source": [
    "- 회원별 유령회원 유무 구하기\n",
    "    - 유령회원 : 가장 최근 주문일 기준 n일 간 주문이 없는 고객 (n=60 가정)\n",
    "    - True = 유령회원O, False = 유령회원X"
   ]
  },
  {
   "cell_type": "code",
   "execution_count": 129,
   "id": "eabdae6e-1f6e-416b-bc16-b5529e84b487",
   "metadata": {},
   "outputs": [
    {
     "data": {
      "text/html": [
       "<div>\n",
       "<style scoped>\n",
       "    .dataframe tbody tr th:only-of-type {\n",
       "        vertical-align: middle;\n",
       "    }\n",
       "\n",
       "    .dataframe tbody tr th {\n",
       "        vertical-align: top;\n",
       "    }\n",
       "\n",
       "    .dataframe thead th {\n",
       "        text-align: right;\n",
       "    }\n",
       "</style>\n",
       "<table border=\"1\" class=\"dataframe\">\n",
       "  <thead>\n",
       "    <tr style=\"text-align: right;\">\n",
       "      <th></th>\n",
       "      <th>회원번호</th>\n",
       "      <th>유령회원</th>\n",
       "    </tr>\n",
       "  </thead>\n",
       "  <tbody>\n",
       "    <tr>\n",
       "      <th>0</th>\n",
       "      <td>18764160</td>\n",
       "      <td>0</td>\n",
       "    </tr>\n",
       "    <tr>\n",
       "      <th>1</th>\n",
       "      <td>18792000</td>\n",
       "      <td>100</td>\n",
       "    </tr>\n",
       "    <tr>\n",
       "      <th>2</th>\n",
       "      <td>18942336</td>\n",
       "      <td>0</td>\n",
       "    </tr>\n",
       "  </tbody>\n",
       "</table>\n",
       "</div>"
      ],
      "text/plain": [
       "       회원번호  유령회원\n",
       "0  18764160     0\n",
       "1  18792000   100\n",
       "2  18942336     0"
      ]
     },
     "execution_count": 129,
     "metadata": {},
     "output_type": "execute_result"
    }
   ],
   "source": [
    "def get_ghost(x) :\n",
    "    if x >= 60 :\n",
    "        return 100 #'True'\n",
    "    else :\n",
    "        return 0 #'False'\n",
    "\n",
    "df_sales['주문일시_dt'] = pd.to_datetime(df_sales['주문일시'])\n",
    "last_order_dt = df_sales['주문일시_dt'].max()\n",
    "df_customer_last_order = df_sales.pivot_table(index = '회원번호', values = '주문일시_dt', aggfunc = 'max').reset_index()\n",
    "df_customer_last_order['주문기간'] = (last_order_dt - df_customer_last_order['주문일시_dt']).dt.days\n",
    "\n",
    "df_customer_last_order['유령회원'] = df_customer_last_order['주문기간'].apply(get_ghost)\n",
    "df_customer_last_order = df_customer_last_order[['회원번호', '유령회원']]\n",
    "df_customer_last_order.head(3)"
   ]
  },
  {
   "cell_type": "code",
   "execution_count": 131,
   "id": "34288831-8915-4e22-83c5-2d01a46daa71",
   "metadata": {},
   "outputs": [
    {
     "data": {
      "text/html": [
       "<div>\n",
       "<style scoped>\n",
       "    .dataframe tbody tr th:only-of-type {\n",
       "        vertical-align: middle;\n",
       "    }\n",
       "\n",
       "    .dataframe tbody tr th {\n",
       "        vertical-align: top;\n",
       "    }\n",
       "\n",
       "    .dataframe thead th {\n",
       "        text-align: right;\n",
       "    }\n",
       "</style>\n",
       "<table border=\"1\" class=\"dataframe\">\n",
       "  <thead>\n",
       "    <tr style=\"text-align: right;\">\n",
       "      <th></th>\n",
       "      <th>회원번호</th>\n",
       "      <th>구매빈도</th>\n",
       "      <th>배송지연빈도</th>\n",
       "      <th>구독유무</th>\n",
       "      <th>고객이탈</th>\n",
       "      <th>유령회원</th>\n",
       "    </tr>\n",
       "  </thead>\n",
       "  <tbody>\n",
       "    <tr>\n",
       "      <th>0</th>\n",
       "      <td>18764160</td>\n",
       "      <td>44.0</td>\n",
       "      <td>8</td>\n",
       "      <td>0</td>\n",
       "      <td>0</td>\n",
       "      <td>0</td>\n",
       "    </tr>\n",
       "    <tr>\n",
       "      <th>1</th>\n",
       "      <td>18792000</td>\n",
       "      <td>1.0</td>\n",
       "      <td>0</td>\n",
       "      <td>0</td>\n",
       "      <td>0</td>\n",
       "      <td>100</td>\n",
       "    </tr>\n",
       "    <tr>\n",
       "      <th>2</th>\n",
       "      <td>18942336</td>\n",
       "      <td>86.0</td>\n",
       "      <td>9</td>\n",
       "      <td>0</td>\n",
       "      <td>0</td>\n",
       "      <td>0</td>\n",
       "    </tr>\n",
       "  </tbody>\n",
       "</table>\n",
       "</div>"
      ],
      "text/plain": [
       "       회원번호  구매빈도  배송지연빈도  구독유무  고객이탈  유령회원\n",
       "0  18764160  44.0       8     0     0     0\n",
       "1  18792000   1.0       0     0     0   100\n",
       "2  18942336  86.0       9     0     0     0"
      ]
     },
     "execution_count": 131,
     "metadata": {},
     "output_type": "execute_result"
    }
   ],
   "source": [
    "df_merged_member = df_sales_frequency.merge(df_delivery_late_frequency, on='회원번호', how='inner')\n",
    "df_merged_member = df_merged_member.merge(df_subscription, on='회원번호', how='inner')\n",
    "df_merged_member = df_merged_member.merge(df_customer_leave, on='회원번호', how='inner')\n",
    "df_merged_member = df_merged_member.merge(df_customer_last_order, on='회원번호', how='inner')\n",
    "df_merged_member.head(3)"
   ]
  },
  {
   "cell_type": "code",
   "execution_count": 133,
   "id": "2e7b98fd-10ba-4600-8b13-8b3d278556aa",
   "metadata": {},
   "outputs": [
    {
     "data": {
      "text/plain": [
       "<Axes: xlabel='배송지연빈도그룹', ylabel='유령회원'>"
      ]
     },
     "execution_count": 133,
     "metadata": {},
     "output_type": "execute_result"
    },
    {
     "data": {
      "image/png": "[encoded data removed]",
      "text/plain": [
       "<Figure size 1400x600 with 1 Axes>"
      ]
     },
     "metadata": {},
     "output_type": "display_data"
    }
   ],
   "source": [
    "def get1(x) :\n",
    "    if x < 20 :\n",
    "        return '20미만'\n",
    "    elif x >= 20 and x < 40 :\n",
    "        return '20~39'\n",
    "    elif x >= 40 and x < 60 :\n",
    "        return '40~59'\n",
    "    elif x >= 60 and x < 80 :\n",
    "        return '60~79'\n",
    "    elif x >= 80 and x < 100 :\n",
    "        return '80~99'\n",
    "    else :\n",
    "        return '100이상'\n",
    "\n",
    "df_merged_member['배송지연빈도그룹'] = df_merged_member['배송지연빈도'].apply(get1)\n",
    "\n",
    "df1 = df_merged_member.pivot_table(index = '배송지연빈도그룹', values = '유령회원', aggfunc = 'mean').reset_index()\n",
    "#df1['배송지연빈도그룹'] = df1['배송지연빈도'].apply(get1)\n",
    "\n",
    "plt.figure(figsize=(14, 6))\n",
    "sns.barplot(data = df1, x = '배송지연빈도그룹', y = '유령회원', errorbar = None)"
   ]
  },
  {
   "cell_type": "code",
   "execution_count": 137,
   "id": "108ce77e-98dc-4627-a012-e4e77d22f0f3",
   "metadata": {},
   "outputs": [
    {
     "data": {
      "text/plain": [
       "<Axes: xlabel='배송지연빈도그룹', ylabel='유령회원'>"
      ]
     },
     "execution_count": 137,
     "metadata": {},
     "output_type": "execute_result"
    },
    {
     "data": {
      "image/png": "[encoded data removed]",
      "text/plain": [
       "<Figure size 1400x600 with 1 Axes>"
      ]
     },
     "metadata": {},
     "output_type": "display_data"
    }
   ],
   "source": [
    "def get2(x) :\n",
    "    if x <= 5 :\n",
    "        return '1~5'\n",
    "    elif x > 5 and x <= 10 :\n",
    "        return '6~10'\n",
    "    elif x > 10 and x <= 15 :\n",
    "        return '11~15'\n",
    "    elif x > 15 and x <= 20 :\n",
    "        return '16~20'\n",
    "    else :\n",
    "        return '20초과'\n",
    "\n",
    "def get3(x) :\n",
    "    if x <= 5 :\n",
    "        return 1\n",
    "    elif x > 5 and x <= 10 :\n",
    "        return 2\n",
    "    elif x > 10 and x <= 15 :\n",
    "        return 3\n",
    "    elif x > 15 and x <= 20 :\n",
    "        return 4\n",
    "    else :\n",
    "        return 5\n",
    "        \n",
    "df_merged_member['배송지연빈도그룹'] = df_merged_member['배송지연빈도'].apply(get2)\n",
    "df_merged_member['배송지연빈도그룹(int)'] = df_merged_member['배송지연빈도'].apply(get3)\n",
    "df1 = df_merged_member.pivot_table(index = ['배송지연빈도그룹', '배송지연빈도그룹(int)'], values = '유령회원',\n",
    "                                   aggfunc = 'mean').reset_index().sort_values(by = '배송지연빈도그룹(int)')\n",
    "plt.figure(figsize=(14, 6))\n",
    "sns.barplot(data = df1, x = '배송지연빈도그룹', y = '유령회원', errorbar = None)"
   ]
  },
  {
   "cell_type": "code",
   "execution_count": 141,
   "id": "4c19379a-ee03-4f5b-b660-7c52f5d62085",
   "metadata": {},
   "outputs": [
    {
     "data": {
      "text/html": [
       "<div>\n",
       "<style scoped>\n",
       "    .dataframe tbody tr th:only-of-type {\n",
       "        vertical-align: middle;\n",
       "    }\n",
       "\n",
       "    .dataframe tbody tr th {\n",
       "        vertical-align: top;\n",
       "    }\n",
       "\n",
       "    .dataframe thead th {\n",
       "        text-align: right;\n",
       "    }\n",
       "</style>\n",
       "<table border=\"1\" class=\"dataframe\">\n",
       "  <thead>\n",
       "    <tr style=\"text-align: right;\">\n",
       "      <th></th>\n",
       "      <th>배송지연빈도그룹</th>\n",
       "      <th>유령회원</th>\n",
       "    </tr>\n",
       "  </thead>\n",
       "  <tbody>\n",
       "    <tr>\n",
       "      <th>2</th>\n",
       "      <td>1~5</td>\n",
       "      <td>51.567433</td>\n",
       "    </tr>\n",
       "    <tr>\n",
       "      <th>4</th>\n",
       "      <td>6~10</td>\n",
       "      <td>7.007204</td>\n",
       "    </tr>\n",
       "    <tr>\n",
       "      <th>0</th>\n",
       "      <td>11~15</td>\n",
       "      <td>2.692778</td>\n",
       "    </tr>\n",
       "    <tr>\n",
       "      <th>1</th>\n",
       "      <td>16~20</td>\n",
       "      <td>1.750547</td>\n",
       "    </tr>\n",
       "    <tr>\n",
       "      <th>3</th>\n",
       "      <td>20초과</td>\n",
       "      <td>0.688863</td>\n",
       "    </tr>\n",
       "  </tbody>\n",
       "</table>\n",
       "</div>"
      ],
      "text/plain": [
       "  배송지연빈도그룹       유령회원\n",
       "2      1~5  51.567433\n",
       "4     6~10   7.007204\n",
       "0    11~15   2.692778\n",
       "1    16~20   1.750547\n",
       "3     20초과   0.688863"
      ]
     },
     "execution_count": 141,
     "metadata": {},
     "output_type": "execute_result"
    }
   ],
   "source": [
    "df1[['배송지연빈도그룹', '유령회원']]"
   ]
  },
  {
   "cell_type": "markdown",
   "id": "5d333b8c-6245-4e4d-b0ce-405403d506ab",
   "metadata": {},
   "source": [
    "- 구매빈도, 배송지연빈도, 구독유무들을 input으로 받아 특정 고객의 이탈이나 유령고객이 될 확률을 계산하는 모델 생성.\n",
    "    - 구매빈도 : 물품 구매를 n개 하였는지\n",
    "    - 배송지연빈도 : 배송 지연이 n번 되었는지\n",
    "    - 구독 유무 : True / False"
   ]
  },
  {
   "cell_type": "code",
   "execution_count": 154,
   "id": "18588833-0cca-4ccd-a80e-9d92ad031dcf",
   "metadata": {},
   "outputs": [
    {
     "name": "stdin",
     "output_type": "stream",
     "text": [
      "물품 구매를 몇 개 하였는지 입력 : 10\n",
      "배송 지연이 몇 번 되었는지 입력 : 2\n",
      "구독 유무를 입력(True혹은False로) : True\n"
     ]
    }
   ],
   "source": [
    "# 구매빈도, 배송지연빈도, 구독유무 입력\n",
    "purchase_frequency = int(input(\"물품 구매를 몇 개 하였는지 입력 :\"))\n",
    "delivery_delay = int(input(\"배송 지연이 몇 번 되었는지 입력 :\"))\n",
    "subscription = input(\"구독 유무를 입력(True혹은False로) :\")"
   ]
  },
  {
   "cell_type": "markdown",
   "id": "b0d9bfa0-6a42-4267-87ab-a800b83a477b",
   "metadata": {},
   "source": [
    "- 고객이탈한 회원 정보(구매빈도, 배송지연빈도, 구독유무)를 바탕으로 고객이탈할 확률이 높은 회원번호를 출력"
   ]
  },
  {
   "cell_type": "code",
   "execution_count": 175,
   "id": "07c282e5-7cd2-4317-a9f3-4ff4a1fbf279",
   "metadata": {},
   "outputs": [
    {
     "name": "stderr",
     "output_type": "stream",
     "text": [
      "C:\\Anaconda\\Lib\\site-packages\\sklearn\\metrics\\_classification.py:1531: UndefinedMetricWarning: Precision is ill-defined and being set to 0.0 in labels with no predicted samples. Use `zero_division` parameter to control this behavior.\n",
      "  _warn_prf(average, modifier, f\"{metric.capitalize()} is\", len(result))\n",
      "C:\\Anaconda\\Lib\\site-packages\\sklearn\\metrics\\_classification.py:1531: UndefinedMetricWarning: Precision is ill-defined and being set to 0.0 in labels with no predicted samples. Use `zero_division` parameter to control this behavior.\n",
      "  _warn_prf(average, modifier, f\"{metric.capitalize()} is\", len(result))\n",
      "C:\\Anaconda\\Lib\\site-packages\\sklearn\\metrics\\_classification.py:1531: UndefinedMetricWarning: Precision is ill-defined and being set to 0.0 in labels with no predicted samples. Use `zero_division` parameter to control this behavior.\n",
      "  _warn_prf(average, modifier, f\"{metric.capitalize()} is\", len(result))\n"
     ]
    },
    {
     "data": {
      "text/plain": [
       "(0.9824561403508771, 0.7484051036682615)"
      ]
     },
     "execution_count": 175,
     "metadata": {},
     "output_type": "execute_result"
    }
   ],
   "source": [
    "from sklearn.model_selection import train_test_split\n",
    "from sklearn.preprocessing import StandardScaler\n",
    "from sklearn.linear_model import LogisticRegression\n",
    "from sklearn.metrics import accuracy_score, classification_report\n",
    "\n",
    "X = df_merged_member[[\"구매빈도\", \"배송지연빈도\", \"구독유무\"]]\n",
    "y_churn = df_merged_member[\"고객이탈\"]\n",
    "y_ghost = df_merged_member[\"유령회원\"]\n",
    "X_train, X_test, y_churn_train, y_churn_test = train_test_split(X, y_churn, test_size=0.2, random_state=42)\n",
    "X_train, X_test, y_ghost_train, y_ghost_test = train_test_split(X, y_ghost, test_size=0.2, random_state=42)\n",
    "\n",
    "scaler = StandardScaler()\n",
    "X_train_scaled = scaler.fit_transform(X_train)\n",
    "X_test_scaled = scaler.transform(X_test)\n",
    "\n",
    "model_churn = LogisticRegression()\n",
    "model_churn.fit(X_train_scaled, y_churn_train)\n",
    "model_ghost = LogisticRegression()\n",
    "model_ghost.fit(X_train_scaled, y_ghost_train)\n",
    "\n",
    "y_churn_pred = model_churn.predict(X_test_scaled)\n",
    "y_ghost_pred = model_ghost.predict(X_test_scaled)\n",
    "churn_acc = accuracy_score(y_churn_test, y_churn_pred)\n",
    "ghost_acc = accuracy_score(y_ghost_test, y_ghost_pred)\n",
    "churn_report = classification_report(y_churn_test, y_churn_pred)\n",
    "ghost_report = classification_report(y_ghost_test, y_ghost_pred)\n",
    "\n",
    "churn_acc, ghost_acc\n",
    "#churn_report, ghost_report"
   ]
  },
  {
   "cell_type": "code",
   "execution_count": 165,
   "id": "789a59ac-f06d-4ca2-8b9d-b48086e482ae",
   "metadata": {},
   "outputs": [
    {
     "data": {
      "text/plain": [
       "성별\n",
       "여    11794\n",
       "남      745\n",
       "Name: count, dtype: int64"
      ]
     },
     "execution_count": 165,
     "metadata": {},
     "output_type": "execute_result"
    }
   ],
   "source": [
    "df_member['성별'].value_counts()"
   ]
  },
  {
   "cell_type": "code",
   "execution_count": 167,
   "id": "95ac2175-be36-4d6e-930b-05d12735b317",
   "metadata": {},
   "outputs": [
    {
     "name": "stdout",
     "output_type": "stream",
     "text": [
      "여성비율은 94.05853736342611% 이다.\n",
      "남성비율은 5.941462636573889% 이다.\n"
     ]
    }
   ],
   "source": [
    "female_cond = df_member['성별'] == '여'\n",
    "male_cond = df_member['성별'] == '남'\n",
    "\n",
    "female_num = len(df_member.loc[female_cond].index)\n",
    "male_num = len(df_member.loc[male_cond].index)\n",
    "total_gender_num = female_num + male_num\n",
    "\n",
    "female_percent = female_num / total_gender_num * 100\n",
    "male_percent = male_num / total_gender_num * 100\n",
    "\n",
    "print(f\"여성비율은 {female_percent}% 이다.\")\n",
    "print(f\"남성비율은 {male_percent}% 이다.\")"
   ]
  },
  {
   "cell_type": "code",
   "execution_count": 169,
   "id": "93aa5a7e-56bf-4bb5-a19b-d590c147b4d1",
   "metadata": {},
   "outputs": [
    {
     "data": {
      "text/html": [
       "<div>\n",
       "<style scoped>\n",
       "    .dataframe tbody tr th:only-of-type {\n",
       "        vertical-align: middle;\n",
       "    }\n",
       "\n",
       "    .dataframe tbody tr th {\n",
       "        vertical-align: top;\n",
       "    }\n",
       "\n",
       "    .dataframe thead th {\n",
       "        text-align: right;\n",
       "    }\n",
       "</style>\n",
       "<table border=\"1\" class=\"dataframe\">\n",
       "  <thead>\n",
       "    <tr style=\"text-align: right;\">\n",
       "      <th></th>\n",
       "      <th>성별</th>\n",
       "      <th>구매수량 평균</th>\n",
       "    </tr>\n",
       "  </thead>\n",
       "  <tbody>\n",
       "    <tr>\n",
       "      <th>0</th>\n",
       "      <td>남</td>\n",
       "      <td>68.927517</td>\n",
       "    </tr>\n",
       "    <tr>\n",
       "      <th>1</th>\n",
       "      <td>여</td>\n",
       "      <td>63.173219</td>\n",
       "    </tr>\n",
       "  </tbody>\n",
       "</table>\n",
       "</div>"
      ],
      "text/plain": [
       "  성별    구매수량 평균\n",
       "0  남  68.927517\n",
       "1  여  63.173219"
      ]
     },
     "execution_count": 169,
     "metadata": {},
     "output_type": "execute_result"
    }
   ],
   "source": [
    "df_gender = df_member[['회원번호', '성별']]\n",
    "\n",
    "# 회원별 구매수량 구하기\n",
    "df_purchase_num = df_sales.pivot_table(index = '회원번호', values = '구매수량', aggfunc = 'sum').reset_index()\n",
    "\n",
    "# 병합\n",
    "df_gender = df_gender.merge(df_purchase_num, on='회원번호', how='inner')\n",
    "\n",
    "# 성별 별 평균 구매수량 구하기\n",
    "df_result = df_gender.pivot_table(index = '성별', values = '구매수량', aggfunc = 'mean').reset_index()\n",
    "df_result = df_result.rename(columns={'구매수량': '구매수량 평균'})\n",
    "df_result"
   ]
  },
  {
   "cell_type": "code",
   "execution_count": null,
   "id": "1b3a2a24-3b45-4035-b9f8-98570d863818",
   "metadata": {},
   "outputs": [],
   "source": []
  }
 ],
 "metadata": {
  "kernelspec": {
   "display_name": "Python 3 (ipykernel)",
   "language": "python",
   "name": "python3"
  },
  "language_info": {
   "codemirror_mode": {
    "name": "ipython",
    "version": 3
   },
   "file_extension": ".py",
   "mimetype": "text/x-python",
   "name": "python",
   "nbconvert_exporter": "python",
   "pygments_lexer": "ipython3",
   "version": "3.12.7"
  }
 },
 "nbformat": 4,
 "nbformat_minor": 5
}
