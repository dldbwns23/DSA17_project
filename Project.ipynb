{
 "cells": [
  {
   "cell_type": "code",
   "execution_count": 5,
   "id": "7bccf409-252b-4ffa-ae6f-36528d583113",
   "metadata": {},
   "outputs": [],
   "source": [
    "import pandas as pd\n",
    "import matplotlib as mpl\n",
    "import matplotlib.pyplot as plt\n",
    "import seaborn as sns\n",
    "import scipy.stats as stats\n",
    "import plotly.express as px\n",
    "mpl.rc('font', family='Malgun Gothic')"
   ]
  },
  {
   "cell_type": "code",
   "execution_count": 6,
   "id": "a9038c86-f3ae-4f7d-993f-d1cece7375f7",
   "metadata": {},
   "outputs": [],
   "source": [
    "df_member = pd.read_csv('Member_Data.csv', encoding='EUC-KR')\n",
    "df_product = pd.read_csv('Product_Data.csv')\n",
    "df_sales = pd.read_csv('Sales_Data05.csv')"
   ]
  },
  {
   "cell_type": "code",
   "execution_count": 16,
   "id": "51f03be5-3310-4aaf-9df8-68b0383be3ef",
   "metadata": {},
   "outputs": [
    {
     "data": {
      "text/html": [
       "<div>\n",
       "<style scoped>\n",
       "    .dataframe tbody tr th:only-of-type {\n",
       "        vertical-align: middle;\n",
       "    }\n",
       "\n",
       "    .dataframe tbody tr th {\n",
       "        vertical-align: top;\n",
       "    }\n",
       "\n",
       "    .dataframe thead th {\n",
       "        text-align: right;\n",
       "    }\n",
       "</style>\n",
       "<table border=\"1\" class=\"dataframe\">\n",
       "  <thead>\n",
       "    <tr style=\"text-align: right;\">\n",
       "      <th></th>\n",
       "      <th>Unnamed: 0</th>\n",
       "      <th>회원번호</th>\n",
       "      <th>회원상태</th>\n",
       "      <th>성별</th>\n",
       "      <th>나이</th>\n",
       "      <th>등록카드</th>\n",
       "      <th>결혼</th>\n",
       "      <th>구독여부</th>\n",
       "      <th>주소지</th>\n",
       "      <th>세부주소지</th>\n",
       "    </tr>\n",
       "  </thead>\n",
       "  <tbody>\n",
       "    <tr>\n",
       "      <th>0</th>\n",
       "      <td>0</td>\n",
       "      <td>18764160</td>\n",
       "      <td>정상회원</td>\n",
       "      <td>여</td>\n",
       "      <td>68</td>\n",
       "      <td>농협중앙회</td>\n",
       "      <td>기혼</td>\n",
       "      <td>False</td>\n",
       "      <td>서울특별시</td>\n",
       "      <td>성동구</td>\n",
       "    </tr>\n",
       "    <tr>\n",
       "      <th>1</th>\n",
       "      <td>1</td>\n",
       "      <td>18792000</td>\n",
       "      <td>정상회원</td>\n",
       "      <td>남</td>\n",
       "      <td>83</td>\n",
       "      <td>연결앱결제</td>\n",
       "      <td>NaN</td>\n",
       "      <td>False</td>\n",
       "      <td>강원도</td>\n",
       "      <td>강릉시</td>\n",
       "    </tr>\n",
       "    <tr>\n",
       "      <th>2</th>\n",
       "      <td>2</td>\n",
       "      <td>18942336</td>\n",
       "      <td>정상회원</td>\n",
       "      <td>여</td>\n",
       "      <td>39</td>\n",
       "      <td>신한은행</td>\n",
       "      <td>기혼</td>\n",
       "      <td>False</td>\n",
       "      <td>인천광역시</td>\n",
       "      <td>중구</td>\n",
       "    </tr>\n",
       "    <tr>\n",
       "      <th>3</th>\n",
       "      <td>3</td>\n",
       "      <td>18949760</td>\n",
       "      <td>정상회원</td>\n",
       "      <td>여</td>\n",
       "      <td>73</td>\n",
       "      <td>기업은행</td>\n",
       "      <td>NaN</td>\n",
       "      <td>NaN</td>\n",
       "      <td>강원도</td>\n",
       "      <td>홍천군</td>\n",
       "    </tr>\n",
       "    <tr>\n",
       "      <th>4</th>\n",
       "      <td>4</td>\n",
       "      <td>19391488</td>\n",
       "      <td>정상회원</td>\n",
       "      <td>여</td>\n",
       "      <td>52</td>\n",
       "      <td>연결앱결제</td>\n",
       "      <td>기혼</td>\n",
       "      <td>False</td>\n",
       "      <td>대전광역시</td>\n",
       "      <td>중구</td>\n",
       "    </tr>\n",
       "  </tbody>\n",
       "</table>\n",
       "</div>"
      ],
      "text/plain": [
       "   Unnamed: 0      회원번호  회원상태 성별  나이   등록카드   결혼   구독여부    주소지 세부주소지\n",
       "0           0  18764160  정상회원  여  68  농협중앙회   기혼  False  서울특별시   성동구\n",
       "1           1  18792000  정상회원  남  83  연결앱결제  NaN  False    강원도   강릉시\n",
       "2           2  18942336  정상회원  여  39   신한은행   기혼  False  인천광역시    중구\n",
       "3           3  18949760  정상회원  여  73   기업은행  NaN    NaN    강원도   홍천군\n",
       "4           4  19391488  정상회원  여  52  연결앱결제   기혼  False  대전광역시    중구"
      ]
     },
     "execution_count": 16,
     "metadata": {},
     "output_type": "execute_result"
    }
   ],
   "source": [
    "df_member.head(5)"
   ]
  },
  {
   "cell_type": "code",
   "execution_count": 18,
   "id": "447d82e3-9714-467c-8810-020ea7c95f08",
   "metadata": {},
   "outputs": [
    {
     "data": {
      "text/html": [
       "<div>\n",
       "<style scoped>\n",
       "    .dataframe tbody tr th:only-of-type {\n",
       "        vertical-align: middle;\n",
       "    }\n",
       "\n",
       "    .dataframe tbody tr th {\n",
       "        vertical-align: top;\n",
       "    }\n",
       "\n",
       "    .dataframe thead th {\n",
       "        text-align: right;\n",
       "    }\n",
       "</style>\n",
       "<table border=\"1\" class=\"dataframe\">\n",
       "  <thead>\n",
       "    <tr style=\"text-align: right;\">\n",
       "      <th></th>\n",
       "      <th>제품번호</th>\n",
       "      <th>물품명</th>\n",
       "      <th>물품대분류</th>\n",
       "      <th>물품중분류</th>\n",
       "      <th>상품중량</th>\n",
       "    </tr>\n",
       "  </thead>\n",
       "  <tbody>\n",
       "    <tr>\n",
       "      <th>0</th>\n",
       "      <td>100021V2_0</td>\n",
       "      <td>2단무늬컵</td>\n",
       "      <td>식기/편백</td>\n",
       "      <td>자기</td>\n",
       "      <td>1p</td>\n",
       "    </tr>\n",
       "    <tr>\n",
       "      <th>1</th>\n",
       "      <td>100022V2_1</td>\n",
       "      <td>7곡딸기롤과자</td>\n",
       "      <td>과자</td>\n",
       "      <td>스낵</td>\n",
       "      <td>100g/10개입</td>\n",
       "    </tr>\n",
       "    <tr>\n",
       "      <th>2</th>\n",
       "      <td>100023V2_2</td>\n",
       "      <td>7곡참식</td>\n",
       "      <td>식사대용</td>\n",
       "      <td>선식/생식</td>\n",
       "      <td>700g</td>\n",
       "    </tr>\n",
       "    <tr>\n",
       "      <th>3</th>\n",
       "      <td>100024V2_3</td>\n",
       "      <td>가리비</td>\n",
       "      <td>생물수산</td>\n",
       "      <td>패류/갑각류</td>\n",
       "      <td>1.5kg</td>\n",
       "    </tr>\n",
       "    <tr>\n",
       "      <th>4</th>\n",
       "      <td>100025V2_3</td>\n",
       "      <td>가리비</td>\n",
       "      <td>생물수산</td>\n",
       "      <td>패류/갑각류</td>\n",
       "      <td>1kg</td>\n",
       "    </tr>\n",
       "  </tbody>\n",
       "</table>\n",
       "</div>"
      ],
      "text/plain": [
       "         제품번호      물품명  물품대분류   물품중분류       상품중량\n",
       "0  100021V2_0    2단무늬컵  식기/편백      자기         1p\n",
       "1  100022V2_1  7곡딸기롤과자     과자      스낵  100g/10개입\n",
       "2  100023V2_2     7곡참식   식사대용   선식/생식       700g\n",
       "3  100024V2_3      가리비   생물수산  패류/갑각류      1.5kg\n",
       "4  100025V2_3      가리비   생물수산  패류/갑각류        1kg"
      ]
     },
     "execution_count": 18,
     "metadata": {},
     "output_type": "execute_result"
    }
   ],
   "source": [
    "df_product.head(5)"
   ]
  },
  {
   "cell_type": "code",
   "execution_count": 20,
   "id": "98a926b9-1a80-40f2-acf9-b2fa5096cbfb",
   "metadata": {},
   "outputs": [
    {
     "data": {
      "text/html": [
       "<div>\n",
       "<style scoped>\n",
       "    .dataframe tbody tr th:only-of-type {\n",
       "        vertical-align: middle;\n",
       "    }\n",
       "\n",
       "    .dataframe tbody tr th {\n",
       "        vertical-align: top;\n",
       "    }\n",
       "\n",
       "    .dataframe thead th {\n",
       "        text-align: right;\n",
       "    }\n",
       "</style>\n",
       "<table border=\"1\" class=\"dataframe\">\n",
       "  <thead>\n",
       "    <tr style=\"text-align: right;\">\n",
       "      <th></th>\n",
       "      <th>회원번호</th>\n",
       "      <th>회원상태</th>\n",
       "      <th>구매수량</th>\n",
       "      <th>구매금액</th>\n",
       "      <th>주문일시</th>\n",
       "      <th>배송시작일</th>\n",
       "      <th>배송완료일</th>\n",
       "      <th>사용 적립금</th>\n",
       "      <th>사용 포인트 네이버</th>\n",
       "      <th>주문취소여부</th>\n",
       "      <th>주문시간</th>\n",
       "      <th>제품번호</th>\n",
       "      <th>주문일시_dt</th>\n",
       "      <th>주문일시_year</th>\n",
       "      <th>주문일시_month</th>\n",
       "      <th>주문일시_day</th>\n",
       "    </tr>\n",
       "  </thead>\n",
       "  <tbody>\n",
       "    <tr>\n",
       "      <th>0</th>\n",
       "      <td>1032097472</td>\n",
       "      <td>정상회원</td>\n",
       "      <td>1.0</td>\n",
       "      <td>7083</td>\n",
       "      <td>2021-01-02</td>\n",
       "      <td>NaN</td>\n",
       "      <td>NaN</td>\n",
       "      <td>0</td>\n",
       "      <td>0</td>\n",
       "      <td>주문취소</td>\n",
       "      <td>오후 12:60</td>\n",
       "      <td>100021783V2_1337</td>\n",
       "      <td>2021-01-02</td>\n",
       "      <td>2021</td>\n",
       "      <td>1</td>\n",
       "      <td>2</td>\n",
       "    </tr>\n",
       "    <tr>\n",
       "      <th>1</th>\n",
       "      <td>1032097472</td>\n",
       "      <td>정상회원</td>\n",
       "      <td>1.0</td>\n",
       "      <td>29865</td>\n",
       "      <td>2021-01-02</td>\n",
       "      <td>2021-01-02</td>\n",
       "      <td>2021-01-02</td>\n",
       "      <td>0</td>\n",
       "      <td>0</td>\n",
       "      <td>NaN</td>\n",
       "      <td>오후 12:60</td>\n",
       "      <td>100022137V2_1606</td>\n",
       "      <td>2021-01-02</td>\n",
       "      <td>2021</td>\n",
       "      <td>1</td>\n",
       "      <td>2</td>\n",
       "    </tr>\n",
       "    <tr>\n",
       "      <th>2</th>\n",
       "      <td>1032097472</td>\n",
       "      <td>정상회원</td>\n",
       "      <td>1.0</td>\n",
       "      <td>23164</td>\n",
       "      <td>2021-01-02</td>\n",
       "      <td>2021-01-02</td>\n",
       "      <td>2021-01-03</td>\n",
       "      <td>0</td>\n",
       "      <td>0</td>\n",
       "      <td>NaN</td>\n",
       "      <td>오후 12:60</td>\n",
       "      <td>100021452V2_1113</td>\n",
       "      <td>2021-01-02</td>\n",
       "      <td>2021</td>\n",
       "      <td>1</td>\n",
       "      <td>2</td>\n",
       "    </tr>\n",
       "    <tr>\n",
       "      <th>3</th>\n",
       "      <td>369152832</td>\n",
       "      <td>정상회원</td>\n",
       "      <td>1.0</td>\n",
       "      <td>16655</td>\n",
       "      <td>2021-01-02</td>\n",
       "      <td>2021-01-02</td>\n",
       "      <td>2021-01-03</td>\n",
       "      <td>0</td>\n",
       "      <td>0</td>\n",
       "      <td>NaN</td>\n",
       "      <td>오후 12:60</td>\n",
       "      <td>10002931V2_708</td>\n",
       "      <td>2021-01-02</td>\n",
       "      <td>2021</td>\n",
       "      <td>1</td>\n",
       "      <td>2</td>\n",
       "    </tr>\n",
       "    <tr>\n",
       "      <th>4</th>\n",
       "      <td>1032097472</td>\n",
       "      <td>정상회원</td>\n",
       "      <td>1.0</td>\n",
       "      <td>8423</td>\n",
       "      <td>2021-01-02</td>\n",
       "      <td>NaN</td>\n",
       "      <td>NaN</td>\n",
       "      <td>0</td>\n",
       "      <td>0</td>\n",
       "      <td>주문취소</td>\n",
       "      <td>오후 12:60</td>\n",
       "      <td>100022085V2_1559</td>\n",
       "      <td>2021-01-02</td>\n",
       "      <td>2021</td>\n",
       "      <td>1</td>\n",
       "      <td>2</td>\n",
       "    </tr>\n",
       "  </tbody>\n",
       "</table>\n",
       "</div>"
      ],
      "text/plain": [
       "         회원번호  회원상태  구매수량   구매금액        주문일시       배송시작일       배송완료일  사용 적립금  \\\n",
       "0  1032097472  정상회원   1.0   7083  2021-01-02         NaN         NaN       0   \n",
       "1  1032097472  정상회원   1.0  29865  2021-01-02  2021-01-02  2021-01-02       0   \n",
       "2  1032097472  정상회원   1.0  23164  2021-01-02  2021-01-02  2021-01-03       0   \n",
       "3   369152832  정상회원   1.0  16655  2021-01-02  2021-01-02  2021-01-03       0   \n",
       "4  1032097472  정상회원   1.0   8423  2021-01-02         NaN         NaN       0   \n",
       "\n",
       "   사용 포인트 네이버 주문취소여부      주문시간              제품번호    주문일시_dt  주문일시_year  \\\n",
       "0           0   주문취소  오후 12:60  100021783V2_1337 2021-01-02       2021   \n",
       "1           0    NaN  오후 12:60  100022137V2_1606 2021-01-02       2021   \n",
       "2           0    NaN  오후 12:60  100021452V2_1113 2021-01-02       2021   \n",
       "3           0    NaN  오후 12:60    10002931V2_708 2021-01-02       2021   \n",
       "4           0   주문취소  오후 12:60  100022085V2_1559 2021-01-02       2021   \n",
       "\n",
       "   주문일시_month  주문일시_day  \n",
       "0           1         2  \n",
       "1           1         2  \n",
       "2           1         2  \n",
       "3           1         2  \n",
       "4           1         2  "
      ]
     },
     "execution_count": 20,
     "metadata": {},
     "output_type": "execute_result"
    }
   ],
   "source": [
    "df_sales.head(5)"
   ]
  },
  {
   "cell_type": "markdown",
   "id": "43f99ab6-e381-45fe-a175-26aab7e942f2",
   "metadata": {},
   "source": [
    "# 고객 이탈률\n",
    "- (이탈 고객수) / (전체 고객수) * 100"
   ]
  },
  {
   "cell_type": "code",
   "execution_count": 27,
   "id": "562619ab-3b96-4ce9-bc42-a26a4b1b1c3c",
   "metadata": {},
   "outputs": [
    {
     "data": {
      "text/plain": [
       "회원상태\n",
       "정상회원     12380\n",
       "탈퇴         156\n",
       "탈퇴처리중        2\n",
       "탈퇴신청         1\n",
       "Name: count, dtype: int64"
      ]
     },
     "execution_count": 27,
     "metadata": {},
     "output_type": "execute_result"
    }
   ],
   "source": [
    "# \"회원상태\" 하나 null\n",
    "df_member['회원상태'].value_counts()"
   ]
  },
  {
   "cell_type": "code",
   "execution_count": 7,
   "id": "f617f7cf-0585-4b2b-96d3-68598a9c491a",
   "metadata": {},
   "outputs": [
    {
     "name": "stdout",
     "output_type": "stream",
     "text": [
      "고객 이탈률은 1.2759170653907497% 이다.\n"
     ]
    }
   ],
   "source": [
    "# '정상회원'이 아닐 경우 '고객 이탈'로 가정\n",
    "cond_leave = df_member['회원상태'] != \"정상회원\"\n",
    "\n",
    "# 이탈 고객 수\n",
    "leave_num = len(df_member.loc[cond_leave].index)\n",
    "\n",
    "# 전체 고객 수\n",
    "member_num = len(df_member['회원상태'])\n",
    "\n",
    "# 고객 이탈률 계산\n",
    "customer_leave_rate = leave_num / member_num * 100\n",
    "print(f\"고객 이탈률은 {customer_leave_rate}% 이다.\")"
   ]
  },
  {
   "cell_type": "markdown",
   "id": "63d9637d-a7fe-4f4c-9d56-76e995f97ecc",
   "metadata": {},
   "source": [
    "# n개월 이상 구매 유지 고객비율\n",
    "- (n개월 이상 구매 유지 고객 수) / (전체 고객 수) * 100\n",
    "- 처음 주문과 마지막 주문으로 n개월 이상 구매를 유지하는지 정의함.\n",
    "- 두 달에 걸쳐 구매 이력 O = 2개월 이상 구매 유지"
   ]
  },
  {
   "cell_type": "code",
   "execution_count": 148,
   "id": "3864af60-e102-4dd1-a2b3-f09c29205b8a",
   "metadata": {},
   "outputs": [
    {
     "name": "stdin",
     "output_type": "stream",
     "text": [
      " 1\n"
     ]
    },
    {
     "name": "stdout",
     "output_type": "stream",
     "text": [
      "1개월 이상 구매 유지 고객비율은 74.58532695374801% 이다.\n"
     ]
    }
   ],
   "source": [
    "# 주문 취소 여부 고려할 필요 있음.\n",
    "# 회원가입만 하고 구매하지 않은 고객이 있을 가능성, df_member와 병합 후 계산할 필요\n",
    "\n",
    "# '주문일시' datetime 전환\n",
    "df_sales['주문일시_dt'] = pd.to_datetime(df_sales['주문일시'])\n",
    "df_sales['주문일시_year'] = df_sales['주문일시_dt'].dt.year\n",
    "df_sales['주문일시_month'] = df_sales['주문일시_dt'].dt.month\n",
    "df_sales['주문일시_day'] = df_sales['주문일시_dt'].dt.day\n",
    "\n",
    "# 회원별 처음 주문 날짜와 마지막 주문 날짜를 df_orderdate에 저장\n",
    "# 연도는 모두 2021로 동일하므로 고려하지 않음.\n",
    "df_orderdate = df_sales.sort_values(by=['회원번호', '주문일시_month']).pivot_table(index = '회원번호',\n",
    "                                                                           values = '주문일시_month', aggfunc = ['min', 'max']).reset_index()\n",
    "# 몇개월 동안 구매 유지 중인지 계산하여 'n개월구매유지'에 저장\n",
    "df_orderdate['n개월구매유지'] = ( df_orderdate['max']['주문일시_month'] - df_orderdate['min']['주문일시_month'] )\n",
    "\n",
    "# 입력\n",
    "n = int(input())\n",
    "\n",
    "# n개월 이상 구매 유지 중인 고객 수\n",
    "more_n_cond = df_orderdate['n개월구매유지'] >= n\n",
    "keep_customer_num = len(df_orderdate.loc[more_n_cond].index)\n",
    "\n",
    "# 전체 고객 수\n",
    "total_customer_num = len(df_member.index)\n",
    "\n",
    "# n개월 이상 구매 유지 고객 비율\n",
    "customer_keep_rate = keep_customer_num / total_customer_num * 100\n",
    "print(f\"{n}개월 이상 구매 유지 고객비율은 {customer_keep_rate}% 이다.\")"
   ]
  },
  {
   "cell_type": "code",
   "execution_count": 141,
   "id": "ce99ab94-592e-40d1-9767-a71145235c46",
   "metadata": {},
   "outputs": [],
   "source": [
    "# 확인용\n",
    "#df_sales['연'].value_counts()\n",
    "#df_orderdate['n개월구매유지'].value_counts()"
   ]
  },
  {
   "cell_type": "markdown",
   "id": "d1c2f58a-4f1d-4d82-8b36-4a193f984795",
   "metadata": {},
   "source": [
    "# 배송지연율\n",
    "- (배송 지연 수) / (전체 배송 수) * 100 \n",
    "- 2일 이상 소모 시 배송 지연으로 가정."
   ]
  },
  {
   "cell_type": "code",
   "execution_count": 73,
   "id": "730104de-d25c-422b-a688-8e565c2f75f6",
   "metadata": {},
   "outputs": [
    {
     "name": "stdout",
     "output_type": "stream",
     "text": [
      "배송지연율은 15.226769321511712% 이다.\n"
     ]
    }
   ],
   "source": [
    "# '배송시작일' datetime 전환\n",
    "df_sales['배송시작일_dt'] = pd.to_datetime(df_sales['배송시작일'])\n",
    "\n",
    "# '배송완료일' datetime 전환\n",
    "df_sales['배송완료일_dt'] = pd.to_datetime(df_sales['배송완료일'])\n",
    "\n",
    "# '배송소모일' 구하기\n",
    "df_sales['배송소모일'] = (df_sales['배송완료일_dt'] - df_sales['배송시작일_dt']).dt.days\n",
    "\n",
    "# 배송 지연 수\n",
    "delivery_late_cond = df_sales['배송소모일'] >= 2\n",
    "delivery_late_num = len(df_sales.loc[delivery_late_cond].index)\n",
    "\n",
    "# 전체 배송 수\n",
    "delivery_cond = pd.notna(df_sales['배송시작일'])\n",
    "total_delivery_num = len(df_sales.loc[delivery_cond].index)\n",
    "\n",
    "# 배송지연율\n",
    "delivery_late_rate = delivery_late_num / total_delivery_num * 100\n",
    "print(f\"배송지연율은 {delivery_late_rate}% 이다.\")"
   ]
  },
  {
   "cell_type": "code",
   "execution_count": 79,
   "id": "42a60a86-f5e5-47a7-9ca7-b201265789f4",
   "metadata": {},
   "outputs": [],
   "source": [
    "# 확인용\n",
    "#df_sales['배송소모일'].value_counts()"
   ]
  },
  {
   "cell_type": "markdown",
   "id": "425e81b2-3aa9-470c-b364-b9e15e0cacbe",
   "metadata": {},
   "source": [
    "# 정기구독률\n",
    "- 정기구독률 = (구독 회원수) / (전체 회원수) * 100"
   ]
  },
  {
   "cell_type": "code",
   "execution_count": 81,
   "id": "8a27d66c-9295-4912-9b0d-314e0cdd40e3",
   "metadata": {},
   "outputs": [
    {
     "data": {
      "text/plain": [
       "구독여부\n",
       "False    8441\n",
       "True     1753\n",
       "Name: count, dtype: int64"
      ]
     },
     "execution_count": 81,
     "metadata": {},
     "output_type": "execute_result"
    }
   ],
   "source": [
    "# 구독X = NaN(결측값), False  /  구독O =  True 가정.\n",
    "df_member['구독여부'].value_counts()"
   ]
  },
  {
   "cell_type": "code",
   "execution_count": 150,
   "id": "93e79bca-5876-430d-bcc2-d477a59217ed",
   "metadata": {},
   "outputs": [
    {
     "name": "stdout",
     "output_type": "stream",
     "text": [
      "정기구독률은 13.9792663476874% 이다.\n"
     ]
    }
   ],
   "source": [
    "# 구독 회원 수\n",
    "subscription_cond = df_member['구독여부'] == True\n",
    "subscription_customer = len(df_member.loc[subscription_cond].index)\n",
    "\n",
    "# 전체 회원 수\n",
    "total_customer = len(df_member.index)\n",
    "\n",
    "# 정기 구독률\n",
    "subscription_rate = subscription_customer / total_customer * 100\n",
    "print(f\"정기구독률은 {subscription_rate}% 이다.\")"
   ]
  },
  {
   "cell_type": "markdown",
   "id": "93a7b8e0-ef2d-4aac-a5e8-e980aa159fb2",
   "metadata": {},
   "source": [
    "# 유령고객 비율\n",
    "- 유령고객 정의 : 가장 최신 주문 건 기준 n개월 간 주문이 없는 고객\n",
    "- n입력을 '월'이 아닌 '일'로 받음. 추후 수정 필요."
   ]
  },
  {
   "cell_type": "code",
   "execution_count": 158,
   "id": "f9f9d509-2816-4457-b19b-cb21781238eb",
   "metadata": {},
   "outputs": [
    {
     "name": "stdin",
     "output_type": "stream",
     "text": [
      "몇일 간 주문이 없으면 유령고객인지 입력하시오 : 60\n"
     ]
    },
    {
     "name": "stdout",
     "output_type": "stream",
     "text": [
      "유령고객 비율은 37.60765550239235% 이다.\n"
     ]
    }
   ],
   "source": [
    "# '주문일시' datetime 전환\n",
    "df_sales['주문일시_dt'] = pd.to_datetime(df_sales['주문일시'])\n",
    "\n",
    "# 가장 최근 주문 날짜\n",
    "last_order_dt = df_sales['주문일시_dt'].max()\n",
    "\n",
    "# 회원번호 별 최근 주문 일시 데이터프레임\n",
    "df_customer_last_order = df_sales.pivot_table(index = '회원번호', values = '주문일시_dt', aggfunc = 'max').reset_index()\n",
    "\n",
    "# '주문기간' : 주문하지 않은 기간\n",
    "df_customer_last_order['주문기간'] = (last_order_dt - df_customer_last_order['주문일시_dt']).dt.days\n",
    "\n",
    "# 입력\n",
    "n = int(input(\"몇일 간 주문이 없으면 유령고객인지 입력하시오 :\"))\n",
    "\n",
    "# 유령 고객 수\n",
    "ghost_cond = df_customer_last_order['주문기간'] >= n\n",
    "ghost_customer = len(df_customer_last_order.loc[ghost_cond].index)\n",
    "\n",
    "# 전체 고객 수\n",
    "total_customer = len(df_member.index)\n",
    "\n",
    "# 유령고객 비율\n",
    "ghost_customer_rate = ghost_customer / total_customer * 100\n",
    "print(f\"유령고객 비율은 {ghost_customer_rate}% 이다.\")"
   ]
  },
  {
   "cell_type": "code",
   "execution_count": 160,
   "id": "90c07dcd-0eb3-42a2-a948-2355b1172d2b",
   "metadata": {},
   "outputs": [],
   "source": [
    "# 확인용\n",
    "#df_customer_last_order['주문기간'].value_counts()"
   ]
  },
  {
   "cell_type": "code",
   "execution_count": null,
   "id": "8e34d6dd-543a-472a-800a-cfb2acb5fe33",
   "metadata": {},
   "outputs": [],
   "source": []
  }
 ],
 "metadata": {
  "kernelspec": {
   "display_name": "Python 3 (ipykernel)",
   "language": "python",
   "name": "python3"
  },
  "language_info": {
   "codemirror_mode": {
    "name": "ipython",
    "version": 3
   },
   "file_extension": ".py",
   "mimetype": "text/x-python",
   "name": "python",
   "nbconvert_exporter": "python",
   "pygments_lexer": "ipython3",
   "version": "3.12.7"
  }
 },
 "nbformat": 4,
 "nbformat_minor": 5
}
