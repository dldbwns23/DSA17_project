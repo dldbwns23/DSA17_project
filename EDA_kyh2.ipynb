{
 "cells": [
  {
   "cell_type": "markdown",
   "id": "3cbda635-e575-49bf-84ae-e892f263f7e5",
   "metadata": {},
   "source": [
    "정기 구독률 계산"
   ]
  },
  {
   "cell_type": "code",
   "execution_count": 80,
   "id": "64a8e20f-c774-430c-bc84-07d3329b2cc1",
   "metadata": {},
   "outputs": [
    {
     "name": "stdout",
     "output_type": "stream",
     "text": [
      "구독 여부가 TRUE인 고객 비율: 13.98%\n"
     ]
    }
   ],
   "source": [
    "import pandas as pd\n",
    "\n",
    "df_member = pd.read_csv(\"Member_Data.csv\", encoding=\"cp949\")\n",
    "df_product = pd.read_csv(\"Product_Data.csv\", encoding=\"utf-8\")\n",
    "df_sales = pd.read_csv(\"Sales_Data05.csv\", encoding=\"cp949\")\n",
    "\n",
    "# 전체 회원 수 계산\n",
    "total_members = len(df_member)\n",
    "\n",
    "# '구독여부'가 True인 고객 수 계산\n",
    "subscribed_members = member_df[member_df['구독여부'] == True].shape[0]\n",
    "\n",
    "# 비율 계산\n",
    "subscription_ratio = (subscribed_members / total_members) * 100\n",
    "\n",
    "# 결과 출력\n",
    "print(f\"구독 여부가 TRUE인 고객 비율: {subscription_ratio:.2f}%\")"
   ]
  },
  {
   "cell_type": "markdown",
   "id": "18e6d1ec-836a-4216-b22f-89f66b38b72e",
   "metadata": {},
   "source": [
    "유령고객 계산"
   ]
  },
  {
   "cell_type": "code",
   "execution_count": 81,
   "id": "682a1efc-2e7b-42dd-84f1-d5a724458429",
   "metadata": {},
   "outputs": [
    {
     "name": "stdout",
     "output_type": "stream",
     "text": [
      "최근 30일간 주문이 없는 유령 고객 비율: 50.17%\n"
     ]
    }
   ],
   "source": [
    "import pandas as pd\n",
    "\n",
    "# 데이터 타입 변환\n",
    "df_sales['주문일시'] = pd.to_datetime(df_sales['주문일시'], errors='coerce')\n",
    "df_member['회원번호'] = df_member['회원번호'].astype(str)\n",
    "df_sales['회원번호'] = df_sales['회원번호'].astype(str)\n",
    "\n",
    "# n일 동안 주문이 없으면 유령 고객\n",
    "n = 30\n",
    "last_order_dt = df_sales['주문일시'].max()\n",
    "\n",
    "# 회원별 최근 주문일을 Pivot Table을 사용하여 계산\n",
    "df_last_order = pd.pivot_table(df_sales, index=\"회원번호\", values=\"주문일시\", aggfunc=\"max\").reset_index()\n",
    "\n",
    "# 탈퇴하지 않은 회원 데이터와 최근 주문 데이터 결합\n",
    "df_active = df_member[df_member['회원상태'] != '탈퇴'].merge(df_last_order, on='회원번호', how='left')\n",
    "\n",
    "# 주문 기간 계산 및 유령 고객 비율 계산\n",
    "ghost_rate = ((last_order_dt - df_active['주문일시'].fillna(last_order_dt)).dt.days >= n).mean() * 100\n",
    "\n",
    "# 결과 출력\n",
    "print(f\"최근 {n}일간 주문이 없는 유령 고객 비율: {ghost_rate:.2f}%\")"
   ]
  },
  {
   "cell_type": "markdown",
   "id": "e8d0f1cb-21cd-4066-b2c6-e0bd13a19d2f",
   "metadata": {},
   "source": [
    "RFM분석"
   ]
  },
  {
   "cell_type": "code",
   "execution_count": 75,
   "id": "2d0c5981-607e-4b51-9d31-bec49ed5f24e",
   "metadata": {},
   "outputs": [],
   "source": [
    "import pandas as pd\n",
    "\n",
    "# 날짜 변환\n",
    "df_sales['주문일시'] = pd.to_datetime(df_sales['주문일시'], errors='coerce')\n",
    "latest_date = df_sales['주문일시'].max()  # 데이터 내 최신 주문일\n",
    "\n",
    "# RFM분석\n",
    "rfm = pd.pivot_table(df_sales, index=\"회원번호\",values=[\"주문일시\", \"구매금액\"],\n",
    "    aggfunc={\"주문일시\": [lambda x: (latest_date - x.max()).days, \"count\"], \"구매금액\": \"sum\"}).reset_index()\n",
    "\n",
    "# 컬럼 이름 변경\n",
    "rfm.columns = [\"회원번호\", \"Recency\", \"Frequency\", \"Monetary\"]\n",
    "\n",
    "# RFM 점수 (5단계 )\n",
    "rfm[\"R_Score\"] = pd.qcut(rfm[\"Recency\"], 5, labels=[5, 4, 3, 2, 1])\n",
    "rfm[\"F_Score\"] = pd.qcut(rfm[\"Frequency\"], 5, labels=[1, 2, 3, 4, 5])\n",
    "rfm[\"M_Score\"] = pd.qcut(rfm[\"Monetary\"], 5, labels=[1, 2, 3, 4, 5])\n",
    "\n",
    "# 최종 RFM 점수 계산\n",
    "rfm[\"RFM_Score\"] = rfm[[\"R_Score\", \"F_Score\", \"M_Score\"]].astype(int).sum(axis=1)"
   ]
  },
  {
   "cell_type": "code",
   "execution_count": 87,
   "id": "d2309bd0-d332-43db-8c23-e0dd806425ef",
   "metadata": {},
   "outputs": [
    {
     "data": {
      "image/png": "[encoded data removed]",
      "text/plain": [
       "<Figure size 800x400 with 1 Axes>"
      ]
     },
     "metadata": {},
     "output_type": "display_data"
    }
   ],
   "source": [
    "import matplotlib.pyplot as plt\n",
    "\n",
    "# RFM Score 분포 히스토그램\n",
    "plt.figure(figsize=(8, 4))\n",
    "plt.hist(rfm[\"RFM_Score\"], edgecolor=\"black\")\n",
    "plt.title(\"RFM Score Distribution\")\n",
    "plt.xlabel(\"RFM Score\")\n",
    "plt.ylabel(\"count\")\n",
    "plt.show()"
   ]
  },
  {
   "cell_type": "code",
   "execution_count": null,
   "id": "9f352081-f743-4b69-8145-b75a139b5ca0",
   "metadata": {},
   "outputs": [],
   "source": []
  }
 ],
 "metadata": {
  "kernelspec": {
   "display_name": "Python 3 (ipykernel)",
   "language": "python",
   "name": "python3"
  },
  "language_info": {
   "codemirror_mode": {
    "name": "ipython",
    "version": 3
   },
   "file_extension": ".py",
   "mimetype": "text/x-python",
   "name": "python",
   "nbconvert_exporter": "python",
   "pygments_lexer": "ipython3",
   "version": "3.12.7"
  }
 },
 "nbformat": 4,
 "nbformat_minor": 5
}
