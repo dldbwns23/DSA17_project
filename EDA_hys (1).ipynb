{
 "cells": [
  {
   "cell_type": "code",
   "execution_count": 1,
   "id": "da5fbe2d-e50a-415e-8883-8f4fa4efa952",
   "metadata": {},
   "outputs": [],
   "source": [
    "import pandas as pd\n",
    "import matplotlib.pyplot as plt\n",
    "import seaborn as sns\n",
    "import warnings\n",
    "warnings.filterwarnings('ignore')\n",
    "\n",
    "plt.rcParams['font.family'] = 'Malgun Gothic'"
   ]
  },
  {
   "cell_type": "code",
   "execution_count": 2,
   "id": "35eebf5e-7ea6-4013-9190-f3d57e591c15",
   "metadata": {},
   "outputs": [],
   "source": [
    "df_sales = pd.read_csv('Sales_Data05.csv')\n",
    "df_member = pd.read_csv('Member_Data.csv',encoding='cp949')\n",
    "df_product = pd.read_csv('Product_Data.csv')"
   ]
  },
  {
   "cell_type": "markdown",
   "id": "53aefd32-2c75-4594-b047-2cc8e13872d6",
   "metadata": {},
   "source": [
    "***EDA***"
   ]
  },
  {
   "cell_type": "code",
   "execution_count": 3,
   "id": "c6238e81-f8f4-4fbf-9d09-67c8494a6944",
   "metadata": {},
   "outputs": [],
   "source": [
    "#EDA 함수 정의\n",
    "def basic_eda(df, name):\n",
    "    print(f\"========== {name} ==========\")\n",
    "    print(\"Shape:\", df.shape)\n",
    "    print(\"Columns:\", df.columns.tolist())\n",
    "    print(\"\\n[INFO]\")\n",
    "    print(df.info())\n",
    "    print(\"\\n[Missing Values]\")\n",
    "    print(df.isnull().sum())\n",
    "    print(\"\\n[Descriptive Statistics]\")\n",
    "    print(df.describe(include='all'))\n",
    "    print(\"\\n[Head]\")\n",
    "    print(df.head())\n",
    "    print(\"\\n[Tail]\")\n",
    "    print(df.tail())\n",
    "    print(\"\\n===============================\\n\")"
   ]
  },
  {
   "cell_type": "code",
   "execution_count": 4,
   "id": "0d59253d-2496-4293-bd5f-40355c75e67c",
   "metadata": {},
   "outputs": [
    {
     "name": "stdout",
     "output_type": "stream",
     "text": [
      "***** Sales Data EDA *****\n",
      "========== Sales Data ==========\n",
      "Shape: (668111, 12)\n",
      "Columns: ['회원번호', '회원상태', '구매수량', '구매금액', '주문일시', '배송시작일', '배송완료일', '사용 적립금', '사용 포인트 네이버', '주문취소여부', '주문시간', '제품번호']\n",
      "\n",
      "[INFO]\n",
      "<class 'pandas.core.frame.DataFrame'>\n",
      "RangeIndex: 668111 entries, 0 to 668110\n",
      "Data columns (total 12 columns):\n",
      " #   Column      Non-Null Count   Dtype  \n",
      "---  ------      --------------   -----  \n",
      " 0   회원번호        668111 non-null  int64  \n",
      " 1   회원상태        668109 non-null  object \n",
      " 2   구매수량        668111 non-null  float64\n",
      " 3   구매금액        668111 non-null  int64  \n",
      " 4   주문일시        668111 non-null  object \n",
      " 5   배송시작일       637476 non-null  object \n",
      " 6   배송완료일       637476 non-null  object \n",
      " 7   사용 적립금      668111 non-null  int64  \n",
      " 8   사용 포인트 네이버  668111 non-null  int64  \n",
      " 9   주문취소여부      30635 non-null   object \n",
      " 10  주문시간        668111 non-null  object \n",
      " 11  제품번호        668111 non-null  object \n",
      "dtypes: float64(1), int64(4), object(7)\n",
      "memory usage: 61.2+ MB\n",
      "None\n",
      "\n",
      "[Missing Values]\n",
      "회원번호               0\n",
      "회원상태               2\n",
      "구매수량               0\n",
      "구매금액               0\n",
      "주문일시               0\n",
      "배송시작일          30635\n",
      "배송완료일          30635\n",
      "사용 적립금             0\n",
      "사용 포인트 네이버         0\n",
      "주문취소여부        637476\n",
      "주문시간               0\n",
      "제품번호               0\n",
      "dtype: int64\n",
      "\n",
      "[Descriptive Statistics]\n",
      "                회원번호    회원상태           구매수량          구매금액        주문일시  \\\n",
      "count   6.681110e+05  668109  668111.000000  6.681110e+05      668111   \n",
      "unique           NaN       4            NaN           NaN         295   \n",
      "top              NaN    정상회원            NaN           NaN  2021-02-14   \n",
      "freq             NaN  660563            NaN           NaN        5305   \n",
      "mean    7.405263e+08     NaN       1.192044  1.182197e+04         NaN   \n",
      "std     4.312590e+08     NaN       0.694327  1.704992e+04         NaN   \n",
      "min     1.876416e+07     NaN       0.050000  1.840000e+02         NaN   \n",
      "25%     3.846968e+08     NaN       1.000000  4.212000e+03         NaN   \n",
      "50%     7.453770e+08     NaN       1.000000  7.658000e+03         NaN   \n",
      "75%     1.052064e+09     NaN       1.000000  1.378400e+04         NaN   \n",
      "max     1.670621e+09     NaN      75.000000  2.890766e+06         NaN   \n",
      "\n",
      "             배송시작일       배송완료일         사용 적립금     사용 포인트 네이버 주문취소여부      주문시간  \\\n",
      "count       637476      637476  668111.000000  668111.000000  30635    668111   \n",
      "unique         303         307            NaN            NaN      1      1464   \n",
      "top     2021-02-14  2021-02-14            NaN            NaN   주문취소  오후 01:59   \n",
      "freq          4707        4034            NaN            NaN  30635      1206   \n",
      "mean           NaN         NaN     256.007189      74.555822    NaN       NaN   \n",
      "std            NaN         NaN    1501.949061    2723.137522    NaN       NaN   \n",
      "min            NaN         NaN       0.000000       0.000000    NaN       NaN   \n",
      "25%            NaN         NaN       0.000000       0.000000    NaN       NaN   \n",
      "50%            NaN         NaN       0.000000       0.000000    NaN       NaN   \n",
      "75%            NaN         NaN       0.000000       0.000000    NaN       NaN   \n",
      "max            NaN         NaN   98260.000000  251600.000000    NaN       NaN   \n",
      "\n",
      "                    제품번호  \n",
      "count             668111  \n",
      "unique              1917  \n",
      "top     100021783V2_1337  \n",
      "freq               27094  \n",
      "mean                 NaN  \n",
      "std                  NaN  \n",
      "min                  NaN  \n",
      "25%                  NaN  \n",
      "50%                  NaN  \n",
      "75%                  NaN  \n",
      "max                  NaN  \n",
      "\n",
      "[Head]\n",
      "         회원번호  회원상태  구매수량   구매금액        주문일시       배송시작일       배송완료일  사용 적립금  \\\n",
      "0  1032097472  정상회원   1.0   7083  2021-01-02         NaN         NaN       0   \n",
      "1  1032097472  정상회원   1.0  29865  2021-01-02  2021-01-02  2021-01-02       0   \n",
      "2  1032097472  정상회원   1.0  23164  2021-01-02  2021-01-02  2021-01-03       0   \n",
      "3   369152832  정상회원   1.0  16655  2021-01-02  2021-01-02  2021-01-03       0   \n",
      "4  1032097472  정상회원   1.0   8423  2021-01-02         NaN         NaN       0   \n",
      "\n",
      "   사용 포인트 네이버 주문취소여부      주문시간              제품번호  \n",
      "0           0   주문취소  오후 12:60  100021783V2_1337  \n",
      "1           0    NaN  오후 12:60  100022137V2_1606  \n",
      "2           0    NaN  오후 12:60  100021452V2_1113  \n",
      "3           0    NaN  오후 12:60    10002931V2_708  \n",
      "4           0   주문취소  오후 12:60  100022085V2_1559  \n",
      "\n",
      "[Tail]\n",
      "              회원번호  회원상태  구매수량    구매금액        주문일시       배송시작일       배송완료일  \\\n",
      "668106  1523874368  정상회원   1.0  166554  2021-10-19  2021-10-20  2021-10-20   \n",
      "668107   402835520  정상회원   1.0   12635  2021-10-23  2021-10-23  2021-10-24   \n",
      "668108   402835520  정상회원   1.0    7849  2021-10-23  2021-10-23  2021-10-23   \n",
      "668109  1544381312  정상회원   1.0    7275  2021-10-27  2021-10-27  2021-10-28   \n",
      "668110   413164160  정상회원   2.0   20676  2021-10-30  2021-10-30  2021-11-01   \n",
      "\n",
      "        사용 적립금  사용 포인트 네이버 주문취소여부      주문시간              제품번호  \n",
      "668106       0           0    NaN  오전 01:00  100022543V2_1912  \n",
      "668107       0           0    NaN  오전 01:00    10002432V2_327  \n",
      "668108       0           0    NaN  오전 01:00  100022317V2_1725  \n",
      "668109    6270           0    NaN  오전 01:00    10002723V2_563  \n",
      "668110       0           0    NaN  오전 01:00  100021783V2_1337  \n",
      "\n",
      "===============================\n",
      "\n"
     ]
    }
   ],
   "source": [
    "print(\"***** Sales Data EDA *****\")\n",
    "basic_eda(df_sales, \"Sales Data\")"
   ]
  },
  {
   "cell_type": "code",
   "execution_count": 5,
   "id": "d3c1efad-a9b6-4cee-8256-f8e159cd27de",
   "metadata": {
    "scrolled": true
   },
   "outputs": [
    {
     "name": "stdout",
     "output_type": "stream",
     "text": [
      "***** Member Data EDA *****\n",
      "========== Member Data ==========\n",
      "Shape: (12540, 10)\n",
      "Columns: ['Unnamed: 0', '회원번호', '회원상태', '성별', '나이', '등록카드', '결혼', '구독여부', '주소지', '세부주소지']\n",
      "\n",
      "[INFO]\n",
      "<class 'pandas.core.frame.DataFrame'>\n",
      "RangeIndex: 12540 entries, 0 to 12539\n",
      "Data columns (total 10 columns):\n",
      " #   Column      Non-Null Count  Dtype \n",
      "---  ------      --------------  ----- \n",
      " 0   Unnamed: 0  12540 non-null  int64 \n",
      " 1   회원번호        12540 non-null  int64 \n",
      " 2   회원상태        12539 non-null  object\n",
      " 3   성별          12539 non-null  object\n",
      " 4   나이          12540 non-null  int64 \n",
      " 5   등록카드        12525 non-null  object\n",
      " 6   결혼          9823 non-null   object\n",
      " 7   구독여부        10194 non-null  object\n",
      " 8   주소지         12537 non-null  object\n",
      " 9   세부주소지       12531 non-null  object\n",
      "dtypes: int64(3), object(7)\n",
      "memory usage: 979.8+ KB\n",
      "None\n",
      "\n",
      "[Missing Values]\n",
      "Unnamed: 0       0\n",
      "회원번호             0\n",
      "회원상태             1\n",
      "성별               1\n",
      "나이               0\n",
      "등록카드            15\n",
      "결혼            2717\n",
      "구독여부          2346\n",
      "주소지              3\n",
      "세부주소지            9\n",
      "dtype: int64\n",
      "\n",
      "[Descriptive Statistics]\n",
      "          Unnamed: 0          회원번호   회원상태     성별            나이   등록카드    결혼  \\\n",
      "count   12540.000000  1.254000e+04  12539  12539  12540.000000  12525  9823   \n",
      "unique           NaN           NaN      4      2           NaN     24     2   \n",
      "top              NaN           NaN   정상회원      여           NaN   롯데카드    기혼   \n",
      "freq             NaN           NaN  12380  11794           NaN   1791  5159   \n",
      "mean     6269.500000  8.188567e+08    NaN    NaN     41.689633    NaN   NaN   \n",
      "std      3620.130523  4.412428e+08    NaN    NaN     11.541470    NaN   NaN   \n",
      "min         0.000000  1.876416e+07    NaN    NaN     18.000000    NaN   NaN   \n",
      "25%      3134.750000  4.623983e+08    NaN    NaN     33.000000    NaN   NaN   \n",
      "50%      6269.500000  7.758692e+08    NaN    NaN     39.000000    NaN   NaN   \n",
      "75%      9404.250000  1.174003e+09    NaN    NaN     48.000000    NaN   NaN   \n",
      "max     12539.000000  1.670621e+09    NaN    NaN    100.000000    NaN   NaN   \n",
      "\n",
      "         구독여부    주소지  세부주소지  \n",
      "count   10194  12537  12531  \n",
      "unique      2     21    215  \n",
      "top     False    경기도     서구  \n",
      "freq     8441   2282    434  \n",
      "mean      NaN    NaN    NaN  \n",
      "std       NaN    NaN    NaN  \n",
      "min       NaN    NaN    NaN  \n",
      "25%       NaN    NaN    NaN  \n",
      "50%       NaN    NaN    NaN  \n",
      "75%       NaN    NaN    NaN  \n",
      "max       NaN    NaN    NaN  \n",
      "\n",
      "[Head]\n",
      "   Unnamed: 0      회원번호  회원상태 성별  나이   등록카드   결혼   구독여부    주소지 세부주소지\n",
      "0           0  18764160  정상회원  여  68  농협중앙회   기혼  False  서울특별시   성동구\n",
      "1           1  18792000  정상회원  남  83  연결앱결제  NaN  False    강원도   강릉시\n",
      "2           2  18942336  정상회원  여  39   신한은행   기혼  False  인천광역시    중구\n",
      "3           3  18949760  정상회원  여  73   기업은행  NaN    NaN    강원도   홍천군\n",
      "4           4  19391488  정상회원  여  52  연결앱결제   기혼  False  대전광역시    중구\n",
      "\n",
      "[Tail]\n",
      "       Unnamed: 0        회원번호  회원상태 성별   나이   등록카드   결혼   구독여부    주소지 세부주소지\n",
      "12535       12535  1644957952  정상회원  여   34   신한은행   미혼  False  부산광역시    중구\n",
      "12536       12536  1645334720  정상회원  남   24   국민카드   미혼  False   전라남도   여수시\n",
      "12537       12537  1670400000    탈퇴  남   28  연결앱결제  NaN  False  대구광역시    북구\n",
      "12538       12538  1670606016  정상회원  남   19   하나은행   미혼    NaN   경상남도   밀양시\n",
      "12539       12539  1670620864  정상회원  남  100   우리은행   기혼    NaN  대구광역시    북구\n",
      "\n",
      "===============================\n",
      "\n"
     ]
    }
   ],
   "source": [
    "print(\"***** Member Data EDA *****\")\n",
    "basic_eda(df_member, \"Member Data\")"
   ]
  },
  {
   "cell_type": "code",
   "execution_count": 6,
   "id": "1359979b-9cea-4345-a385-caacc2e0b285",
   "metadata": {
    "scrolled": true
   },
   "outputs": [
    {
     "name": "stdout",
     "output_type": "stream",
     "text": [
      "***** Product Data EDA *****\n",
      "========== Product Data ==========\n",
      "Shape: (2549, 5)\n",
      "Columns: ['제품번호', '물품명', '물품대분류', '물품중분류', '상품중량']\n",
      "\n",
      "[INFO]\n",
      "<class 'pandas.core.frame.DataFrame'>\n",
      "RangeIndex: 2549 entries, 0 to 2548\n",
      "Data columns (total 5 columns):\n",
      " #   Column  Non-Null Count  Dtype \n",
      "---  ------  --------------  ----- \n",
      " 0   제품번호    2549 non-null   object\n",
      " 1   물품명     2549 non-null   object\n",
      " 2   물품대분류   2549 non-null   object\n",
      " 3   물품중분류   2549 non-null   object\n",
      " 4   상품중량    2330 non-null   object\n",
      "dtypes: object(5)\n",
      "memory usage: 99.7+ KB\n",
      "None\n",
      "\n",
      "[Missing Values]\n",
      "제품번호       0\n",
      "물품명        0\n",
      "물품대분류      0\n",
      "물품중분류      0\n",
      "상품중량     219\n",
      "dtype: int64\n",
      "\n",
      "[Descriptive Statistics]\n",
      "              제품번호            물품명  물품대분류 물품중분류  상품중량\n",
      "count         2549           2549   2549  2549  2330\n",
      "unique        2549           1917     59   384   952\n",
      "top     100021V2_0  오가닉코튼 여성용 레깅스  식기/편백  냉동생선  300g\n",
      "freq             1             11    203    64   146\n",
      "\n",
      "[Head]\n",
      "         제품번호      물품명  물품대분류   물품중분류       상품중량\n",
      "0  100021V2_0    2단무늬컵  식기/편백      자기         1p\n",
      "1  100022V2_1  7곡딸기롤과자     과자      스낵  100g/10개입\n",
      "2  100023V2_2     7곡참식   식사대용   선식/생식       700g\n",
      "3  100024V2_3      가리비   생물수산  패류/갑각류      1.5kg\n",
      "4  100025V2_3      가리비   생물수산  패류/갑각류        1kg\n",
      "\n",
      "[Tail]\n",
      "                  제품번호     물품명 물품대분류  물품중분류   상품중량\n",
      "2544  100022545V2_1913  흑임자구름떡     떡    즉석떡   180g\n",
      "2545  100022546V2_1914  흑임자인절미     떡    즉석떡   150g\n",
      "2546  100022547V2_1915    흑토마토  과일채소  완숙토마토    1kg\n",
      "2547  100022548V2_1915    흑토마토  과일채소  완숙토마토  1kg/소\n",
      "2548  100022549V2_1916    흰밀가루    가루   곡식가루    1kg\n",
      "\n",
      "===============================\n",
      "\n"
     ]
    }
   ],
   "source": [
    "print(\"***** Product Data EDA *****\")\n",
    "basic_eda(df_product, \"Product Data\")"
   ]
  },
  {
   "cell_type": "markdown",
   "id": "320858bc-b6eb-41ae-9e58-82f1634f9dff",
   "metadata": {},
   "source": [
    "***재구매율***"
   ]
  },
  {
   "cell_type": "code",
   "execution_count": 7,
   "id": "1d62d0e1-55a6-4f49-82c4-11fc7d573861",
   "metadata": {},
   "outputs": [
    {
     "name": "stdout",
     "output_type": "stream",
     "text": [
      "전체 고객 수: 12540\n",
      "재구매 고객 수: 7997\n",
      "재구매율: 63.77%\n"
     ]
    }
   ],
   "source": [
    "# 1. '주문일시' 열을 날짜 형식으로 변환\n",
    "df_sales['주문일시'] = pd.to_datetime(df_sales['주문일시'])\n",
    "\n",
    "# 2. 각 주문마다 구매횟수를 1로 표시 (새로운 열 추가)\n",
    "df_sales['구매횟수'] = 1\n",
    "\n",
    "# 3. 회원번호와 제품번호별 구매 횟수를 pivot_table을 이용해 집계\n",
    "customer_order_count = df_sales.pivot_table(\n",
    "    index=['회원번호', '제품번호'],\n",
    "    values='구매횟수',\n",
    "    aggfunc='sum'\n",
    ")\n",
    "\n",
    "# 4. 각 회원(고객)별로 동일 제품을 2회 이상 구매한 경우가 있는지 확인\n",
    "#    (groupby의 level='회원번호'를 이용하여 그룹별로 판단)\n",
    "repurchase_flag = customer_order_count.groupby(level='회원번호')['구매횟수'].apply(lambda s: (s > 1).any())\n",
    "\n",
    "# 5. 재구매 고객 수와 전체 고객 수 계산\n",
    "repurchase_customers = repurchase_flag.sum()   # True의 개수 = 재구매 고객 수\n",
    "total_customers = repurchase_flag.shape[0]\n",
    "\n",
    "# 6. 재구매율 계산 (백분율)\n",
    "repurchase_rate = repurchase_customers / total_customers * 100\n",
    "\n",
    "# 결과 출력\n",
    "print(f\"전체 고객 수: {total_customers}\")\n",
    "print(f\"재구매 고객 수: {repurchase_customers}\")\n",
    "print(f\"재구매율: {repurchase_rate:.2f}%\")\n"
   ]
  },
  {
   "cell_type": "markdown",
   "id": "1fd975b0-cebc-4892-8abc-a8d10896865f",
   "metadata": {},
   "source": [
    "***고객 이탈률***"
   ]
  },
  {
   "cell_type": "code",
   "execution_count": 8,
   "id": "6b795c3c-5780-4d39-820f-58b7e3c74fef",
   "metadata": {},
   "outputs": [
    {
     "name": "stdout",
     "output_type": "stream",
     "text": [
      "총 고객 수: 12540\n",
      "이탈 고객 수: 160\n",
      "고객 이탈률: 1.28%\n"
     ]
    }
   ],
   "source": [
    "# 1. 전체 고객 수 (회원번호 기준)\n",
    "total_customers = df_member['회원번호'].nunique()\n",
    "\n",
    "# 2. 활동 고객 수: 회원상태가 '정상회원'인 경우\n",
    "active_customers = df_member[df_member['회원상태'] == '정상회원']['회원번호'].nunique()\n",
    "\n",
    "# 3. 이탈 고객 수: '정상회원'이 아닌 고객을 이탈 고객으로 판단\n",
    "churned_customers = total_customers - active_customers\n",
    "\n",
    "# 4. 고객 이탈률 계산 (백분율)\n",
    "churn_rate = (churned_customers / total_customers) * 100\n",
    "\n",
    "print(\"총 고객 수:\", total_customers)\n",
    "print(\"이탈 고객 수:\", churned_customers)\n",
    "print(f\"고객 이탈률: {churn_rate:.2f}%\")"
   ]
  },
  {
   "cell_type": "markdown",
   "id": "71a52346-ed82-415e-8ea7-92928e2a6237",
   "metadata": {},
   "source": [
    "***배송 지연율***"
   ]
  },
  {
   "cell_type": "code",
   "execution_count": 9,
   "id": "61537ba6-6e55-4fb6-9c7d-52a209114583",
   "metadata": {},
   "outputs": [
    {
     "name": "stdout",
     "output_type": "stream",
     "text": [
      "전체 배송 건수: 637476\n",
      "지연 배송 건수: 97067\n",
      "배송 지연율: 15.23%\n"
     ]
    }
   ],
   "source": [
    "# 1. 배송 관련 날짜 컬럼을 datetime 형식으로 변환 (에러 발생 시 NaT 처리)\n",
    "df_sales['배송시작일'] = pd.to_datetime(df_sales['배송시작일'], errors='coerce')\n",
    "df_sales['배송완료일'] = pd.to_datetime(df_sales['배송완료일'], errors='coerce')\n",
    "\n",
    "# 2. 배송 완료 정보를 가진 유효 주문만 선택 (취소 주문 및 날짜 미입력 주문 제외)\n",
    "valid_deliveries = df_sales.dropna(subset=['배송시작일', '배송완료일']).copy()\n",
    "\n",
    "# 3. 배송 기간(일수) 계산: 배송완료일 - 배송시작일\n",
    "valid_deliveries['배송기간'] = (valid_deliveries['배송완료일'] - valid_deliveries['배송시작일']).dt.days\n",
    "\n",
    "# 4. 배송 지연 기준 설정: 예시에서는 배송기간이 1일을 초과하면 지연으로 판단\n",
    "threshold_days = 1\n",
    "\n",
    "# 5. 지연 배송 건수 산출: 배송기간이 기준 초과인 주문\n",
    "delayed_deliveries = valid_deliveries[valid_deliveries['배송기간'] > threshold_days]\n",
    "\n",
    "# 6. 배송 지연율 계산\n",
    "delay_rate = (len(delayed_deliveries) / len(valid_deliveries)) * 100\n",
    "\n",
    "# 결과 출력\n",
    "print(\"전체 배송 건수:\", len(valid_deliveries))\n",
    "print(\"지연 배송 건수:\", len(delayed_deliveries))\n",
    "print(f\"배송 지연율: {delay_rate:.2f}%\")"
   ]
  },
  {
   "cell_type": "markdown",
   "id": "985d5667-2740-47f8-884a-d6ae0ae305eb",
   "metadata": {},
   "source": [
    "***정기구독률***"
   ]
  },
  {
   "cell_type": "code",
   "execution_count": 11,
   "id": "d555257e-2425-404e-9b78-c3c52f8bb39d",
   "metadata": {},
   "outputs": [
    {
     "name": "stdout",
     "output_type": "stream",
     "text": [
      "총 고객 수 (구독 정보 보유): 10194\n",
      "정기구독 고객 수: 1753\n",
      "정기구독률: 17.20%\n"
     ]
    }
   ],
   "source": [
    "# 1. 구독여부 컬럼의 데이터 타입에 따른 전처리\n",
    "if pd.api.types.is_numeric_dtype(df_member['구독여부']):\n",
    "    # 숫자형인 경우: 1은 구독, 0은 비구독으로 가정\n",
    "    df_member['구독여부'] = df_member['구독여부'].map({1: True, 0: False})\n",
    "elif pd.api.types.is_bool_dtype(df_member['구독여부']):\n",
    "    # 이미 boolean 타입인 경우: 그대로 사용\n",
    "    pass\n",
    "elif df_member['구독여부'].dtype == object:\n",
    "    # 문자열인 경우: 문자열로 변환 후 불필요한 공백 제거 및 소문자화\n",
    "    df_member['구독여부'] = df_member['구독여부'].astype(str).str.strip().str.lower()\n",
    "    # 'true', 'false' 등 문자열 매핑 (예: 'yes', 'no' 등 다른 값이 있다면 추가)\n",
    "    mapping_dict = {'true': True, 'false': False, 'yes': True, 'no': False}\n",
    "    df_member['구독여부'] = df_member['구독여부'].map(mapping_dict)\n",
    "else:\n",
    "    # 기타 타입의 경우 그대로 사용\n",
    "    pass\n",
    "\n",
    "# 2. 정기구독 고객 수와 전체 고객 수 계산\n",
    "# Boolean 값에서 True는 1로 처리되므로 sum()으로 구독 고객 수 산출\n",
    "subscribed_count = df_member['구독여부'].sum()\n",
    "\n",
    "# 구독여부 정보가 있는 고객 수(결측치 제외)\n",
    "total_customers = df_member['구독여부'].notna().sum()\n",
    "\n",
    "# 3. 정기구독률 계산 (백분율)\n",
    "subscription_rate = (subscribed_count / total_customers) * 100\n",
    "\n",
    "print(\"총 고객 수 (구독 정보 보유):\", total_customers)\n",
    "print(\"정기구독 고객 수:\", subscribed_count)\n",
    "print(\"정기구독률: {:.2f}%\".format(subscription_rate))\n"
   ]
  },
  {
   "cell_type": "markdown",
   "id": "372b3d92-31ba-46a5-9052-424d1c2a8cd4",
   "metadata": {},
   "source": [
    "***유령고객 비율***"
   ]
  },
  {
   "cell_type": "code",
   "execution_count": 13,
   "id": "6a3bc836-6762-47f4-8610-cba2d9e29728",
   "metadata": {},
   "outputs": [
    {
     "name": "stdout",
     "output_type": "stream",
     "text": [
      "탈퇴하지 않은 총 활성 고객 수: 12380\n",
      "유령고객 수 (최근 3개월간 주문 없음): 3529\n",
      "유령고객 비율: 28.51%\n"
     ]
    }
   ],
   "source": [
    "# 1. df_sales의 '주문일시' 컬럼을 datetime 형식으로 변환\n",
    "df_sales['주문일시'] = pd.to_datetime(df_sales['주문일시'], errors='coerce')\n",
    "\n",
    "# 2. n개월 기준 설정 (수정 가능 부분)\n",
    "n = 3\n",
    "\n",
    "# 3. 탈퇴하지 않은 고객(정상회원) 식별: df_member의 '회원상태' 컬럼에서 '정상회원'인 고객만 선택\n",
    "active_members = df_member[df_member['회원상태'] == '정상회원']['회원번호'].unique()\n",
    "\n",
    "# 4. 기준 날짜(reference_date) 설정: df_sales의 최대 주문일을 기준으로 n개월 전 날짜 계산\n",
    "reference_date = df_sales['주문일시'].max()\n",
    "threshold_date = reference_date - pd.DateOffset(months=n)\n",
    "\n",
    "# 5. 정상회원 중 실제 주문 기록이 있는 고객들의 마지막 주문일을 산출\n",
    "#    - df_sales에서 active_members에 해당하는 주문만 필터링\n",
    "sales_active = df_sales[df_sales['회원번호'].isin(active_members)]\n",
    "last_order = sales_active.groupby('회원번호')['주문일시'].max().reset_index()\n",
    "\n",
    "# 6. 모든 활성 고객 목록과 마지막 주문일을 병합하여, 주문 기록이 없는 고객은 NaT로 남게 함\n",
    "active_df = pd.DataFrame({'회원번호': active_members})\n",
    "active_df = active_df.merge(last_order, on='회원번호', how='left')\n",
    "\n",
    "# 7. 유령고객 조건 적용: 주문 기록이 없거나(즉, NaT) 마지막 주문일이 기준 날짜(threshold_date) 이전이면 유령고객으로 분류\n",
    "active_df['is_ghost'] = active_df['주문일시'].isna() | (active_df['주문일시'] < threshold_date)\n",
    "\n",
    "# 8. 유령고객 비율 계산\n",
    "total_active = active_df.shape[0]\n",
    "ghost_count = active_df['is_ghost'].sum()\n",
    "ghost_ratio = (ghost_count / total_active) * 100\n",
    "\n",
    "# 결과 출력\n",
    "print(\"탈퇴하지 않은 총 활성 고객 수:\", total_active)\n",
    "print(\"유령고객 수 (최근 {}개월간 주문 없음): {}\".format(n, ghost_count))\n",
    "print(\"유령고객 비율: {:.2f}%\".format(ghost_ratio))\n"
   ]
  }
 ],
 "metadata": {
  "kernelspec": {
   "display_name": "Python 3 (ipykernel)",
   "language": "python",
   "name": "python3"
  },
  "language_info": {
   "codemirror_mode": {
    "name": "ipython",
    "version": 3
   },
   "file_extension": ".py",
   "mimetype": "text/x-python",
   "name": "python",
   "nbconvert_exporter": "python",
   "pygments_lexer": "ipython3",
   "version": "3.12.4"
  }
 },
 "nbformat": 4,
 "nbformat_minor": 5
}
