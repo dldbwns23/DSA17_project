{
 "cells": [
  {
   "cell_type": "markdown",
   "id": "0b3e21bd-c004-43e8-892b-cf9773ecda5b",
   "metadata": {},
   "source": [
    "배송지연 여부 예측모델"
   ]
  },
  {
   "cell_type": "code",
   "execution_count": null,
   "id": "5e223ddd-2d82-4de3-bf75-d784176b7dc9",
   "metadata": {},
   "outputs": [],
   "source": [
    "import pandas as pd\n",
    "from sklearn.model_selection import train_test_split\n",
    "from sklearn.ensemble import RandomForestClassifier\n",
    "from sklearn.metrics import accuracy_score\n",
    "\n",
    "\n",
    "df = pd.read_csv(\"Sales_Data05.csv\", encoding=\"cp949\") \n",
    "\n",
    "# 날짜 데이터 변환\n",
    "df['배송시작일'] = pd.to_datetime(df['배송시작일'])\n",
    "df['배송완료일'] = pd.to_datetime(df['배송완료일'])\n",
    "\n",
    "# 배송 지연 여부  \n",
    "df['배송지연'] = ((df['배송완료일'] - df['배송시작일']).dt.days >= 2).astype(int)\n",
    "\n",
    "# 필요한 컬럼\n",
    "df = df[['구매수량', '구매금액', '사용 적립금', '사용 포인트 네이버', '배송지연']].dropna()\n",
    "\n",
    "# 특성, 타겟 설정\n",
    "X = df.drop(columns=['배송지연'])\n",
    "y = df['배송지연']\n",
    "\n",
    "# 데이터 나누기\n",
    "X_train, X_test, y_train, y_test = train_test_split(X, y, test_size=0.2, random_state=42)\n",
    "\n",
    "# 랜덤 포레스트 모델 학습\n",
    "model = RandomForestClassifier()\n",
    "model.fit(X_train, y_train)"
   ]
  },
  {
   "cell_type": "code",
   "execution_count": 73,
   "id": "fdbd9c9c-260e-4db9-a80b-c83e7068ffe2",
   "metadata": {},
   "outputs": [
    {
     "name": "stdout",
     "output_type": "stream",
     "text": [
      "정확도: 0.8522559738967094\n"
     ]
    }
   ],
   "source": [
    "# 예측 및 정확도 평가\n",
    "y_pred = model.predict(X_test)\n",
    "print(\"정확도:\", accuracy_score(y_test, y_pred))"
   ]
  },
  {
   "cell_type": "markdown",
   "id": "a00f3a56-200e-465c-bed1-882e6aa48101",
   "metadata": {},
   "source": [
    "베송지연 경험 고객 비율"
   ]
  },
  {
   "cell_type": "code",
   "execution_count": 84,
   "id": "638dd8e7-d264-4a49-9fc6-cbf82ba02720",
   "metadata": {
    "scrolled": true
   },
   "outputs": [
    {
     "name": "stdout",
     "output_type": "stream",
     "text": [
      "배송 지연을 경험한 고객 비율: 14.53%\n"
     ]
    }
   ],
   "source": [
    "import pandas as pd\n",
    "\n",
    "# 데이터 불러오기\n",
    "df_sales = pd.read_csv(\"Sales_Data05.csv\", encoding=\"cp949\")\n",
    "\n",
    "# 날짜 변환 \n",
    "df_sales['배송시작일'] = pd.to_datetime(df_sales['배송시작일'], errors='coerce')\n",
    "df_sales['배송완료일'] = pd.to_datetime(df_sales['배송완료일'], errors='coerce')\n",
    "\n",
    "# 배송 지연 여부 계산 \n",
    "df_sales['배송지연'] = (df_sales['배송완료일'] - df_sales['배송시작일']).dt.days >= 2\n",
    "\n",
    "# 배송 지연 경험 고객 비율 계산\n",
    "delayed_customers_ratio = df_sales['배송지연'].mean() * 100\n",
    "\n",
    "# 결과 출력\n",
    "print(f\"배송 지연을 경험한 고객 비율: {delayed_customers_ratio:.2f}%\")"
   ]
  },
  {
   "cell_type": "markdown",
   "id": "3117a3f5-f1e0-4ca4-ad04-845b0ccfa2a1",
   "metadata": {},
   "source": [
    "배송지연과 재구매율"
   ]
  },
  {
   "cell_type": "code",
   "execution_count": 86,
   "id": "7d428698-47cf-49db-92cc-fb96cd259890",
   "metadata": {},
   "outputs": [
    {
     "name": "stdout",
     "output_type": "stream",
     "text": [
      "배송 지연을 경험한 고객들의 재구매율: 99.98%\n"
     ]
    }
   ],
   "source": [
    "import pandas as pd\n",
    "\n",
    "# 데이터 불러오기\n",
    "df_sales = pd.read_csv(\"Sales_Data05.csv\", encoding=\"cp949\")\n",
    "# 날짜 변환\n",
    "df_sales[['배송시작일', '배송완료일']] = df_sales[['배송시작일', '배송완료일']].apply(pd.to_datetime)\n",
    "\n",
    "# 배송 지연 여부 (배송완료일 - 배송시작일이 2일 이상)\n",
    "df_sales['배송지연'] = (df_sales['배송완료일'] - df_sales['배송시작일']).dt.days >= 2\n",
    "\n",
    "# 배송 지연을 경험한 고객 리스트\n",
    "delayed_customers = df_sales[df_sales['배송지연']]['회원번호'].unique()\n",
    "\n",
    "# 재구매 여부 (회원번호가 여러 번 등장하면 재구매)\n",
    "df_sales['재구매'] = df_sales.duplicated(subset=['회원번호'], keep=False).astype(int)\n",
    "\n",
    "# 배송 지연 고객들의 재구매율 계산\n",
    "delayed_repurchase_rate = df_sales[df_sales['회원번호'].isin(delayed_customers)]['재구매'].mean()\n",
    "\n",
    "# 결과 출력\n",
    "print(f'배송 지연을 경험한 고객들의 재구매율: {delayed_repurchase_rate:.2%}')"
   ]
  },
  {
   "cell_type": "markdown",
   "id": "c04dd9a4-02ac-4c1a-93a6-8ed068d5ef58",
   "metadata": {},
   "source": [
    "배송지연과 고객이탈율"
   ]
  },
  {
   "cell_type": "code",
   "execution_count": 62,
   "id": "a32ec82e-2ec8-44f9-8c72-2fadda2cd18f",
   "metadata": {},
   "outputs": [],
   "source": [
    "df_member = pd.read_csv(\"Member_Data.csv\", encoding=\"cp949\")\n",
    "\n",
    "# 고객별 최근 구매일 계산 (가장 최근 주문일시)\n",
    "latest_purchase = df_sales.groupby('회원번호')['주문일시'].max().reset_index()\n",
    "latest_purchase.rename(columns={'주문일시': '최근구매일'}, inplace=True)"
   ]
  },
  {
   "cell_type": "code",
   "execution_count": 63,
   "id": "c2f97cee-74a7-4b32-bec7-fd75b6361269",
   "metadata": {},
   "outputs": [],
   "source": [
    "# `merge` 사용하여 회원 데이터에 최근 구매일 추가\n",
    "df_member = df_member.merge(latest_purchase, on='회원번호', how='left')\n",
    "\n",
    "def check_ghost_rate(n):\n",
    "    cutoff_date = df_sales['주문일시'].max() - pd.DateOffset(days=n)\n",
    "    ghost_rate = (df_member['최근구매일'] < cutoff_date).mean() * 100\n",
    "    print(f\"최근 {n}일간 주문 없는 유령 고객 비율: {ghost_rate:.2f}%\")"
   ]
  },
  {
   "cell_type": "code",
   "execution_count": 64,
   "id": "1231b813-4e9a-4023-9530-2c9f27111fb9",
   "metadata": {},
   "outputs": [],
   "source": [
    "def check_churn_rate():\n",
    "    # 배송 지연 여부별 고객 이탈률 계산\n",
    "    # 회원 정보에 고객 이탈 여부 추가 (구매 내역이 없거나 탈퇴한 회원)\n",
    "    df_member['고객이탈'] = df_member['최근구매일'].isna() | (df_member['회원상태'] == '탈퇴')\n",
    "\n",
    "    # df_sales`와 `df_member` 병합하여 고객 이탈 여부 포함\n",
    "    df_sales_temp = df_sales.merge(df_member[['회원번호', '고객이탈']], on='회원번호', how='left')\n",
    "\n",
    "    # 배송 지연 여부별 고객 이탈률 계산 및 출력\n",
    "    print(df_sales_temp.pivot_table(index='배송지연', values='고객이탈', aggfunc='mean'))"
   ]
  },
  {
   "cell_type": "code",
   "execution_count": 75,
   "id": "31f6faa1-b3f1-4908-9527-76795aa657d4",
   "metadata": {},
   "outputs": [
    {
     "name": "stdout",
     "output_type": "stream",
     "text": [
      "최근 60일간 주문 없는 유령 고객 비율: 37.26%\n",
      "           고객이탈\n",
      "배송지연           \n",
      "False  0.011090\n",
      "True   0.011003\n"
     ]
    }
   ],
   "source": [
    "check_ghost_rate(n=60)\n",
    "check_churn_rate()"
   ]
  },
  {
   "cell_type": "markdown",
   "id": "3d8125a5-b684-49c4-8e17-772ed1577907",
   "metadata": {},
   "source": [
    "RFM기반 클러스터별 배송지연비율"
   ]
  },
  {
   "cell_type": "code",
   "execution_count": 81,
   "id": "ddfa1fa3-01fd-472f-ab03-e774751c1c0b",
   "metadata": {},
   "outputs": [
    {
     "name": "stdout",
     "output_type": "stream",
     "text": [
      "   클러스터    배송지연비율\n",
      "0     0  0.140700\n",
      "1     1  0.146076\n",
      "2     2  0.145162\n",
      "3     3  0.145034\n"
     ]
    }
   ],
   "source": [
    "import pandas as pd\n",
    "import numpy as np\n",
    "from sklearn.preprocessing import StandardScaler\n",
    "from sklearn.cluster import KMeans\n",
    "\n",
    "df_rfm = pd.read_csv(\"RFM_Score.csv\", encoding=\"utf-8\")\n",
    "\n",
    "# 날짜 변환 \n",
    "df_sales['배송시작일'] = pd.to_datetime(df_sales['배송시작일'], errors='coerce', dayfirst=True)\n",
    "df_sales['배송완료일'] = pd.to_datetime(df_sales['배송완료일'], errors='coerce', dayfirst=True)\n",
    "\n",
    "# 배송 지연 여부 \n",
    "df_sales['배송지연'] = (df_sales['배송완료일'] - df_sales['배송시작일']).dt.days >= 2\n",
    "\n",
    "# 고객별 배송 지연 경험 비율 계산\n",
    "customer_delay_rate = df_sales.groupby('회원번호')['배송지연'].mean().reset_index()\n",
    "customer_delay_rate.rename(columns={'배송지연': '배송지연비율'}, inplace=True)\n",
    "\n",
    "# RFM 데이터 정규화\n",
    "rfm_features = df_rfm[['Recency', 'Frequency', 'Monetary']]\n",
    "scaler = StandardScaler()\n",
    "rfm_scaled = scaler.fit_transform(rfm_features)\n",
    "\n",
    "# K-Means 클러스터링 (K=4)\n",
    "kmeans = KMeans(n_clusters=4, random_state=42, n_init=10)\n",
    "df_rfm['클러스터'] = kmeans.fit_predict(rfm_scaled)\n",
    "\n",
    "# RFM 데이터와 배송 지연 데이터 병합\n",
    "df_rfm = df_rfm.merge(customer_delay_rate, on='회원번호', how='left')\n",
    "\n",
    "# 클러스터별 배송 지연 경험 비율 계산\n",
    "cluster_delay_rate = df_rfm.groupby(\"클러스터\")[\"배송지연비율\"].mean().reset_index()\n",
    "\n",
    "print(cluster_delay_rate)"
   ]
  },
  {
   "cell_type": "code",
   "execution_count": null,
   "id": "8712ce32-6a98-4989-9662-84fdb75246dc",
   "metadata": {},
   "outputs": [],
   "source": []
  }
 ],
 "metadata": {
  "kernelspec": {
   "display_name": "Python 3 (ipykernel)",
   "language": "python",
   "name": "python3"
  },
  "language_info": {
   "codemirror_mode": {
    "name": "ipython",
    "version": 3
   },
   "file_extension": ".py",
   "mimetype": "text/x-python",
   "name": "python",
   "nbconvert_exporter": "python",
   "pygments_lexer": "ipython3",
   "version": "3.12.7"
  }
 },
 "nbformat": 4,
 "nbformat_minor": 5
}
