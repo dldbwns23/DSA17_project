{
 "cells": [
  {
   "cell_type": "code",
   "execution_count": 1,
   "id": "7bccf409-252b-4ffa-ae6f-36528d583113",
   "metadata": {},
   "outputs": [],
   "source": [
    "import pandas as pd\n",
    "import matplotlib as mpl\n",
    "import matplotlib.pyplot as plt\n",
    "import seaborn as sns\n",
    "import scipy.stats as stats\n",
    "import plotly.express as px\n",
    "mpl.rc('font', family='Malgun Gothic')"
   ]
  },
  {
   "cell_type": "code",
   "execution_count": 5,
   "id": "a9038c86-f3ae-4f7d-993f-d1cece7375f7",
   "metadata": {},
   "outputs": [],
   "source": [
    "df_member = pd.read_csv('Member_Data.csv', encoding='EUC-KR')\n",
    "df_product = pd.read_csv('Product_Data.csv')\n",
    "df_sales = pd.read_csv('Sales_Data05.csv')"
   ]
  },
  {
   "cell_type": "markdown",
   "id": "01a563bb-b1b4-4fac-9892-5860e1dcf9c2",
   "metadata": {},
   "source": [
    "- 제품 고객 만족도, 재구매율"
   ]
  },
  {
   "cell_type": "code",
   "execution_count": null,
   "id": "ad706d0f-8384-4163-bae9-e94f06685dad",
   "metadata": {},
   "outputs": [],
   "source": [
    "# df_product의 '제품번호', '물품대분류' + df_sales의 '제품번호', '회원번호'로 고객의 제품 카테고리별 구매 횟수 추정?"
   ]
  },
  {
   "cell_type": "markdown",
   "id": "43f99ab6-e381-45fe-a175-26aab7e942f2",
   "metadata": {},
   "source": [
    "- 고객 이탈률"
   ]
  },
  {
   "cell_type": "code",
   "execution_count": 27,
   "id": "562619ab-3b96-4ce9-bc42-a26a4b1b1c3c",
   "metadata": {},
   "outputs": [
    {
     "data": {
      "text/plain": [
       "회원상태\n",
       "정상회원     12380\n",
       "탈퇴         156\n",
       "탈퇴처리중        2\n",
       "탈퇴신청         1\n",
       "Name: count, dtype: int64"
      ]
     },
     "execution_count": 27,
     "metadata": {},
     "output_type": "execute_result"
    }
   ],
   "source": [
    "# \"회원상태\" 하나 null\n",
    "df_member['회원상태'].value_counts()"
   ]
  },
  {
   "cell_type": "code",
   "execution_count": 47,
   "id": "f617f7cf-0585-4b2b-96d3-68598a9c491a",
   "metadata": {},
   "outputs": [
    {
     "name": "stdout",
     "output_type": "stream",
     "text": [
      "고객 이탈률은 1.2759170653907497% 이다.\n"
     ]
    }
   ],
   "source": [
    "# '정상회원'이 아닐 경우 '고객 이탈'로 가정\n",
    "cond_leave = df_member['회원상태'] != \"정상회원\"\n",
    "\n",
    "leave_num = len(df_member.loc[cond_leave].index)\n",
    "member_num = len(df_member['회원상태'])\n",
    "\n",
    "customer_leave_rate = leave_num / member_num * 100\n",
    "print(f\"고객 이탈률은 {customer_leave_rate}% 이다.\")"
   ]
  },
  {
   "cell_type": "markdown",
   "id": "63d9637d-a7fe-4f4c-9d56-76e995f97ecc",
   "metadata": {},
   "source": [
    "- n개월 이상 구매 유지 고객비율"
   ]
  },
  {
   "cell_type": "code",
   "execution_count": 189,
   "id": "3864af60-e102-4dd1-a2b3-f09c29205b8a",
   "metadata": {},
   "outputs": [
    {
     "name": "stdin",
     "output_type": "stream",
     "text": [
      " 1\n"
     ]
    },
    {
     "name": "stdout",
     "output_type": "stream",
     "text": [
      "1개월 이상 구매 유지 고객비율은 100.0% 이다.\n"
     ]
    }
   ],
   "source": [
    "# 처음 주문과 가장 마지막 주문으로 n개월 이상 구매를 유지하는지 판단함.\n",
    "# 주문 취소 여부는 고려하지 않음.\n",
    "# 1개월 이상 구매 유지 고객 = 한 번 구매 후 아무 이력 없는 고객도 포함한다 가정. -> 즉, df_sales 데이터 내에서는 모든 고객이 1개월 이상 구매 유지 중.\n",
    "# -> 회원가입만 하고 구매하지 않은 고객이 있을 가능성, df_member와 병합 후 계산할 필요가 있음.\n",
    "df_sales['주문일시_dt'] = pd.to_datetime(df_sales['주문일시'])\n",
    "df_sales['주문일시_year'] = df_sales['주문일시_dt'].dt.year\n",
    "df_sales['주문일시_month'] = df_sales['주문일시_dt'].dt.month\n",
    "df_sales['주문일시_day'] = df_sales['주문일시_dt'].dt.day\n",
    "\n",
    "temp1 = df_sales.sort_values(by=['회원번호', '주문일시_month'])\n",
    "df_orderdate = temp1.pivot_table(index = '회원번호', values = '주문일시_month', aggfunc = ['min', 'max']).reset_index()\n",
    "# 연도는 모두 2021로 동일하므로 고려하지 않음.\n",
    "df_orderdate['n개월구매유지'] = ( df_orderdate['max']['주문일시_month'] - df_orderdate['min']['주문일시_month'] )\n",
    "\n",
    "n = int(input())\n",
    "n -= 1\n",
    "more_n_cond = df_orderdate['n개월구매유지'] >= n\n",
    "keep_customer_num = len(df_orderdate.loc[more_n_cond].index)\n",
    "customer_num = len(df_orderdate['회원번호'])\n",
    "customer_keep_rate = keep_customer_num / customer_num * 100\n",
    "print(f\"{n+1}개월 이상 구매 유지 고객비율은 {customer_keep_rate}% 이다.\")"
   ]
  },
  {
   "cell_type": "code",
   "execution_count": 141,
   "id": "ce99ab94-592e-40d1-9767-a71145235c46",
   "metadata": {},
   "outputs": [],
   "source": [
    "#df_sales['연'].value_counts()\n",
    "#df_orderdate['n개월구매유지'].value_counts()"
   ]
  },
  {
   "cell_type": "markdown",
   "id": "d1c2f58a-4f1d-4d82-8b36-4a193f984795",
   "metadata": {},
   "source": [
    "- 배송지연율"
   ]
  },
  {
   "cell_type": "code",
   "execution_count": 187,
   "id": "730104de-d25c-422b-a688-8e565c2f75f6",
   "metadata": {},
   "outputs": [
    {
     "name": "stdout",
     "output_type": "stream",
     "text": [
      "배송지연율은 14.20210329486914% 이다.\n"
     ]
    }
   ],
   "source": [
    "# 2일 이상 걸릴 소모 시 배송 지연으로 가정.\n",
    "df_sales['배송시작일_dt'] = pd.to_datetime(df_sales['배송시작일'])\n",
    "df_sales['배송시작일_year'] = df_sales['배송시작일_dt'].dt.year\n",
    "df_sales['배송시작일_month'] = df_sales['배송시작일_dt'].dt.month\n",
    "df_sales['배송시작일_day'] = df_sales['배송시작일_dt'].dt.day\n",
    "\n",
    "df_sales['배송완료일_dt'] = pd.to_datetime(df_sales['배송완료일'])\n",
    "df_sales['배송완료일_year'] = df_sales['배송완료일_dt'].dt.year\n",
    "df_sales['배송완료일_month'] = df_sales['배송완료일_dt'].dt.month\n",
    "df_sales['배송완료일_day'] = df_sales['배송완료일_dt'].dt.day\n",
    "\n",
    "# 배송 연도는 모두 2021로 동일하므로 고려하지 않음, 윤년을 고려하여 코드를 수정할 필요가 있음.\n",
    "# 배송 완료 후 월이 넘어갈 때,, 오류O\n",
    "#date_list = [31, 28, 31, 30, 31, 30, 31, 31, 30, 31, 30, 31]\n",
    "#if (df_sales['배송완료일_month'] > df_sales['배송시작일_month']) :\n",
    "#    df_sales['배송소모일'] = ( date_list[df_sales['배송시작일_month']] - df_sales['배송시작일_day'] ) + df_sales['배송완료일_day'] + ( (df_sales['배송완료일_month'] - df_sales['배송시작일_month'] - 1) * 30 )\n",
    "df_sales['배송소모일'] = df_sales['배송완료일_day'] - df_sales['배송시작일_day']\n",
    "delivery_late_cond = df_sales['배송소모일'] >= 2\n",
    "delivery_late_num = len(df_sales.loc[delivery_late_cond].index)\n",
    "\n",
    "# 전체 배송 건 수\n",
    "delivery_cond = pd.notna(df_sales['배송시작일'])\n",
    "total_delivery_num = len(df_sales.loc[delivery_cond].index)\n",
    "\n",
    "delivery_late_rate = delivery_late_num / total_delivery_num * 100\n",
    "print(f\"배송지연율은 {delivery_late_rate}% 이다.\")"
   ]
  },
  {
   "cell_type": "code",
   "execution_count": 185,
   "id": "42a60a86-f5e5-47a7-9ca7-b201265789f4",
   "metadata": {},
   "outputs": [],
   "source": [
    "#df_sales['배송시작일_year'].value_counts()\n",
    "#df_sales['배송완료일_year'].value_counts()\n",
    "#df_sales.info()"
   ]
  },
  {
   "cell_type": "code",
   "execution_count": null,
   "id": "c7bd501f-3574-40c7-8e1d-755768422878",
   "metadata": {},
   "outputs": [],
   "source": []
  }
 ],
 "metadata": {
  "kernelspec": {
   "display_name": "Python 3 (ipykernel)",
   "language": "python",
   "name": "python3"
  },
  "language_info": {
   "codemirror_mode": {
    "name": "ipython",
    "version": 3
   },
   "file_extension": ".py",
   "mimetype": "text/x-python",
   "name": "python",
   "nbconvert_exporter": "python",
   "pygments_lexer": "ipython3",
   "version": "3.12.7"
  }
 },
 "nbformat": 4,
 "nbformat_minor": 5
}
