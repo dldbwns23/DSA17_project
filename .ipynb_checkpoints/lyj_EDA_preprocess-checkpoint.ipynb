{
 "cells": [
  {
   "cell_type": "code",
   "execution_count": 58,
   "id": "c9918777-1e36-4558-99ff-2f26b05628f2",
   "metadata": {
    "execution": {
     "iopub.execute_input": "2025-02-08T12:03:32.380376Z",
     "iopub.status.busy": "2025-02-08T12:03:32.380376Z",
     "iopub.status.idle": "2025-02-08T12:03:32.394216Z",
     "shell.execute_reply": "2025-02-08T12:03:32.393215Z",
     "shell.execute_reply.started": "2025-02-08T12:03:32.380376Z"
    }
   },
   "outputs": [],
   "source": [
    "import numpy as np\n",
    "import pandas as pd\n",
    "import matplotlib as mpl\n",
    "import matplotlib.pyplot as plt\n",
    "import plotly.express as px\n",
    "import seaborn as sns\n",
    "import scipy.stats as stats\n",
    "import datetime\n",
    "from tqdm import tqdm\n",
    "\n",
    "mpl.rc('font', family='Malgun Gothic')"
   ]
  },
  {
   "cell_type": "code",
   "execution_count": 2,
   "id": "5ad47236-e9a1-4720-a984-97479fec894d",
   "metadata": {
    "execution": {
     "iopub.execute_input": "2025-02-08T11:29:37.712010Z",
     "iopub.status.busy": "2025-02-08T11:29:37.712010Z",
     "iopub.status.idle": "2025-02-08T11:29:38.380108Z",
     "shell.execute_reply": "2025-02-08T11:29:38.379128Z",
     "shell.execute_reply.started": "2025-02-08T11:29:37.712010Z"
    }
   },
   "outputs": [],
   "source": [
    "# generate dataframe\n",
    "df_member = pd.read_csv('./Member_Data.csv', encoding='cp949')\n",
    "df_member = df_member.drop(columns='Unnamed: 0')\n",
    "\n",
    "df_product = pd.read_csv('./Product_Data.csv', encoding='utf-8')\n",
    "\n",
    "df_sales = pd.read_csv('./Sales_Data05.csv', encoding='utf-8')"
   ]
  },
  {
   "cell_type": "code",
   "execution_count": 3,
   "id": "12c2e525-9e86-4478-badb-35ea24a253e6",
   "metadata": {
    "execution": {
     "iopub.execute_input": "2025-02-08T11:29:38.381107Z",
     "iopub.status.busy": "2025-02-08T11:29:38.381107Z",
     "iopub.status.idle": "2025-02-08T11:29:38.411788Z",
     "shell.execute_reply": "2025-02-08T11:29:38.410788Z",
     "shell.execute_reply.started": "2025-02-08T11:29:38.381107Z"
    }
   },
   "outputs": [
    {
     "data": {
      "text/html": [
       "<div>\n",
       "<style scoped>\n",
       "    .dataframe tbody tr th:only-of-type {\n",
       "        vertical-align: middle;\n",
       "    }\n",
       "\n",
       "    .dataframe tbody tr th {\n",
       "        vertical-align: top;\n",
       "    }\n",
       "\n",
       "    .dataframe thead th {\n",
       "        text-align: right;\n",
       "    }\n",
       "</style>\n",
       "<table border=\"1\" class=\"dataframe\">\n",
       "  <thead>\n",
       "    <tr style=\"text-align: right;\">\n",
       "      <th></th>\n",
       "      <th>회원번호</th>\n",
       "      <th>회원상태</th>\n",
       "      <th>성별</th>\n",
       "      <th>나이</th>\n",
       "      <th>등록카드</th>\n",
       "      <th>결혼</th>\n",
       "      <th>구독여부</th>\n",
       "      <th>주소지</th>\n",
       "      <th>세부주소지</th>\n",
       "    </tr>\n",
       "  </thead>\n",
       "  <tbody>\n",
       "    <tr>\n",
       "      <th>0</th>\n",
       "      <td>18764160</td>\n",
       "      <td>정상회원</td>\n",
       "      <td>여</td>\n",
       "      <td>68</td>\n",
       "      <td>농협중앙회</td>\n",
       "      <td>기혼</td>\n",
       "      <td>False</td>\n",
       "      <td>서울특별시</td>\n",
       "      <td>성동구</td>\n",
       "    </tr>\n",
       "    <tr>\n",
       "      <th>1</th>\n",
       "      <td>18792000</td>\n",
       "      <td>정상회원</td>\n",
       "      <td>남</td>\n",
       "      <td>83</td>\n",
       "      <td>연결앱결제</td>\n",
       "      <td>NaN</td>\n",
       "      <td>False</td>\n",
       "      <td>강원도</td>\n",
       "      <td>강릉시</td>\n",
       "    </tr>\n",
       "    <tr>\n",
       "      <th>2</th>\n",
       "      <td>18942336</td>\n",
       "      <td>정상회원</td>\n",
       "      <td>여</td>\n",
       "      <td>39</td>\n",
       "      <td>신한은행</td>\n",
       "      <td>기혼</td>\n",
       "      <td>False</td>\n",
       "      <td>인천광역시</td>\n",
       "      <td>중구</td>\n",
       "    </tr>\n",
       "    <tr>\n",
       "      <th>3</th>\n",
       "      <td>18949760</td>\n",
       "      <td>정상회원</td>\n",
       "      <td>여</td>\n",
       "      <td>73</td>\n",
       "      <td>기업은행</td>\n",
       "      <td>NaN</td>\n",
       "      <td>NaN</td>\n",
       "      <td>강원도</td>\n",
       "      <td>홍천군</td>\n",
       "    </tr>\n",
       "    <tr>\n",
       "      <th>4</th>\n",
       "      <td>19391488</td>\n",
       "      <td>정상회원</td>\n",
       "      <td>여</td>\n",
       "      <td>52</td>\n",
       "      <td>연결앱결제</td>\n",
       "      <td>기혼</td>\n",
       "      <td>False</td>\n",
       "      <td>대전광역시</td>\n",
       "      <td>중구</td>\n",
       "    </tr>\n",
       "  </tbody>\n",
       "</table>\n",
       "</div>"
      ],
      "text/plain": [
       "       회원번호  회원상태 성별  나이   등록카드   결혼   구독여부    주소지 세부주소지\n",
       "0  18764160  정상회원  여  68  농협중앙회   기혼  False  서울특별시   성동구\n",
       "1  18792000  정상회원  남  83  연결앱결제  NaN  False    강원도   강릉시\n",
       "2  18942336  정상회원  여  39   신한은행   기혼  False  인천광역시    중구\n",
       "3  18949760  정상회원  여  73   기업은행  NaN    NaN    강원도   홍천군\n",
       "4  19391488  정상회원  여  52  연결앱결제   기혼  False  대전광역시    중구"
      ]
     },
     "execution_count": 3,
     "metadata": {},
     "output_type": "execute_result"
    }
   ],
   "source": [
    "df_member.head()"
   ]
  },
  {
   "cell_type": "code",
   "execution_count": 4,
   "id": "b9327310-3854-4a8e-be5d-4a1864709b3e",
   "metadata": {
    "execution": {
     "iopub.execute_input": "2025-02-08T11:29:38.412787Z",
     "iopub.status.busy": "2025-02-08T11:29:38.411788Z",
     "iopub.status.idle": "2025-02-08T11:29:38.427814Z",
     "shell.execute_reply": "2025-02-08T11:29:38.426807Z",
     "shell.execute_reply.started": "2025-02-08T11:29:38.412787Z"
    }
   },
   "outputs": [
    {
     "data": {
      "text/html": [
       "<div>\n",
       "<style scoped>\n",
       "    .dataframe tbody tr th:only-of-type {\n",
       "        vertical-align: middle;\n",
       "    }\n",
       "\n",
       "    .dataframe tbody tr th {\n",
       "        vertical-align: top;\n",
       "    }\n",
       "\n",
       "    .dataframe thead th {\n",
       "        text-align: right;\n",
       "    }\n",
       "</style>\n",
       "<table border=\"1\" class=\"dataframe\">\n",
       "  <thead>\n",
       "    <tr style=\"text-align: right;\">\n",
       "      <th></th>\n",
       "      <th>제품번호</th>\n",
       "      <th>물품명</th>\n",
       "      <th>물품대분류</th>\n",
       "      <th>물품중분류</th>\n",
       "      <th>상품중량</th>\n",
       "    </tr>\n",
       "  </thead>\n",
       "  <tbody>\n",
       "    <tr>\n",
       "      <th>0</th>\n",
       "      <td>100021V2_0</td>\n",
       "      <td>2단무늬컵</td>\n",
       "      <td>식기/편백</td>\n",
       "      <td>자기</td>\n",
       "      <td>1p</td>\n",
       "    </tr>\n",
       "    <tr>\n",
       "      <th>1</th>\n",
       "      <td>100022V2_1</td>\n",
       "      <td>7곡딸기롤과자</td>\n",
       "      <td>과자</td>\n",
       "      <td>스낵</td>\n",
       "      <td>100g/10개입</td>\n",
       "    </tr>\n",
       "    <tr>\n",
       "      <th>2</th>\n",
       "      <td>100023V2_2</td>\n",
       "      <td>7곡참식</td>\n",
       "      <td>식사대용</td>\n",
       "      <td>선식/생식</td>\n",
       "      <td>700g</td>\n",
       "    </tr>\n",
       "    <tr>\n",
       "      <th>3</th>\n",
       "      <td>100024V2_3</td>\n",
       "      <td>가리비</td>\n",
       "      <td>생물수산</td>\n",
       "      <td>패류/갑각류</td>\n",
       "      <td>1.5kg</td>\n",
       "    </tr>\n",
       "    <tr>\n",
       "      <th>4</th>\n",
       "      <td>100025V2_3</td>\n",
       "      <td>가리비</td>\n",
       "      <td>생물수산</td>\n",
       "      <td>패류/갑각류</td>\n",
       "      <td>1kg</td>\n",
       "    </tr>\n",
       "  </tbody>\n",
       "</table>\n",
       "</div>"
      ],
      "text/plain": [
       "         제품번호      물품명  물품대분류   물품중분류       상품중량\n",
       "0  100021V2_0    2단무늬컵  식기/편백      자기         1p\n",
       "1  100022V2_1  7곡딸기롤과자     과자      스낵  100g/10개입\n",
       "2  100023V2_2     7곡참식   식사대용   선식/생식       700g\n",
       "3  100024V2_3      가리비   생물수산  패류/갑각류      1.5kg\n",
       "4  100025V2_3      가리비   생물수산  패류/갑각류        1kg"
      ]
     },
     "execution_count": 4,
     "metadata": {},
     "output_type": "execute_result"
    }
   ],
   "source": [
    "df_product.head()"
   ]
  },
  {
   "cell_type": "code",
   "execution_count": 5,
   "id": "f384e614-f8a3-4637-8ffc-24fe957071b5",
   "metadata": {
    "execution": {
     "iopub.execute_input": "2025-02-08T11:29:38.429813Z",
     "iopub.status.busy": "2025-02-08T11:29:38.429813Z",
     "iopub.status.idle": "2025-02-08T11:29:38.444189Z",
     "shell.execute_reply": "2025-02-08T11:29:38.442188Z",
     "shell.execute_reply.started": "2025-02-08T11:29:38.429813Z"
    }
   },
   "outputs": [
    {
     "data": {
      "text/html": [
       "<div>\n",
       "<style scoped>\n",
       "    .dataframe tbody tr th:only-of-type {\n",
       "        vertical-align: middle;\n",
       "    }\n",
       "\n",
       "    .dataframe tbody tr th {\n",
       "        vertical-align: top;\n",
       "    }\n",
       "\n",
       "    .dataframe thead th {\n",
       "        text-align: right;\n",
       "    }\n",
       "</style>\n",
       "<table border=\"1\" class=\"dataframe\">\n",
       "  <thead>\n",
       "    <tr style=\"text-align: right;\">\n",
       "      <th></th>\n",
       "      <th>회원번호</th>\n",
       "      <th>회원상태</th>\n",
       "      <th>구매수량</th>\n",
       "      <th>구매금액</th>\n",
       "      <th>주문일시</th>\n",
       "      <th>배송시작일</th>\n",
       "      <th>배송완료일</th>\n",
       "      <th>사용 적립금</th>\n",
       "      <th>사용 포인트 네이버</th>\n",
       "      <th>주문취소여부</th>\n",
       "      <th>주문시간</th>\n",
       "      <th>제품번호</th>\n",
       "    </tr>\n",
       "  </thead>\n",
       "  <tbody>\n",
       "    <tr>\n",
       "      <th>0</th>\n",
       "      <td>1032097472</td>\n",
       "      <td>정상회원</td>\n",
       "      <td>1.0</td>\n",
       "      <td>7083</td>\n",
       "      <td>2021-01-02</td>\n",
       "      <td>NaN</td>\n",
       "      <td>NaN</td>\n",
       "      <td>0</td>\n",
       "      <td>0</td>\n",
       "      <td>주문취소</td>\n",
       "      <td>오후 12:60</td>\n",
       "      <td>100021783V2_1337</td>\n",
       "    </tr>\n",
       "    <tr>\n",
       "      <th>1</th>\n",
       "      <td>1032097472</td>\n",
       "      <td>정상회원</td>\n",
       "      <td>1.0</td>\n",
       "      <td>29865</td>\n",
       "      <td>2021-01-02</td>\n",
       "      <td>2021-01-02</td>\n",
       "      <td>2021-01-02</td>\n",
       "      <td>0</td>\n",
       "      <td>0</td>\n",
       "      <td>NaN</td>\n",
       "      <td>오후 12:60</td>\n",
       "      <td>100022137V2_1606</td>\n",
       "    </tr>\n",
       "    <tr>\n",
       "      <th>2</th>\n",
       "      <td>1032097472</td>\n",
       "      <td>정상회원</td>\n",
       "      <td>1.0</td>\n",
       "      <td>23164</td>\n",
       "      <td>2021-01-02</td>\n",
       "      <td>2021-01-02</td>\n",
       "      <td>2021-01-03</td>\n",
       "      <td>0</td>\n",
       "      <td>0</td>\n",
       "      <td>NaN</td>\n",
       "      <td>오후 12:60</td>\n",
       "      <td>100021452V2_1113</td>\n",
       "    </tr>\n",
       "    <tr>\n",
       "      <th>3</th>\n",
       "      <td>369152832</td>\n",
       "      <td>정상회원</td>\n",
       "      <td>1.0</td>\n",
       "      <td>16655</td>\n",
       "      <td>2021-01-02</td>\n",
       "      <td>2021-01-02</td>\n",
       "      <td>2021-01-03</td>\n",
       "      <td>0</td>\n",
       "      <td>0</td>\n",
       "      <td>NaN</td>\n",
       "      <td>오후 12:60</td>\n",
       "      <td>10002931V2_708</td>\n",
       "    </tr>\n",
       "    <tr>\n",
       "      <th>4</th>\n",
       "      <td>1032097472</td>\n",
       "      <td>정상회원</td>\n",
       "      <td>1.0</td>\n",
       "      <td>8423</td>\n",
       "      <td>2021-01-02</td>\n",
       "      <td>NaN</td>\n",
       "      <td>NaN</td>\n",
       "      <td>0</td>\n",
       "      <td>0</td>\n",
       "      <td>주문취소</td>\n",
       "      <td>오후 12:60</td>\n",
       "      <td>100022085V2_1559</td>\n",
       "    </tr>\n",
       "  </tbody>\n",
       "</table>\n",
       "</div>"
      ],
      "text/plain": [
       "         회원번호  회원상태  구매수량   구매금액        주문일시       배송시작일       배송완료일  사용 적립금  \\\n",
       "0  1032097472  정상회원   1.0   7083  2021-01-02         NaN         NaN       0   \n",
       "1  1032097472  정상회원   1.0  29865  2021-01-02  2021-01-02  2021-01-02       0   \n",
       "2  1032097472  정상회원   1.0  23164  2021-01-02  2021-01-02  2021-01-03       0   \n",
       "3   369152832  정상회원   1.0  16655  2021-01-02  2021-01-02  2021-01-03       0   \n",
       "4  1032097472  정상회원   1.0   8423  2021-01-02         NaN         NaN       0   \n",
       "\n",
       "   사용 포인트 네이버 주문취소여부      주문시간              제품번호  \n",
       "0           0   주문취소  오후 12:60  100021783V2_1337  \n",
       "1           0    NaN  오후 12:60  100022137V2_1606  \n",
       "2           0    NaN  오후 12:60  100021452V2_1113  \n",
       "3           0    NaN  오후 12:60    10002931V2_708  \n",
       "4           0   주문취소  오후 12:60  100022085V2_1559  "
      ]
     },
     "execution_count": 5,
     "metadata": {},
     "output_type": "execute_result"
    }
   ],
   "source": [
    "df_sales.head()"
   ]
  },
  {
   "cell_type": "markdown",
   "id": "ae946023-4b59-4cc8-826c-1e95ead1e621",
   "metadata": {},
   "source": [
    "## 고객 이탈률\n",
    "df_member 에서 회원 상태로 정상회원과 탈퇴회원 파악 가능\n",
    "\n",
    "고객 이탈률(%) = ( 탈퇴회원 수 / 전체 회원 수 ) * 100"
   ]
  },
  {
   "cell_type": "code",
   "execution_count": 6,
   "id": "f568562d-b04b-44f8-9dc5-b432ed59c041",
   "metadata": {
    "execution": {
     "iopub.execute_input": "2025-02-08T11:29:38.445194Z",
     "iopub.status.busy": "2025-02-08T11:29:38.445194Z",
     "iopub.status.idle": "2025-02-08T11:29:38.458965Z",
     "shell.execute_reply": "2025-02-08T11:29:38.457964Z",
     "shell.execute_reply.started": "2025-02-08T11:29:38.445194Z"
    }
   },
   "outputs": [
    {
     "data": {
      "text/plain": [
       "회원상태\n",
       "정상회원     12380\n",
       "탈퇴         156\n",
       "탈퇴처리중        2\n",
       "NaN          1\n",
       "탈퇴신청         1\n",
       "Name: count, dtype: int64"
      ]
     },
     "execution_count": 6,
     "metadata": {},
     "output_type": "execute_result"
    }
   ],
   "source": [
    "df_member['회원상태'].value_counts(dropna=False)"
   ]
  },
  {
   "cell_type": "code",
   "execution_count": 7,
   "id": "ccbf2478-b1df-4c03-ad6b-266ae95cd97e",
   "metadata": {
    "execution": {
     "iopub.execute_input": "2025-02-08T11:29:38.459965Z",
     "iopub.status.busy": "2025-02-08T11:29:38.459965Z",
     "iopub.status.idle": "2025-02-08T11:29:38.475296Z",
     "shell.execute_reply": "2025-02-08T11:29:38.474029Z",
     "shell.execute_reply.started": "2025-02-08T11:29:38.459965Z"
    }
   },
   "outputs": [
    {
     "name": "stdout",
     "output_type": "stream",
     "text": [
      "고객 이탈률(%): 1.276%\n"
     ]
    }
   ],
   "source": [
    "# 탈퇴 회원 수\n",
    "cond_withdraw = (df_member['회원상태'] != '정상회원')\n",
    "withdraw = len(df_member.loc[cond_withdraw])\n",
    "\n",
    "# 고객 이탈률 계신 탈퇴 회원 수\n",
    "cond_withdraw = (df_member['회원상태'] != '정상회원')\n",
    "withdraw = len(df_member.loc[cond_withdraw])\n",
    "\n",
    "# 고객 이탈률 계신\n",
    "withdraw_rate = (withdraw / len(df_member)) * 100\n",
    "print(f\"고객 이탈률(%): {np.round(withdraw_rate, 3)}%\")\n",
    "\n",
    "# 고객 이탈률은 1.276%로 크게 높다고 생각이 들지는 않음. 고객 이탈률을 유의미하게 줄이기보다\n",
    "# 다양한 마케팅 전략을 시도하면서 고객 이탈률을 유지하거나 10% 내외로 변동하게 유지하는 것이 중요하다고 판단\n",
    "\n",
    "# 탈퇴 회원의 특징은 무엇인지 그들의 df_sales에서 확인해봐도 좋을 듯!!!"
   ]
  },
  {
   "cell_type": "markdown",
   "id": "f4ffdac9-74a1-49b6-959c-57ce96809986",
   "metadata": {
    "execution": {
     "iopub.execute_input": "2025-02-06T06:56:15.640260Z",
     "iopub.status.busy": "2025-02-06T06:56:15.639256Z",
     "iopub.status.idle": "2025-02-06T06:56:15.660964Z",
     "shell.execute_reply": "2025-02-06T06:56:15.660060Z",
     "shell.execute_reply.started": "2025-02-06T06:56:15.640260Z"
    }
   },
   "source": [
    "## 장기고객 비율\n",
    "df_sales에서 각 고객별로 주문 내역을 monthly로 살펴본 뒤, 연속적으로 n개월 주문 건수가 존재하는 고객을 장기고객이라고 정의\n",
    "\n",
    "장기고객 비율(%) = ( 장기고객 수 / 전체 고객 수 ) * 100\r\n"
   ]
  },
  {
   "cell_type": "code",
   "execution_count": 8,
   "id": "033eef5d-fbec-4e1c-8039-ca360e682286",
   "metadata": {
    "execution": {
     "iopub.execute_input": "2025-02-08T11:29:38.476803Z",
     "iopub.status.busy": "2025-02-08T11:29:38.476803Z",
     "iopub.status.idle": "2025-02-08T11:29:38.662884Z",
     "shell.execute_reply": "2025-02-08T11:29:38.661906Z",
     "shell.execute_reply.started": "2025-02-08T11:29:38.476803Z"
    }
   },
   "outputs": [],
   "source": [
    "# to_datetime\n",
    "df_sales[['주문일시',\n",
    "          '배송시작일',\n",
    "          '배송완료일']] = df_sales[['주문일시', '배송시작일', '배송완료일']].apply(pd.to_datetime)"
   ]
  },
  {
   "cell_type": "code",
   "execution_count": 9,
   "id": "c19a1123-f322-4f4d-b28a-d5fea52d089b",
   "metadata": {
    "execution": {
     "iopub.execute_input": "2025-02-08T11:29:38.663884Z",
     "iopub.status.busy": "2025-02-08T11:29:38.663884Z",
     "iopub.status.idle": "2025-02-08T11:29:38.849148Z",
     "shell.execute_reply": "2025-02-08T11:29:38.848146Z",
     "shell.execute_reply.started": "2025-02-08T11:29:38.663884Z"
    },
    "scrolled": true
   },
   "outputs": [
    {
     "data": {
      "text/html": [
       "<div>\n",
       "<style scoped>\n",
       "    .dataframe tbody tr th:only-of-type {\n",
       "        vertical-align: middle;\n",
       "    }\n",
       "\n",
       "    .dataframe tbody tr th {\n",
       "        vertical-align: top;\n",
       "    }\n",
       "\n",
       "    .dataframe thead th {\n",
       "        text-align: right;\n",
       "    }\n",
       "</style>\n",
       "<table border=\"1\" class=\"dataframe\">\n",
       "  <thead>\n",
       "    <tr style=\"text-align: right;\">\n",
       "      <th></th>\n",
       "      <th>회원번호</th>\n",
       "      <th>주문일시</th>\n",
       "      <th>회원상태</th>\n",
       "      <th>구매수량</th>\n",
       "      <th>구매금액</th>\n",
       "      <th>배송시작일</th>\n",
       "      <th>배송완료일</th>\n",
       "      <th>사용 적립금</th>\n",
       "      <th>사용 포인트 네이버</th>\n",
       "      <th>주문취소여부</th>\n",
       "      <th>주문시간</th>\n",
       "      <th>제품번호</th>\n",
       "    </tr>\n",
       "  </thead>\n",
       "  <tbody>\n",
       "    <tr>\n",
       "      <th>0</th>\n",
       "      <td>18764160</td>\n",
       "      <td>2021-01-03</td>\n",
       "      <td>2</td>\n",
       "      <td>2</td>\n",
       "      <td>2</td>\n",
       "      <td>2</td>\n",
       "      <td>2</td>\n",
       "      <td>2</td>\n",
       "      <td>2</td>\n",
       "      <td>0</td>\n",
       "      <td>2</td>\n",
       "      <td>2</td>\n",
       "    </tr>\n",
       "    <tr>\n",
       "      <th>1</th>\n",
       "      <td>18764160</td>\n",
       "      <td>2021-01-23</td>\n",
       "      <td>3</td>\n",
       "      <td>3</td>\n",
       "      <td>3</td>\n",
       "      <td>3</td>\n",
       "      <td>3</td>\n",
       "      <td>3</td>\n",
       "      <td>3</td>\n",
       "      <td>0</td>\n",
       "      <td>3</td>\n",
       "      <td>3</td>\n",
       "    </tr>\n",
       "    <tr>\n",
       "      <th>2</th>\n",
       "      <td>18764160</td>\n",
       "      <td>2021-03-30</td>\n",
       "      <td>2</td>\n",
       "      <td>2</td>\n",
       "      <td>2</td>\n",
       "      <td>2</td>\n",
       "      <td>2</td>\n",
       "      <td>2</td>\n",
       "      <td>2</td>\n",
       "      <td>0</td>\n",
       "      <td>2</td>\n",
       "      <td>2</td>\n",
       "    </tr>\n",
       "    <tr>\n",
       "      <th>3</th>\n",
       "      <td>18764160</td>\n",
       "      <td>2021-04-11</td>\n",
       "      <td>1</td>\n",
       "      <td>1</td>\n",
       "      <td>1</td>\n",
       "      <td>1</td>\n",
       "      <td>1</td>\n",
       "      <td>1</td>\n",
       "      <td>1</td>\n",
       "      <td>0</td>\n",
       "      <td>1</td>\n",
       "      <td>1</td>\n",
       "    </tr>\n",
       "    <tr>\n",
       "      <th>4</th>\n",
       "      <td>18764160</td>\n",
       "      <td>2021-04-14</td>\n",
       "      <td>1</td>\n",
       "      <td>1</td>\n",
       "      <td>1</td>\n",
       "      <td>1</td>\n",
       "      <td>1</td>\n",
       "      <td>1</td>\n",
       "      <td>1</td>\n",
       "      <td>0</td>\n",
       "      <td>1</td>\n",
       "      <td>1</td>\n",
       "    </tr>\n",
       "    <tr>\n",
       "      <th>...</th>\n",
       "      <td>...</td>\n",
       "      <td>...</td>\n",
       "      <td>...</td>\n",
       "      <td>...</td>\n",
       "      <td>...</td>\n",
       "      <td>...</td>\n",
       "      <td>...</td>\n",
       "      <td>...</td>\n",
       "      <td>...</td>\n",
       "      <td>...</td>\n",
       "      <td>...</td>\n",
       "      <td>...</td>\n",
       "    </tr>\n",
       "    <tr>\n",
       "      <th>193289</th>\n",
       "      <td>1670620864</td>\n",
       "      <td>2021-04-27</td>\n",
       "      <td>1</td>\n",
       "      <td>1</td>\n",
       "      <td>1</td>\n",
       "      <td>1</td>\n",
       "      <td>1</td>\n",
       "      <td>1</td>\n",
       "      <td>1</td>\n",
       "      <td>0</td>\n",
       "      <td>1</td>\n",
       "      <td>1</td>\n",
       "    </tr>\n",
       "    <tr>\n",
       "      <th>193290</th>\n",
       "      <td>1670620864</td>\n",
       "      <td>2021-04-28</td>\n",
       "      <td>8</td>\n",
       "      <td>8</td>\n",
       "      <td>8</td>\n",
       "      <td>8</td>\n",
       "      <td>8</td>\n",
       "      <td>8</td>\n",
       "      <td>8</td>\n",
       "      <td>0</td>\n",
       "      <td>8</td>\n",
       "      <td>8</td>\n",
       "    </tr>\n",
       "    <tr>\n",
       "      <th>193291</th>\n",
       "      <td>1670620864</td>\n",
       "      <td>2021-04-30</td>\n",
       "      <td>2</td>\n",
       "      <td>2</td>\n",
       "      <td>2</td>\n",
       "      <td>2</td>\n",
       "      <td>2</td>\n",
       "      <td>2</td>\n",
       "      <td>2</td>\n",
       "      <td>0</td>\n",
       "      <td>2</td>\n",
       "      <td>2</td>\n",
       "    </tr>\n",
       "    <tr>\n",
       "      <th>193292</th>\n",
       "      <td>1670620864</td>\n",
       "      <td>2021-06-02</td>\n",
       "      <td>2</td>\n",
       "      <td>2</td>\n",
       "      <td>2</td>\n",
       "      <td>2</td>\n",
       "      <td>2</td>\n",
       "      <td>2</td>\n",
       "      <td>2</td>\n",
       "      <td>0</td>\n",
       "      <td>2</td>\n",
       "      <td>2</td>\n",
       "    </tr>\n",
       "    <tr>\n",
       "      <th>193293</th>\n",
       "      <td>1670620864</td>\n",
       "      <td>2021-06-06</td>\n",
       "      <td>1</td>\n",
       "      <td>1</td>\n",
       "      <td>1</td>\n",
       "      <td>1</td>\n",
       "      <td>1</td>\n",
       "      <td>1</td>\n",
       "      <td>1</td>\n",
       "      <td>0</td>\n",
       "      <td>1</td>\n",
       "      <td>1</td>\n",
       "    </tr>\n",
       "  </tbody>\n",
       "</table>\n",
       "<p>193294 rows × 12 columns</p>\n",
       "</div>"
      ],
      "text/plain": [
       "              회원번호       주문일시  회원상태  구매수량  구매금액  배송시작일  배송완료일  사용 적립금  \\\n",
       "0         18764160 2021-01-03     2     2     2      2      2       2   \n",
       "1         18764160 2021-01-23     3     3     3      3      3       3   \n",
       "2         18764160 2021-03-30     2     2     2      2      2       2   \n",
       "3         18764160 2021-04-11     1     1     1      1      1       1   \n",
       "4         18764160 2021-04-14     1     1     1      1      1       1   \n",
       "...            ...        ...   ...   ...   ...    ...    ...     ...   \n",
       "193289  1670620864 2021-04-27     1     1     1      1      1       1   \n",
       "193290  1670620864 2021-04-28     8     8     8      8      8       8   \n",
       "193291  1670620864 2021-04-30     2     2     2      2      2       2   \n",
       "193292  1670620864 2021-06-02     2     2     2      2      2       2   \n",
       "193293  1670620864 2021-06-06     1     1     1      1      1       1   \n",
       "\n",
       "        사용 포인트 네이버  주문취소여부  주문시간  제품번호  \n",
       "0                2       0     2     2  \n",
       "1                3       0     3     3  \n",
       "2                2       0     2     2  \n",
       "3                1       0     1     1  \n",
       "4                1       0     1     1  \n",
       "...            ...     ...   ...   ...  \n",
       "193289           1       0     1     1  \n",
       "193290           8       0     8     8  \n",
       "193291           2       0     2     2  \n",
       "193292           2       0     2     2  \n",
       "193293           1       0     1     1  \n",
       "\n",
       "[193294 rows x 12 columns]"
      ]
     },
     "execution_count": 9,
     "metadata": {},
     "output_type": "execute_result"
    }
   ],
   "source": [
    "# check sales of each member according to orderdate\n",
    "memberwise_sales = df_sales.groupby(['회원번호','주문일시']).count().reset_index()\n",
    "memberwise_sales"
   ]
  },
  {
   "cell_type": "code",
   "execution_count": 10,
   "id": "b5f1085a-9067-423f-8ce8-dd9ce3594bf5",
   "metadata": {
    "execution": {
     "iopub.execute_input": "2025-02-08T11:29:38.850148Z",
     "iopub.status.busy": "2025-02-08T11:29:38.850148Z",
     "iopub.status.idle": "2025-02-08T11:29:38.864663Z",
     "shell.execute_reply": "2025-02-08T11:29:38.863663Z",
     "shell.execute_reply.started": "2025-02-08T11:29:38.850148Z"
    }
   },
   "outputs": [],
   "source": [
    "def isloyal(member_list, memberwise_sales, gap):\n",
    "    a = []\n",
    "    b = []\n",
    "    col_name = ['회원번호', 'count']\n",
    "    \n",
    "    # 멤버 한 명씩 주문 일시를 살펴볼 때,\n",
    "    for member in member_list:\n",
    "        target_member = memberwise_sales[memberwise_sales['회원번호'] == member].sort_values(by='주문일시')\n",
    "        count = 0  # 멤버마다 구매유지를 하지 못한 횟수\n",
    "        \n",
    "        # 특정 타겟 멤버의 주문 내역을 순회\n",
    "        for i in range(len(target_member) - 1):\n",
    "            sales_gap = (target_member['주문일시'].iloc[i+1] - target_member['주문일시'].iloc[i])\n",
    "            if sales_gap > gap:\n",
    "                count += 1\n",
    "\n",
    "        a.append(member)\n",
    "        b.append(count)\n",
    "\n",
    "    list_df = pd.DataFrame({'회원번호': a, 'count': b})\n",
    "    \n",
    "    return list_df"
   ]
  },
  {
   "cell_type": "code",
   "execution_count": 11,
   "id": "6203f33a-e790-4c53-a72a-146253069fb8",
   "metadata": {
    "execution": {
     "iopub.execute_input": "2025-02-08T11:29:38.866663Z",
     "iopub.status.busy": "2025-02-08T11:29:38.865663Z",
     "iopub.status.idle": "2025-02-08T11:29:49.106764Z",
     "shell.execute_reply": "2025-02-08T11:29:49.105764Z",
     "shell.execute_reply.started": "2025-02-08T11:29:38.866663Z"
    }
   },
   "outputs": [
    {
     "name": "stdout",
     "output_type": "stream",
     "text": [
      "             회원번호  count\n",
      "0        18764160      1\n",
      "1        18792000      0\n",
      "2        18942336      1\n",
      "3        18949760      0\n",
      "4        19391488      0\n",
      "...           ...    ...\n",
      "12535  1644957952      0\n",
      "12536  1645334720      0\n",
      "12537  1670400000      0\n",
      "12538  1670606016      1\n",
      "12539  1670620864      0\n",
      "\n",
      "[12540 rows x 2 columns]\n"
     ]
    }
   ],
   "source": [
    "# 구매유지의 기준이 되는 timedelta (60일)\n",
    "gap = datetime.timedelta(days=60)\n",
    "\n",
    "# 실행\n",
    "result = isloyal(memberwise_sales['회원번호'].unique(), memberwise_sales, gap)\n",
    "print(result)"
   ]
  },
  {
   "cell_type": "code",
   "execution_count": 12,
   "id": "def1f60f-8527-411a-a92e-ff2bfa79685e",
   "metadata": {
    "execution": {
     "iopub.execute_input": "2025-02-08T11:29:49.108798Z",
     "iopub.status.busy": "2025-02-08T11:29:49.107799Z",
     "iopub.status.idle": "2025-02-08T11:29:49.122044Z",
     "shell.execute_reply": "2025-02-08T11:29:49.121045Z",
     "shell.execute_reply.started": "2025-02-08T11:29:49.108798Z"
    }
   },
   "outputs": [
    {
     "data": {
      "text/plain": [
       "count\n",
       "0    8540\n",
       "1    3128\n",
       "2     808\n",
       "3      64\n",
       "Name: count, dtype: int64"
      ]
     },
     "execution_count": 12,
     "metadata": {},
     "output_type": "execute_result"
    }
   ],
   "source": [
    "result['count'].value_counts()"
   ]
  },
  {
   "cell_type": "code",
   "execution_count": 13,
   "id": "32b9c707-72b0-4a44-9986-c5539693dcf0",
   "metadata": {
    "execution": {
     "iopub.execute_input": "2025-02-08T11:29:49.123045Z",
     "iopub.status.busy": "2025-02-08T11:29:49.122044Z",
     "iopub.status.idle": "2025-02-08T11:29:49.138076Z",
     "shell.execute_reply": "2025-02-08T11:29:49.137070Z",
     "shell.execute_reply.started": "2025-02-08T11:29:49.123045Z"
    }
   },
   "outputs": [
    {
     "name": "stdout",
     "output_type": "stream",
     "text": [
      "장기고객비율: 0.9304625199362041\n"
     ]
    }
   ],
   "source": [
    "# 장기고객의 기준이 되는 count는 임의로 1번이내로 설정. gap 값 변화해가면서 살펴볼 것!!!\n",
    "print(f\"장기고객비율: {(8540+3128) / 12540}\")"
   ]
  },
  {
   "cell_type": "markdown",
   "id": "0bfb6895-c650-4c97-a493-00aa87cce53e",
   "metadata": {},
   "source": [
    "## 배송 지연률\n",
    "해당 기업이 식품을 당일 배송해주는 시스템으로 구성되었으므로, 배송 지연의 기준 일자는 2일로 설정\r\n",
    "\r\n",
    "주문일시와 배송완료 2일일 이상 차이나는 경우를 배송지연이라정의\n",
    "\n",
    ", 배송 지연율(%) = ( 배송지연 발생 건 / 전체 주문 건 ) * 100"
   ]
  },
  {
   "cell_type": "code",
   "execution_count": 14,
   "id": "cb0b064a-b2ed-439d-8efe-a1b1e3450fca",
   "metadata": {
    "execution": {
     "iopub.execute_input": "2025-02-08T11:29:49.140076Z",
     "iopub.status.busy": "2025-02-08T11:29:49.140076Z",
     "iopub.status.idle": "2025-02-08T11:29:49.415877Z",
     "shell.execute_reply": "2025-02-08T11:29:49.414878Z",
     "shell.execute_reply.started": "2025-02-08T11:29:49.140076Z"
    }
   },
   "outputs": [
    {
     "data": {
      "text/html": [
       "<div>\n",
       "<style scoped>\n",
       "    .dataframe tbody tr th:only-of-type {\n",
       "        vertical-align: middle;\n",
       "    }\n",
       "\n",
       "    .dataframe tbody tr th {\n",
       "        vertical-align: top;\n",
       "    }\n",
       "\n",
       "    .dataframe thead th {\n",
       "        text-align: right;\n",
       "    }\n",
       "</style>\n",
       "<table border=\"1\" class=\"dataframe\">\n",
       "  <thead>\n",
       "    <tr style=\"text-align: right;\">\n",
       "      <th></th>\n",
       "      <th>회원번호</th>\n",
       "      <th>주문일시</th>\n",
       "      <th>배송시작일</th>\n",
       "      <th>배송완료일</th>\n",
       "      <th>회원상태</th>\n",
       "      <th>구매수량</th>\n",
       "      <th>구매금액</th>\n",
       "      <th>사용 적립금</th>\n",
       "      <th>사용 포인트 네이버</th>\n",
       "      <th>주문취소여부</th>\n",
       "      <th>주문시간</th>\n",
       "      <th>제품번호</th>\n",
       "    </tr>\n",
       "  </thead>\n",
       "  <tbody>\n",
       "    <tr>\n",
       "      <th>0</th>\n",
       "      <td>18764160</td>\n",
       "      <td>2021-01-03</td>\n",
       "      <td>2021-01-03</td>\n",
       "      <td>2021-01-03</td>\n",
       "      <td>1</td>\n",
       "      <td>1</td>\n",
       "      <td>1</td>\n",
       "      <td>1</td>\n",
       "      <td>1</td>\n",
       "      <td>0</td>\n",
       "      <td>1</td>\n",
       "      <td>1</td>\n",
       "    </tr>\n",
       "    <tr>\n",
       "      <th>1</th>\n",
       "      <td>18764160</td>\n",
       "      <td>2021-01-03</td>\n",
       "      <td>2021-01-05</td>\n",
       "      <td>2021-01-06</td>\n",
       "      <td>1</td>\n",
       "      <td>1</td>\n",
       "      <td>1</td>\n",
       "      <td>1</td>\n",
       "      <td>1</td>\n",
       "      <td>0</td>\n",
       "      <td>1</td>\n",
       "      <td>1</td>\n",
       "    </tr>\n",
       "    <tr>\n",
       "      <th>2</th>\n",
       "      <td>18764160</td>\n",
       "      <td>2021-01-23</td>\n",
       "      <td>2021-01-23</td>\n",
       "      <td>2021-01-25</td>\n",
       "      <td>1</td>\n",
       "      <td>1</td>\n",
       "      <td>1</td>\n",
       "      <td>1</td>\n",
       "      <td>1</td>\n",
       "      <td>0</td>\n",
       "      <td>1</td>\n",
       "      <td>1</td>\n",
       "    </tr>\n",
       "    <tr>\n",
       "      <th>3</th>\n",
       "      <td>18764160</td>\n",
       "      <td>2021-01-23</td>\n",
       "      <td>2021-01-24</td>\n",
       "      <td>2021-01-25</td>\n",
       "      <td>1</td>\n",
       "      <td>1</td>\n",
       "      <td>1</td>\n",
       "      <td>1</td>\n",
       "      <td>1</td>\n",
       "      <td>0</td>\n",
       "      <td>1</td>\n",
       "      <td>1</td>\n",
       "    </tr>\n",
       "    <tr>\n",
       "      <th>4</th>\n",
       "      <td>18764160</td>\n",
       "      <td>2021-01-23</td>\n",
       "      <td>2021-01-24</td>\n",
       "      <td>2021-01-26</td>\n",
       "      <td>1</td>\n",
       "      <td>1</td>\n",
       "      <td>1</td>\n",
       "      <td>1</td>\n",
       "      <td>1</td>\n",
       "      <td>0</td>\n",
       "      <td>1</td>\n",
       "      <td>1</td>\n",
       "    </tr>\n",
       "    <tr>\n",
       "      <th>...</th>\n",
       "      <td>...</td>\n",
       "      <td>...</td>\n",
       "      <td>...</td>\n",
       "      <td>...</td>\n",
       "      <td>...</td>\n",
       "      <td>...</td>\n",
       "      <td>...</td>\n",
       "      <td>...</td>\n",
       "      <td>...</td>\n",
       "      <td>...</td>\n",
       "      <td>...</td>\n",
       "      <td>...</td>\n",
       "    </tr>\n",
       "    <tr>\n",
       "      <th>424684</th>\n",
       "      <td>1670620864</td>\n",
       "      <td>2021-04-30</td>\n",
       "      <td>2021-04-30</td>\n",
       "      <td>2021-04-30</td>\n",
       "      <td>1</td>\n",
       "      <td>1</td>\n",
       "      <td>1</td>\n",
       "      <td>1</td>\n",
       "      <td>1</td>\n",
       "      <td>0</td>\n",
       "      <td>1</td>\n",
       "      <td>1</td>\n",
       "    </tr>\n",
       "    <tr>\n",
       "      <th>424685</th>\n",
       "      <td>1670620864</td>\n",
       "      <td>2021-04-30</td>\n",
       "      <td>2021-04-30</td>\n",
       "      <td>2021-05-01</td>\n",
       "      <td>1</td>\n",
       "      <td>1</td>\n",
       "      <td>1</td>\n",
       "      <td>1</td>\n",
       "      <td>1</td>\n",
       "      <td>0</td>\n",
       "      <td>1</td>\n",
       "      <td>1</td>\n",
       "    </tr>\n",
       "    <tr>\n",
       "      <th>424686</th>\n",
       "      <td>1670620864</td>\n",
       "      <td>2021-06-02</td>\n",
       "      <td>2021-06-02</td>\n",
       "      <td>2021-06-03</td>\n",
       "      <td>1</td>\n",
       "      <td>1</td>\n",
       "      <td>1</td>\n",
       "      <td>1</td>\n",
       "      <td>1</td>\n",
       "      <td>0</td>\n",
       "      <td>1</td>\n",
       "      <td>1</td>\n",
       "    </tr>\n",
       "    <tr>\n",
       "      <th>424687</th>\n",
       "      <td>1670620864</td>\n",
       "      <td>2021-06-02</td>\n",
       "      <td>2021-06-02</td>\n",
       "      <td>2021-06-04</td>\n",
       "      <td>1</td>\n",
       "      <td>1</td>\n",
       "      <td>1</td>\n",
       "      <td>1</td>\n",
       "      <td>1</td>\n",
       "      <td>0</td>\n",
       "      <td>1</td>\n",
       "      <td>1</td>\n",
       "    </tr>\n",
       "    <tr>\n",
       "      <th>424688</th>\n",
       "      <td>1670620864</td>\n",
       "      <td>2021-06-06</td>\n",
       "      <td>2021-06-06</td>\n",
       "      <td>2021-06-07</td>\n",
       "      <td>1</td>\n",
       "      <td>1</td>\n",
       "      <td>1</td>\n",
       "      <td>1</td>\n",
       "      <td>1</td>\n",
       "      <td>0</td>\n",
       "      <td>1</td>\n",
       "      <td>1</td>\n",
       "    </tr>\n",
       "  </tbody>\n",
       "</table>\n",
       "<p>424689 rows × 12 columns</p>\n",
       "</div>"
      ],
      "text/plain": [
       "              회원번호       주문일시      배송시작일      배송완료일  회원상태  구매수량  구매금액  사용 적립금  \\\n",
       "0         18764160 2021-01-03 2021-01-03 2021-01-03     1     1     1       1   \n",
       "1         18764160 2021-01-03 2021-01-05 2021-01-06     1     1     1       1   \n",
       "2         18764160 2021-01-23 2021-01-23 2021-01-25     1     1     1       1   \n",
       "3         18764160 2021-01-23 2021-01-24 2021-01-25     1     1     1       1   \n",
       "4         18764160 2021-01-23 2021-01-24 2021-01-26     1     1     1       1   \n",
       "...            ...        ...        ...        ...   ...   ...   ...     ...   \n",
       "424684  1670620864 2021-04-30 2021-04-30 2021-04-30     1     1     1       1   \n",
       "424685  1670620864 2021-04-30 2021-04-30 2021-05-01     1     1     1       1   \n",
       "424686  1670620864 2021-06-02 2021-06-02 2021-06-03     1     1     1       1   \n",
       "424687  1670620864 2021-06-02 2021-06-02 2021-06-04     1     1     1       1   \n",
       "424688  1670620864 2021-06-06 2021-06-06 2021-06-07     1     1     1       1   \n",
       "\n",
       "        사용 포인트 네이버  주문취소여부  주문시간  제품번호  \n",
       "0                1       0     1     1  \n",
       "1                1       0     1     1  \n",
       "2                1       0     1     1  \n",
       "3                1       0     1     1  \n",
       "4                1       0     1     1  \n",
       "...            ...     ...   ...   ...  \n",
       "424684           1       0     1     1  \n",
       "424685           1       0     1     1  \n",
       "424686           1       0     1     1  \n",
       "424687           1       0     1     1  \n",
       "424688           1       0     1     1  \n",
       "\n",
       "[424689 rows x 12 columns]"
      ]
     },
     "execution_count": 14,
     "metadata": {},
     "output_type": "execute_result"
    }
   ],
   "source": [
    "# 멤버별로 배송시작일과 배송완료일\n",
    "memberwise_delivery = df_sales.groupby(['회원번호','주문일시','배송시작일','배송완료일']).count().reset_index()\n",
    "memberwise_delivery"
   ]
  },
  {
   "cell_type": "code",
   "execution_count": 15,
   "id": "d034aec0-4851-42b9-8fcd-76a5e8b77850",
   "metadata": {
    "execution": {
     "iopub.execute_input": "2025-02-08T11:29:49.416878Z",
     "iopub.status.busy": "2025-02-08T11:29:49.416878Z",
     "iopub.status.idle": "2025-02-08T11:29:49.431683Z",
     "shell.execute_reply": "2025-02-08T11:29:49.430683Z",
     "shell.execute_reply.started": "2025-02-08T11:29:49.416878Z"
    }
   },
   "outputs": [],
   "source": [
    "def late_delivery(member_list, memberwise_sales, deli_gap):\n",
    "    a = []\n",
    "    b = []\n",
    "    col_name = ['회원번호', 'delivery_count']\n",
    "    \n",
    "    # 멤버 한 명씩 주문 일시를 살펴볼 때,\n",
    "    for member in member_list:\n",
    "        target_member = memberwise_sales[memberwise_sales['회원번호'] == member].sort_values(by='주문일시')\n",
    "        delivery_count = 0  # 멤버마다 배송지연이 발생한 횟수\n",
    "        \n",
    "        # 특정 타겟 멤버의 주문 내역을 순회\n",
    "        for i in range(len(target_member)):\n",
    "            delivery_gap = (target_member['배송완료일'].iloc[i] - target_member['주문일시'].iloc[i])\n",
    "            if delivery_gap > deli_gap:\n",
    "                delivery_count += 1\n",
    "\n",
    "        a.append(member)\n",
    "        b.append(delivery_count)\n",
    "\n",
    "    list_df = pd.DataFrame({'회원번호': a, 'delivery_count': b})\n",
    "    \n",
    "    return list_df"
   ]
  },
  {
   "cell_type": "code",
   "execution_count": 16,
   "id": "d8205a2d-d755-4f44-b232-ab5e6c14b5e1",
   "metadata": {
    "execution": {
     "iopub.execute_input": "2025-02-08T11:29:49.432683Z",
     "iopub.status.busy": "2025-02-08T11:29:49.432683Z",
     "iopub.status.idle": "2025-02-08T11:30:08.057205Z",
     "shell.execute_reply": "2025-02-08T11:30:08.055699Z",
     "shell.execute_reply.started": "2025-02-08T11:29:49.432683Z"
    }
   },
   "outputs": [
    {
     "name": "stdout",
     "output_type": "stream",
     "text": [
      "             회원번호  delivery_count\n",
      "0        18764160               4\n",
      "1        18792000               0\n",
      "2        18942336               6\n",
      "3        18949760               0\n",
      "4        19391488               0\n",
      "...           ...             ...\n",
      "12535  1644957952               1\n",
      "12536  1645334720               0\n",
      "12537  1670400000             128\n",
      "12538  1670606016               0\n",
      "12539  1670620864               1\n",
      "\n",
      "[12540 rows x 2 columns]\n"
     ]
    }
   ],
   "source": [
    "# 배송지연의 기준이 되는 timedelta (2일)\n",
    "deli_gap = datetime.timedelta(days=2)\n",
    "\n",
    "# 실행\n",
    "deli_result = late_delivery(memberwise_sales['회원번호'].unique(), memberwise_delivery, deli_gap)\n",
    "print(deli_result)"
   ]
  },
  {
   "cell_type": "code",
   "execution_count": 17,
   "id": "94ef298f-3349-4feb-922e-26f683981f9c",
   "metadata": {
    "execution": {
     "iopub.execute_input": "2025-02-08T11:30:08.058213Z",
     "iopub.status.busy": "2025-02-08T11:30:08.058213Z",
     "iopub.status.idle": "2025-02-08T11:30:08.071571Z",
     "shell.execute_reply": "2025-02-08T11:30:08.071571Z",
     "shell.execute_reply.started": "2025-02-08T11:30:08.058213Z"
    },
    "scrolled": true
   },
   "outputs": [
    {
     "data": {
      "text/plain": [
       "delivery_count\n",
       "0      5642\n",
       "1      2347\n",
       "2      1185\n",
       "3       774\n",
       "4       530\n",
       "5       415\n",
       "6       321\n",
       "7       235\n",
       "8       147\n",
       "9       145\n",
       "10      138\n",
       "12      102\n",
       "11      100\n",
       "13       64\n",
       "14       58\n",
       "15       48\n",
       "16       43\n",
       "17       32\n",
       "18       31\n",
       "21       19\n",
       "22       19\n",
       "19       18\n",
       "23       16\n",
       "20       12\n",
       "24       12\n",
       "25       11\n",
       "26       10\n",
       "30        9\n",
       "29        7\n",
       "32        7\n",
       "28        6\n",
       "38        6\n",
       "27        5\n",
       "31        4\n",
       "34        3\n",
       "39        3\n",
       "35        3\n",
       "48        2\n",
       "44        2\n",
       "36        2\n",
       "43        1\n",
       "58        1\n",
       "40        1\n",
       "45        1\n",
       "33        1\n",
       "37        1\n",
       "128       1\n",
       "Name: count, dtype: int64"
      ]
     },
     "execution_count": 17,
     "metadata": {},
     "output_type": "execute_result"
    }
   ],
   "source": [
    "deli_result['delivery_count'].value_counts()"
   ]
  },
  {
   "cell_type": "code",
   "execution_count": 18,
   "id": "1e22edc1-d1ce-45ab-a0f7-192ad93e8a63",
   "metadata": {
    "execution": {
     "iopub.execute_input": "2025-02-08T11:30:08.073855Z",
     "iopub.status.busy": "2025-02-08T11:30:08.072846Z",
     "iopub.status.idle": "2025-02-08T11:30:08.087826Z",
     "shell.execute_reply": "2025-02-08T11:30:08.086821Z",
     "shell.execute_reply.started": "2025-02-08T11:30:08.073855Z"
    }
   },
   "outputs": [
    {
     "name": "stdout",
     "output_type": "stream",
     "text": [
      "배송지연비율: 16.443381180223284\n"
     ]
    }
   ],
   "source": [
    "# 배송지연의 기준이 되는 deli_count는 임의로 5번이상으로 설정. deli_gap 값 변화해가면서 살펴보고\n",
    "# 단순히 횟수가 아니라 개인의 전체 주문의 몇 % 인지로도 살펴보기!!!\n",
    "print(f\"배송지연비율: {(1 - (5642+2347+1185+774+530) / 12540) * 100}\")"
   ]
  },
  {
   "cell_type": "markdown",
   "id": "f98af75f-4805-4aaf-9acc-94c52ed4851c",
   "metadata": {},
   "source": [
    "## 정기구독률\n",
    "정기구독률 = (구독 회원수) / (전체 회원수) * 100"
   ]
  },
  {
   "cell_type": "code",
   "execution_count": 19,
   "id": "6776fc1c-7c22-4614-a67f-b637ab1385da",
   "metadata": {
    "execution": {
     "iopub.execute_input": "2025-02-08T11:30:25.090637Z",
     "iopub.status.busy": "2025-02-08T11:30:25.090637Z",
     "iopub.status.idle": "2025-02-08T11:30:25.108663Z",
     "shell.execute_reply": "2025-02-08T11:30:25.107659Z",
     "shell.execute_reply.started": "2025-02-08T11:30:25.090637Z"
    }
   },
   "outputs": [
    {
     "data": {
      "text/plain": [
       "구독여부\n",
       "False    8441\n",
       "True     1753\n",
       "Name: count, dtype: int64"
      ]
     },
     "execution_count": 19,
     "metadata": {},
     "output_type": "execute_result"
    }
   ],
   "source": [
    "# 구독X = NaN(결측값), False  /  구독O =  True 가정.\n",
    "df_member['구독여부'].value_counts()"
   ]
  },
  {
   "cell_type": "code",
   "execution_count": 27,
   "id": "02d0d1a7-e0d2-4f03-ac16-9ceb571400d7",
   "metadata": {
    "execution": {
     "iopub.execute_input": "2025-02-08T11:33:43.377038Z",
     "iopub.status.busy": "2025-02-08T11:33:43.376037Z",
     "iopub.status.idle": "2025-02-08T11:33:43.392078Z",
     "shell.execute_reply": "2025-02-08T11:33:43.391078Z",
     "shell.execute_reply.started": "2025-02-08T11:33:43.377038Z"
    }
   },
   "outputs": [
    {
     "name": "stdout",
     "output_type": "stream",
     "text": [
      "정기구독률은 13.9792663476874% 이다.\n"
     ]
    }
   ],
   "source": [
    "# 정기구독 회원 수\n",
    "cond_sub = (df_member['구독여부'] == True)\n",
    "sub_customer = len(df_member.loc[cond_sub])\n",
    "\n",
    "len(df_member)\n",
    "\n",
    "# 정기 구독률\n",
    "subscription_rate = (sub_customer / len(df_member)) * 100\n",
    "print(f\"정기구독률은 {subscription_rate}% 이다.\")"
   ]
  },
  {
   "cell_type": "markdown",
   "id": "26badf13-8dd2-4bcb-8287-790c85fb8e56",
   "metadata": {},
   "source": [
    "## 유령회원 수\n",
    "유령고객 = 가장 최신 주문 건 기준 n개월 간 주문이 없는 고객."
   ]
  },
  {
   "cell_type": "code",
   "execution_count": 121,
   "id": "1e65cf8e-2013-4ed8-854a-97806c280219",
   "metadata": {
    "execution": {
     "iopub.execute_input": "2025-02-08T12:40:48.389850Z",
     "iopub.status.busy": "2025-02-08T12:40:48.388850Z",
     "iopub.status.idle": "2025-02-08T12:40:48.411016Z",
     "shell.execute_reply": "2025-02-08T12:40:48.410050Z",
     "shell.execute_reply.started": "2025-02-08T12:40:48.389850Z"
    }
   },
   "outputs": [],
   "source": [
    "def isghost(member_list, memberwise_sales, active_member):\n",
    "    a = []\n",
    "    b = []\n",
    "    col_name = ['회원번호', 'isghost']\n",
    "\n",
    "    # 모든 정상회원 통틀어 가장 최근 주문 시기\n",
    "    last_order = memberwise_sales['주문일시'].max() \n",
    "\n",
    "    chronologic_order = memberwise_sales.sort_values(by=['회원번호',\n",
    "                                                         '주문일시'], ascending=[True, False])[['회원번호',\n",
    "                                                                                            '주문일시']]\n",
    "    \n",
    "    # 멤버 한 명씩 주문 일시를 살펴볼 때, 회원별 주문일시를 최신순으로 정렬해서 순회\n",
    "    for member in tqdm(member_list):\n",
    "        isghost = 0\n",
    "        \n",
    "        target_member = chronologic_order[chronologic_order['회원번호'] == member]\n",
    "\n",
    "        # 특정 타겟 멤버의 주문 내역을 순회, 가장 최근 주문과 2번째 최근 주문 사이의 시간간격 계산\n",
    "        \n",
    "        latest_gap = last_order - target_member['주문일시'].iloc[0]\n",
    "\n",
    "        if latest_gap > datetime.timedelta(days=92):\n",
    "            #현재 시점으로부터 2개월 넘게 주문하지 않은 경우 유령회원으로 판별\n",
    "            isghost = 1\n",
    "            \n",
    "        a.append(member)\n",
    "        b.append(isghost)\n",
    "\n",
    "    list_df = pd.DataFrame({'회원번호': a, 'isghost': b})\n",
    "    \n",
    "    return list_df"
   ]
  },
  {
   "cell_type": "code",
   "execution_count": 122,
   "id": "9afa560d-9f77-4673-8ac5-0bc30d8d5ff4",
   "metadata": {
    "execution": {
     "iopub.execute_input": "2025-02-08T12:40:59.605498Z",
     "iopub.status.busy": "2025-02-08T12:40:59.604498Z",
     "iopub.status.idle": "2025-02-08T12:41:03.439201Z",
     "shell.execute_reply": "2025-02-08T12:41:03.438246Z",
     "shell.execute_reply.started": "2025-02-08T12:40:59.605498Z"
    }
   },
   "outputs": [
    {
     "name": "stderr",
     "output_type": "stream",
     "text": [
      "100%|██████████| 12380/12380 [00:03<00:00, 3309.04it/s]\n"
     ]
    },
    {
     "name": "stdout",
     "output_type": "stream",
     "text": [
      "             회원번호  isghost\n",
      "0        18764160        0\n",
      "1        18792000        1\n",
      "2        18942336        0\n",
      "3        18949760        0\n",
      "4        19391488        1\n",
      "...           ...      ...\n",
      "12375  1644772352        0\n",
      "12376  1644957952        0\n",
      "12377  1645334720        0\n",
      "12378  1670606016        0\n",
      "12379  1670620864        1\n",
      "\n",
      "[12380 rows x 2 columns]\n"
     ]
    }
   ],
   "source": [
    "# 실행\n",
    "active_member = df_member[df_member['회원상태'] == '정상회원']['회원번호']\n",
    "\n",
    "active_memberwise_sales = memberwise_sales[memberwise_sales['회원번호'].isin(active_member)]\n",
    "\n",
    "isghost_result = isghost(active_memberwise_sales['회원번호'].unique(), active_memberwise_sales, active_member)\n",
    "print(isghost_result)"
   ]
  },
  {
   "cell_type": "code",
   "execution_count": 123,
   "id": "beb17d4b-c49d-478c-bfbb-4d6c2bc1c982",
   "metadata": {
    "execution": {
     "iopub.execute_input": "2025-02-08T12:41:06.628443Z",
     "iopub.status.busy": "2025-02-08T12:41:06.628443Z",
     "iopub.status.idle": "2025-02-08T12:41:06.642441Z",
     "shell.execute_reply": "2025-02-08T12:41:06.641443Z",
     "shell.execute_reply.started": "2025-02-08T12:41:06.628443Z"
    }
   },
   "outputs": [
    {
     "data": {
      "text/plain": [
       "isghost\n",
       "0    8851\n",
       "1    3529\n",
       "Name: count, dtype: int64"
      ]
     },
     "execution_count": 123,
     "metadata": {},
     "output_type": "execute_result"
    }
   ],
   "source": [
    "isghost_result['isghost'].value_counts()"
   ]
  },
  {
   "cell_type": "code",
   "execution_count": 124,
   "id": "5c0fcad1-f763-43c8-ac62-bd851700f401",
   "metadata": {
    "execution": {
     "iopub.execute_input": "2025-02-08T12:41:07.449701Z",
     "iopub.status.busy": "2025-02-08T12:41:07.449701Z",
     "iopub.status.idle": "2025-02-08T12:41:07.465556Z",
     "shell.execute_reply": "2025-02-08T12:41:07.464554Z",
     "shell.execute_reply.started": "2025-02-08T12:41:07.449701Z"
    }
   },
   "outputs": [
    {
     "name": "stdout",
     "output_type": "stream",
     "text": [
      "유령고객 비율은 28.505654281098547% 이다.\n"
     ]
    }
   ],
   "source": [
    "ghost_customer = isghost_result['isghost'].sum()\n",
    "active_member = df_member[df_member['회원상태'] == '정상회원']['회원번호'].unique()\n",
    "\n",
    "# 유령고객 비율\n",
    "ghost_customer_rate = ghost_customer / len(active_member) * 100\n",
    "print(f\"유령고객 비율은 {ghost_customer_rate}% 이다.\")"
   ]
  }
 ],
 "metadata": {
  "kernelspec": {
   "display_name": "Python 3 (ipykernel)",
   "language": "python",
   "name": "python3"
  },
  "language_info": {
   "codemirror_mode": {
    "name": "ipython",
    "version": 3
   },
   "file_extension": ".py",
   "mimetype": "text/x-python",
   "name": "python",
   "nbconvert_exporter": "python",
   "pygments_lexer": "ipython3",
   "version": "3.10.14"
  }
 },
 "nbformat": 4,
 "nbformat_minor": 5
}
