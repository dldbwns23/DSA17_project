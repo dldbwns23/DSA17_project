{
 "cells": [
  {
   "cell_type": "code",
   "execution_count": 78,
   "id": "36c4e62f-e4c8-4b7d-b1a1-62aa8f8d456e",
   "metadata": {},
   "outputs": [],
   "source": [
    "import chardet\n",
    "\n",
    "def detect_encoding(file_path):\n",
    "    with open(file_path, 'rb') as f:\n",
    "        return chardet.detect(f.read(100000))['encoding']\n",
    "\n",
    "df_member = pd.read_csv('Member_data.csv', encoding=detect_encoding('Member_data.csv'))\n",
    "df_product = pd.read_csv('product_data.csv', encoding=detect_encoding('product_data.csv'))\n",
    "df_sales = pd.read_csv('Sales_Data05.csv', encoding=detect_encoding('Sales_Data05.csv'))"
   ]
  },
  {
   "cell_type": "code",
   "execution_count": 79,
   "id": "567fa0f8-5f2c-49f0-8db2-688f9123e9c2",
   "metadata": {},
   "outputs": [
    {
     "data": {
      "text/html": [
       "<div>\n",
       "<style scoped>\n",
       "    .dataframe tbody tr th:only-of-type {\n",
       "        vertical-align: middle;\n",
       "    }\n",
       "\n",
       "    .dataframe tbody tr th {\n",
       "        vertical-align: top;\n",
       "    }\n",
       "\n",
       "    .dataframe thead th {\n",
       "        text-align: right;\n",
       "    }\n",
       "</style>\n",
       "<table border=\"1\" class=\"dataframe\">\n",
       "  <thead>\n",
       "    <tr style=\"text-align: right;\">\n",
       "      <th></th>\n",
       "      <th>Unnamed: 0</th>\n",
       "      <th>회원번호</th>\n",
       "      <th>회원상태</th>\n",
       "      <th>성별</th>\n",
       "      <th>나이</th>\n",
       "      <th>등록카드</th>\n",
       "      <th>결혼</th>\n",
       "      <th>구독여부</th>\n",
       "      <th>주소지</th>\n",
       "      <th>세부주소지</th>\n",
       "    </tr>\n",
       "  </thead>\n",
       "  <tbody>\n",
       "    <tr>\n",
       "      <th>0</th>\n",
       "      <td>0</td>\n",
       "      <td>18764160</td>\n",
       "      <td>정상회원</td>\n",
       "      <td>여</td>\n",
       "      <td>68</td>\n",
       "      <td>농협중앙회</td>\n",
       "      <td>기혼</td>\n",
       "      <td>False</td>\n",
       "      <td>서울특별시</td>\n",
       "      <td>성동구</td>\n",
       "    </tr>\n",
       "    <tr>\n",
       "      <th>1</th>\n",
       "      <td>1</td>\n",
       "      <td>18792000</td>\n",
       "      <td>정상회원</td>\n",
       "      <td>남</td>\n",
       "      <td>83</td>\n",
       "      <td>연결앱결제</td>\n",
       "      <td>NaN</td>\n",
       "      <td>False</td>\n",
       "      <td>강원도</td>\n",
       "      <td>강릉시</td>\n",
       "    </tr>\n",
       "    <tr>\n",
       "      <th>2</th>\n",
       "      <td>2</td>\n",
       "      <td>18942336</td>\n",
       "      <td>정상회원</td>\n",
       "      <td>여</td>\n",
       "      <td>39</td>\n",
       "      <td>신한은행</td>\n",
       "      <td>기혼</td>\n",
       "      <td>False</td>\n",
       "      <td>인천광역시</td>\n",
       "      <td>중구</td>\n",
       "    </tr>\n",
       "    <tr>\n",
       "      <th>3</th>\n",
       "      <td>3</td>\n",
       "      <td>18949760</td>\n",
       "      <td>정상회원</td>\n",
       "      <td>여</td>\n",
       "      <td>73</td>\n",
       "      <td>기업은행</td>\n",
       "      <td>NaN</td>\n",
       "      <td>NaN</td>\n",
       "      <td>강원도</td>\n",
       "      <td>홍천군</td>\n",
       "    </tr>\n",
       "    <tr>\n",
       "      <th>4</th>\n",
       "      <td>4</td>\n",
       "      <td>19391488</td>\n",
       "      <td>정상회원</td>\n",
       "      <td>여</td>\n",
       "      <td>52</td>\n",
       "      <td>연결앱결제</td>\n",
       "      <td>기혼</td>\n",
       "      <td>False</td>\n",
       "      <td>대전광역시</td>\n",
       "      <td>중구</td>\n",
       "    </tr>\n",
       "  </tbody>\n",
       "</table>\n",
       "</div>"
      ],
      "text/plain": [
       "   Unnamed: 0      회원번호  회원상태 성별  나이   등록카드   결혼   구독여부    주소지 세부주소지\n",
       "0           0  18764160  정상회원  여  68  농협중앙회   기혼  False  서울특별시   성동구\n",
       "1           1  18792000  정상회원  남  83  연결앱결제  NaN  False    강원도   강릉시\n",
       "2           2  18942336  정상회원  여  39   신한은행   기혼  False  인천광역시    중구\n",
       "3           3  18949760  정상회원  여  73   기업은행  NaN    NaN    강원도   홍천군\n",
       "4           4  19391488  정상회원  여  52  연결앱결제   기혼  False  대전광역시    중구"
      ]
     },
     "execution_count": 79,
     "metadata": {},
     "output_type": "execute_result"
    }
   ],
   "source": [
    "df_member.head()"
   ]
  },
  {
   "cell_type": "code",
   "execution_count": 12,
   "id": "7e32de47-ea14-42f9-878c-13c2b4058608",
   "metadata": {},
   "outputs": [
    {
     "data": {
      "text/html": [
       "<div>\n",
       "<style scoped>\n",
       "    .dataframe tbody tr th:only-of-type {\n",
       "        vertical-align: middle;\n",
       "    }\n",
       "\n",
       "    .dataframe tbody tr th {\n",
       "        vertical-align: top;\n",
       "    }\n",
       "\n",
       "    .dataframe thead th {\n",
       "        text-align: right;\n",
       "    }\n",
       "</style>\n",
       "<table border=\"1\" class=\"dataframe\">\n",
       "  <thead>\n",
       "    <tr style=\"text-align: right;\">\n",
       "      <th></th>\n",
       "      <th>제품번호</th>\n",
       "      <th>물품명</th>\n",
       "      <th>물품대분류</th>\n",
       "      <th>물품중분류</th>\n",
       "      <th>상품중량</th>\n",
       "    </tr>\n",
       "  </thead>\n",
       "  <tbody>\n",
       "    <tr>\n",
       "      <th>0</th>\n",
       "      <td>100021V2_0</td>\n",
       "      <td>2단무늬컵</td>\n",
       "      <td>식기/편백</td>\n",
       "      <td>자기</td>\n",
       "      <td>1p</td>\n",
       "    </tr>\n",
       "    <tr>\n",
       "      <th>1</th>\n",
       "      <td>100022V2_1</td>\n",
       "      <td>7곡딸기롤과자</td>\n",
       "      <td>과자</td>\n",
       "      <td>스낵</td>\n",
       "      <td>100g/10개입</td>\n",
       "    </tr>\n",
       "    <tr>\n",
       "      <th>2</th>\n",
       "      <td>100023V2_2</td>\n",
       "      <td>7곡참식</td>\n",
       "      <td>식사대용</td>\n",
       "      <td>선식/생식</td>\n",
       "      <td>700g</td>\n",
       "    </tr>\n",
       "    <tr>\n",
       "      <th>3</th>\n",
       "      <td>100024V2_3</td>\n",
       "      <td>가리비</td>\n",
       "      <td>생물수산</td>\n",
       "      <td>패류/갑각류</td>\n",
       "      <td>1.5kg</td>\n",
       "    </tr>\n",
       "    <tr>\n",
       "      <th>4</th>\n",
       "      <td>100025V2_3</td>\n",
       "      <td>가리비</td>\n",
       "      <td>생물수산</td>\n",
       "      <td>패류/갑각류</td>\n",
       "      <td>1kg</td>\n",
       "    </tr>\n",
       "  </tbody>\n",
       "</table>\n",
       "</div>"
      ],
      "text/plain": [
       "         제품번호      물품명  물품대분류   물품중분류       상품중량\n",
       "0  100021V2_0    2단무늬컵  식기/편백      자기         1p\n",
       "1  100022V2_1  7곡딸기롤과자     과자      스낵  100g/10개입\n",
       "2  100023V2_2     7곡참식   식사대용   선식/생식       700g\n",
       "3  100024V2_3      가리비   생물수산  패류/갑각류      1.5kg\n",
       "4  100025V2_3      가리비   생물수산  패류/갑각류        1kg"
      ]
     },
     "execution_count": 12,
     "metadata": {},
     "output_type": "execute_result"
    }
   ],
   "source": [
    "df_product.head()"
   ]
  },
  {
   "cell_type": "markdown",
   "id": "c1ea8a85-af8e-4c68-856c-30a5869cdd09",
   "metadata": {},
   "source": [
    "df_sales.head()"
   ]
  },
  {
   "cell_type": "markdown",
   "id": "27362498-c981-422c-87bd-774d7706a352",
   "metadata": {},
   "source": [
    "고객이탈률 - 탈퇴회원의 비율"
   ]
  },
  {
   "cell_type": "code",
   "execution_count": 69,
   "id": "2a8b8ba5-3c06-483e-b1ca-ff6670949975",
   "metadata": {},
   "outputs": [
    {
     "name": "stdout",
     "output_type": "stream",
     "text": [
      "탈퇴회원 비율: 1.24%\n"
     ]
    }
   ],
   "source": [
    "# 전체 회원 수 계산\n",
    "total_members = len(df_member)\n",
    "\n",
    "# 탈퇴회원 수 계산 (\"탈퇴\" 상태인 회원 수)\n",
    "churned_members = (df_member['회원상태'] == '탈퇴').sum()\n",
    "\n",
    "# 계산\n",
    "churn_rate = (churned_members / total_members) * 100\n",
    "\n",
    "# 결과 출력 \n",
    "print(f\"탈퇴회원 비율: {churn_rate:.2f}%\")"
   ]
  },
  {
   "cell_type": "markdown",
   "id": "1c1ea9ea-2af4-4563-8080-ba84c9dd975d",
   "metadata": {},
   "source": [
    "고객이탈률 - 정상 회원중 최근2개월 구매이력이 없는 비율"
   ]
  },
  {
   "cell_type": "code",
   "execution_count": 61,
   "id": "26e2de94-907c-4ea2-9ab5-a278836126f0",
   "metadata": {},
   "outputs": [
    {
     "name": "stdout",
     "output_type": "stream",
     "text": [
      "2021-09-01 이후 구매 이력이 없는 고객 비율: 37.61%\n"
     ]
    }
   ],
   "source": [
    "import pandas as pd\n",
    "\n",
    "# 주문일시 컬럼을 날짜 형식으로 변환\n",
    "df_sales['주문일시'] = pd.to_datetime(df_sales['주문일시'], errors='coerce')\n",
    "\n",
    "# 최근 구매한 고객 리스트 (2021-09-01 이후 구매한 고객)\n",
    "recent_buyers = df_sales[df_sales['주문일시'] > '2021-09-01']['회원번호'].unique()\n",
    "\n",
    "# 전체 회원 수 구하기\n",
    "total_members = len(df_member)\n",
    "\n",
    "# 구매 이력이 없는 고객 수 계산\n",
    "inactive_members = total_members - len(df_member[df_member['회원번호'].isin(recent_buyers)])\n",
    "\n",
    "# 비율 계산 및 출력\n",
    "inactive_rate = (inactive_members / total_members) * 100\n",
    "print(f\"2021-09-01 이후 구매 이력이 없는 고객 비율: {inactive_rate:.2f}%\")"
   ]
  },
  {
   "cell_type": "markdown",
   "id": "3811abd7-049e-4fdd-b185-af268e7d2782",
   "metadata": {},
   "source": [
    "월별 고객 주문횟수 분표"
   ]
  },
  {
   "cell_type": "code",
   "execution_count": 76,
   "id": "c3b2b7e8-6c13-4375-9bf4-0365eeb5e5f4",
   "metadata": {},
   "outputs": [],
   "source": [
    "import matplotlib.pyplot as plt\n",
    "import matplotlib.font_manager as fm\n",
    "\n",
    "\n",
    "plt.rc('font', family='Malgun Gothic') \n",
    "plt.rcParams['axes.unicode_minus'] = False"
   ]
  },
  {
   "cell_type": "code",
   "execution_count": 77,
   "id": "b841576c-d5ce-4868-8612-8d09a9222185",
   "metadata": {},
   "outputs": [
    {
     "data": {
      "image/png": "[encoded data removed]",
      "text/plain": [
       "<Figure size 640x480 with 1 Axes>"
      ]
     },
     "metadata": {},
     "output_type": "display_data"
    }
   ],
   "source": [
    "import pandas as pd\n",
    "import matplotlib.pyplot as plt\n",
    "\n",
    "# 주문일시를 datetime 형식으로 변환\n",
    "df_sales['주문일시'] = pd.to_datetime(df_sales['주문일시'], errors='coerce')\n",
    "\n",
    "# 월별 총 주문 횟수\n",
    "pivot_table = df_sales.pivot_table(index=df_sales['주문일시'].dt.to_period('M'), \n",
    "                                   values='회원번호', aggfunc='count')\n",
    "\n",
    "# 그래프 그리기\n",
    "plt.plot(pivot_table.index.astype(str), pivot_table['회원번호'], marker='o')\n",
    "plt.xlabel('월')\n",
    "plt.ylabel('총 주문량')\n",
    "plt.title('월별 총 주문량')\n",
    "plt.show()"
   ]
  },
  {
   "cell_type": "markdown",
   "id": "a576b506-e280-4186-9993-ef744c181167",
   "metadata": {},
   "source": [
    "장기고객의 비율"
   ]
  },
  {
   "cell_type": "markdown",
   "id": "3bcfa285-0d4b-4ed9-aaff-53b1859dee80",
   "metadata": {},
   "source": [
    "고객별 활동기간 (첫 구매날짜 - 최근 구매날짜)  "
   ]
  },
  {
   "cell_type": "markdown",
   "id": "a476d021-0a54-427d-addc-890763d144de",
   "metadata": {},
   "source": [
    "최근 구매 날짜가 9월 1일 이후이면서 장기 고객(활동기간 3개월 이상)의 비율"
   ]
  },
  {
   "cell_type": "code",
   "execution_count": 98,
   "id": "9047c2fa-60ca-46e7-9fc1-0ef927b04d97",
   "metadata": {},
   "outputs": [
    {
     "name": "stdout",
     "output_type": "stream",
     "text": [
      "장기 고객 수: 6759명\n",
      "장기 고객 비율: 53.90%\n"
     ]
    }
   ],
   "source": [
    "# 주문일시를 datetime 형식으로 변환\n",
    "df_sales['주문일시'] = pd.to_datetime(df_sales['주문일시'], errors='coerce')\n",
    "\n",
    "# Pivot Table을 사용해 고객별 첫 구매일(min)과 최신 구매일(max) 계산\n",
    "pivot_table = df_sales.pivot_table(index='회원번호', values='주문일시', aggfunc=['min', 'max'])\n",
    "\n",
    "# 컬럼 이름 변경\n",
    "pivot_table.columns = ['첫 구매일', '최신 구매일']\n",
    "\n",
    "# 활동 기간(최신 구매일 - 첫 구매일) 계산\n",
    "pivot_table['활동기간(일)'] = (pivot_table['최신 구매일'] - pivot_table['첫 구매일']).dt.days\n",
    "\n",
    "# 최신 구매일이 2021-09-01 이후인 고객 필터링\n",
    "recent_customers = pivot_table[pivot_table['최신 구매일'] > cutoff_date]\n",
    "\n",
    "# 활동 기간이 3개월(90일) 이상인 고객 필터링\n",
    "long_term_customers = recent_customers[recent_customers['활동기간(일)'] >= 90]\n",
    "\n",
    "# 전체 고객 수 및 장기 고객 비율 계산\n",
    "total_customers = len(pivot_table)\n",
    "long_term_ratio = (len(long_term_customers) / total_customers) * 100\n",
    "\n",
    "# 결과 출력\n",
    "print(f\"장기 고객 수: {len(long_term_customers)}명\")\n",
    "print(f\"장기 고객 비율: {long_term_ratio:.2f}%\")"
   ]
  }
 ],
 "metadata": {
  "kernelspec": {
   "display_name": "Python 3 (ipykernel)",
   "language": "python",
   "name": "python3"
  },
  "language_info": {
   "codemirror_mode": {
    "name": "ipython",
    "version": 3
   },
   "file_extension": ".py",
   "mimetype": "text/x-python",
   "name": "python",
   "nbconvert_exporter": "python",
   "pygments_lexer": "ipython3",
   "version": "3.12.7"
  }
 },
 "nbformat": 4,
 "nbformat_minor": 5
}
