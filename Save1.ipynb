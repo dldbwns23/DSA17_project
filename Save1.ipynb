{
 "cells": [
  {
   "cell_type": "code",
   "execution_count": 1,
   "id": "f161ce01-7de9-4b31-b816-187c641cb56d",
   "metadata": {},
   "outputs": [],
   "source": [
    "import pandas as pd\n",
    "import matplotlib as mpl\n",
    "import matplotlib.pyplot as plt\n",
    "import seaborn as sns\n",
    "import scipy.stats as stats\n",
    "import plotly.express as px\n",
    "mpl.rc('font', family='Malgun Gothic')"
   ]
  },
  {
   "cell_type": "code",
   "execution_count": 3,
   "id": "852ec092-e7d4-48d4-833a-0ce33c698982",
   "metadata": {},
   "outputs": [],
   "source": [
    "df_member = pd.read_csv('Member_Data.csv', encoding='EUC-KR')\n",
    "df_product = pd.read_csv('Product_Data.csv')\n",
    "df_sales = pd.read_csv('Sales_Data05.csv')"
   ]
  },
  {
   "cell_type": "markdown",
   "id": "2fa4312b-6393-443a-a0f5-1b38ebb52044",
   "metadata": {},
   "source": [
    "# 1\n",
    ": 고객별 연령대, 거주지, 구매빈도, 구매금액, 구매제품종류(중분류, 소분류, 제품번호 등 다양한 범위에서) 등의 데이터에서 고객 그룹에 대한 특징을 파악[군집분석, RFM분석 등]하고 비슷한 고객 군집 생성해 고객 유형을 설정."
   ]
  },
  {
   "cell_type": "markdown",
   "id": "036c5a78-e00a-44ea-9bbb-acfe613009f2",
   "metadata": {},
   "source": [
    "# RMF 분석"
   ]
  },
  {
   "cell_type": "code",
   "execution_count": 112,
   "id": "1d13d900-1747-47de-9c0d-85ab5528219f",
   "metadata": {},
   "outputs": [],
   "source": [
    "# 날짜 변환\n",
    "df_sales['주문일시'] = pd.to_datetime(df_sales['주문일시'], errors='coerce')\n",
    "latest_date = df_sales['주문일시'].max()  # 데이터 내 최신 주문일\n",
    "\n",
    "# RFM분석\n",
    "rfm = pd.pivot_table(df_sales, index=\"회원번호\",values=[\"주문일시\", \"구매금액\"],\n",
    "    aggfunc={\"주문일시\": [lambda x: (latest_date - x.max()).days, \"count\"], \"구매금액\": \"sum\"}).reset_index()\n",
    "\n",
    "# 컬럼 이름 변경\n",
    "rfm.columns = [\"회원번호\", \"Recency\", \"Frequency\", \"Monetary\"]\n",
    "\n",
    "# RFM 점수 (5단계 )\n",
    "rfm[\"R_Score\"] = pd.qcut(rfm[\"Recency\"], 5, labels=[5, 4, 3, 2, 1])\n",
    "rfm[\"F_Score\"] = pd.qcut(rfm[\"Frequency\"], 5, labels=[1, 2, 3, 4, 5])\n",
    "rfm[\"M_Score\"] = pd.qcut(rfm[\"Monetary\"], 5, labels=[1, 2, 3, 4, 5])\n",
    "\n",
    "# 최종 RFM 점수 계산\n",
    "rfm[\"RFM_Score\"] = rfm[[\"R_Score\", \"F_Score\", \"M_Score\"]].astype(int).sum(axis=1)"
   ]
  },
  {
   "cell_type": "code",
   "execution_count": 114,
   "id": "c25af4e8-0c7c-47d8-9f60-c7689e33435d",
   "metadata": {},
   "outputs": [
    {
     "data": {
      "image/png": "[encoded data removed]",
      "text/plain": [
       "<Figure size 800x400 with 1 Axes>"
      ]
     },
     "metadata": {},
     "output_type": "display_data"
    }
   ],
   "source": [
    "# RFM Score 분포 히스토그램\n",
    "plt.figure(figsize=(8, 4))\n",
    "plt.hist(rfm[\"RFM_Score\"], edgecolor=\"black\")\n",
    "plt.title(\"RFM Score Distribution\")\n",
    "plt.xlabel(\"RFM Score\")\n",
    "plt.ylabel(\"count\")\n",
    "plt.show()"
   ]
  },
  {
   "cell_type": "markdown",
   "id": "86bdc934-9c7a-4718-b515-4144cf6896eb",
   "metadata": {},
   "source": [
    "# 분집분석"
   ]
  },
  {
   "cell_type": "code",
   "execution_count": null,
   "id": "bad79217-5ae1-437f-b45e-28108ccf51a4",
   "metadata": {},
   "outputs": [],
   "source": []
  }
 ],
 "metadata": {
  "kernelspec": {
   "display_name": "Python 3 (ipykernel)",
   "language": "python",
   "name": "python3"
  },
  "language_info": {
   "codemirror_mode": {
    "name": "ipython",
    "version": 3
   },
   "file_extension": ".py",
   "mimetype": "text/x-python",
   "name": "python",
   "nbconvert_exporter": "python",
   "pygments_lexer": "ipython3",
   "version": "3.12.7"
  }
 },
 "nbformat": 4,
 "nbformat_minor": 5
}
